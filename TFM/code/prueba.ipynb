{
 "cells": [
  {
   "cell_type": "markdown",
   "metadata": {},
   "source": [
    "# Lectura de datos"
   ]
  },
  {
   "cell_type": "code",
   "execution_count": 1,
   "metadata": {
    "metadata": {}
   },
   "outputs": [],
   "source": [
    "import os\n",
    "\n",
    "ruta_al_directorio = '/home/TFM/code'\n",
    "\n",
    "os.chdir(ruta_al_directorio)"
   ]
  },
  {
   "cell_type": "code",
   "execution_count": 2,
   "metadata": {
    "metadata": {}
   },
   "outputs": [],
   "source": [
    "import torch\n",
    "import numpy as np\n",
    "import pandas as pd\n",
    "import random\n",
    "from gnn.model import get_gnnNets\n",
    "from gendata import get_dataset\n",
    "from utils.parser_utils import (\n",
    "    arg_parse,\n",
    "    create_args_group,\n",
    "    fix_random_seed,\n",
    "    get_data_args,\n",
    "    get_graph_size_args,\n",
    ")\n",
    "from pathlib import Path\n",
    "from torch_geometric.utils import degree\n"
   ]
  },
  {
   "cell_type": "markdown",
   "metadata": {},
   "source": [
    "## Forma manual - entender el código proporcionado"
   ]
  },
  {
   "cell_type": "code",
   "execution_count": 3,
   "metadata": {
    "metadata": {}
   },
   "outputs": [],
   "source": [
    "import os.path as osp\n",
    "import torch\n",
    "import mat73\n",
    "from sklearn.model_selection import train_test_split\n",
    "import os\n",
    "from torch_geometric.data import InMemoryDataset, Data, download_url, extract_zip\n",
    "import torch\n",
    "from torch_geometric.data import Data\n",
    "import numpy as np\n",
    "from utils.gen_utils import from_edge_index_to_adj, padded_datalist"
   ]
  },
  {
   "cell_type": "code",
   "execution_count": 4,
   "metadata": {
    "metadata": {}
   },
   "outputs": [],
   "source": [
    "names = {\n",
    "        \"uk\": [\"uk\", \"Uk\", \"UK\", None],\n",
    "        \"ieee24\": [\"ieee24\", \"Ieee24\", \"IEEE24\", None],\n",
    "        \"ieee39\": [\"ieee39\", \"Ieee39\", \"IEEE39\", None],\n",
    "        \"ieee118\": [\"ieee118\", \"Ieee118\", \"IEEE118\", None],\n",
    "            }\n",
    "name = \"ieee24\"\n",
    "raw_dir = '/home/dataset/{}/raw'.format(name)"
   ]
  },
  {
   "cell_type": "code",
   "execution_count": 5,
   "metadata": {
    "metadata": {}
   },
   "outputs": [],
   "source": [
    "device = torch.device('cuda:2' if torch.cuda.is_available() else 'cpu')"
   ]
  },
  {
   "cell_type": "code",
   "execution_count": 6,
   "metadata": {
    "metadata": {}
   },
   "outputs": [],
   "source": [
    "# load branch list also called edge order or edge index\n",
    "path = os.path.join(raw_dir, 'blist.mat')\n",
    "edge_order = mat73.loadmat(path)\n",
    "edge_order = torch.tensor(edge_order[\"bList\"] - 1)\n",
    "\n",
    "\n",
    "# load output binary classification labels\n",
    "path = os.path.join(raw_dir, 'of_bi.mat')\n",
    "of_bi = mat73.loadmat(path)\n",
    "\n",
    "# load output binary regression labels\n",
    "path = os.path.join(raw_dir, 'of_reg.mat')\n",
    "of_reg = mat73.loadmat(path)\n",
    "\n",
    "# load output mc labels\n",
    "path = os.path.join(raw_dir, 'of_mc.mat')\n",
    "of_mc = mat73.loadmat(path)\n",
    "\n",
    "\n",
    "# load output node feature matrix\n",
    "path = os.path.join(raw_dir, 'Bf.mat')\n",
    "node_f = mat73.loadmat(path)\n",
    "\n",
    "\n",
    "# load output edge feature matrix\n",
    "path = os.path.join(raw_dir, 'Ef.mat')\n",
    "edge_f = mat73.loadmat(path)\n",
    "\n",
    "\n",
    "# load explanations\n",
    "path = os.path.join(raw_dir, \"exp.mat\")\n",
    "exp = mat73.loadmat(path)"
   ]
  },
  {
   "cell_type": "code",
   "execution_count": 7,
   "metadata": {
    "metadata": {}
   },
   "outputs": [],
   "source": [
    "node_f = node_f['B_f_tot']\n",
    "edge_f = edge_f['E_f_post']\n",
    "of_bi = of_bi['output_features']\n",
    "of_mc = of_mc['category']\n",
    "of_reg = of_reg['dns_MW']\n",
    "exp_mask = exp[\"explainations\"]"
   ]
  },
  {
   "cell_type": "code",
   "execution_count": 8,
   "metadata": {
    "metadata": {}
   },
   "outputs": [],
   "source": [
    "data_list = []\n",
    "adj_list = []\n",
    "max_num_nodes = 0\n",
    "index = 0\n"
   ]
  },
  {
   "cell_type": "markdown",
   "metadata": {},
   "source": [
    "Bucle principal de procesamiento:\n",
    "\n",
    "Para cada grafo del dataset (resultado de un corte), hacemos.\n",
    "- Cogemos las características de los nodos y aristas\n",
    "- Procesamos las aristas:\n",
    "    1. Se crea una máscara que tiene a 1 las aristas que fueron parte del inicio del fallo\n",
    "    2. Se eliminan las contingencias (aristas que tengan todo a 0 al final) de la máscara, y se duplica la máscara \n",
    "    3. Se eliminan las contingencias de la matriz de atributos de aristas\n",
    "    4. Se duplican las características de las aristas, para tener en cuenta los ejes en ambos sentidos\n",
    "    5. Se eliminan las contingencias de la lista de aristas general (para obtener una versión de cada grafo)\n",
    "    6. Se duplica la lista de aristas general\n",
    "- Creamos un objeto Data, que representa un grafo, y lo procesamos correctamente:\n",
    "    - Las etiquetas 0 se transforman a 1, y las etiquetas 1 se cambian a -1\n",
    "    - Se guarda en una lista de objetos Data\n",
    "- Se obtiene la matriz de adyacencia, y se guarda en una lista de matrices de adyacencia\n",
    "\n",
    "\n"
   ]
  },
  {
   "cell_type": "code",
   "execution_count": 9,
   "metadata": {
    "metadata": {}
   },
   "outputs": [],
   "source": [
    "def th_delete(tensor, indices):\n",
    "            mask = torch.ones(tensor.size(), dtype=torch.bool)\n",
    "            mask[indices] = False\n",
    "            return tensor[mask]"
   ]
  },
  {
   "cell_type": "code",
   "execution_count": 10,
   "metadata": {
    "metadata": {}
   },
   "outputs": [],
   "source": [
    "datatype = 'binary'\n",
    "pre_filter = None\n",
    "pre_transform = None\n",
    "#Iteramos a través de todo el dataset:\n",
    "\n",
    "for i in range(len(node_f)):\n",
    "    # node output features\n",
    "    x = torch.tensor(node_f[i][0], dtype=torch.float32).reshape([-1, 3]).to(device)\n",
    "    # edge output features\n",
    "    f = torch.tensor(edge_f[i][0], dtype=torch.float32)\n",
    "\n",
    "\n",
    "    #Se ponen a 1 las aristas que empezaron con la cascada de fallos\n",
    "    e_mask = torch.zeros(len(edge_f[i][0]), 1)\n",
    "    if exp_mask[i][0] is None:  # .all() == 0:\n",
    "        e_mask = e_mask\n",
    "    else:\n",
    "        e_mask[exp_mask[i][0].astype('int')-1] = 1\n",
    "\n",
    "        \n",
    "    # contigency lists, finds where do we have contigencies from the .mat edge feature matrices\n",
    "    # ( if a line is part of the contigency list all egde features are set 0)\n",
    "    cont = [j for j in range(len(f)) if np.all(np.array(f[j])) == 0]\n",
    "    e_mask_post = th_delete(e_mask, cont)\n",
    "    e_mask_post = torch.cat((e_mask_post, e_mask_post), 0).to(device)\n",
    "\n",
    "    \n",
    "    # remove edge features of the associated line\n",
    "    f_tot = th_delete(f, cont).reshape([-1, 4]).type(torch.float32)\n",
    "\n",
    "\n",
    "    # concat the post-contigency edge feature matrix to take into account the reversed edges\n",
    "    f_totw = torch.cat((f_tot, f_tot), 0).to(device)\n",
    "\n",
    "    \n",
    "    # remove failed lines from branch list\n",
    "    edge_iw = th_delete(edge_order, cont).reshape(-1, 2).type(torch.long)\n",
    "    # flip branch list\n",
    "    edge_iwr = torch.fliplr(edge_iw)\n",
    "    \n",
    "    #  and concat the non flipped and flipped branch list\n",
    "    edge_iw = torch.cat((edge_iw, edge_iwr), 0)\n",
    "    edge_iw = edge_iw.t().contiguous().to(device)\n",
    "\n",
    "    if datatype.lower() == 'binary':\n",
    "        ydata = torch.tensor(of_bi[i][0], dtype=torch.float, device=device).view(1, -1)\n",
    "    if datatype.lower() == 'regression':\n",
    "        ydata = torch.tensor(of_reg[i], dtype=torch.float, device=device).view(1, -1)\n",
    "    if datatype.lower() == 'multiclass':\n",
    "        #do argmax\n",
    "        ydata = torch.tensor(np.argmax(of_mc[i][0]), dtype=torch.float, device=device).view(1, -1)\n",
    "        # ydata = torch.tensor(of_mc[i][0], dtype=torch.int, device=device).view(1, -1)\n",
    "    # Fill Data object, 1 Data object -> 1 graph\n",
    "\n",
    "    data = Data(x=x, edge_index=edge_iw, edge_attr=f_totw, y=ydata, edge_mask=e_mask_post, idx=index)\n",
    "    index+=1\n",
    "    if ydata == 0:\n",
    "        ydata_cf = torch.tensor(1, dtype=torch.int, device=device).view(-1)\n",
    "    else:\n",
    "        ydata_cf = torch.tensor(-1, dtype=torch.int, device=device).view(-1)\n",
    "    data.y_cf = ydata_cf\n",
    "\n",
    "\n",
    "    \n",
    "    adj = from_edge_index_to_adj(data.edge_index, None, data.num_nodes)\n",
    "    adj_list.append(adj)\n",
    "    max_num_nodes = max(max_num_nodes, data.num_nodes)\n",
    "    # append Data object to datalist\n",
    "    data_list.append(data)\n",
    "    if pre_filter is not None and not pre_filter(data):\n",
    "        continue\n",
    "\n",
    "    if pre_transform is not None:\n",
    "        data = pre_transform(data)\n",
    "\n",
    "\n",
    "\n",
    "\n",
    "data_list = padded_datalist(data_list, adj_list, max_num_nodes)\n"
   ]
  },
  {
   "cell_type": "code",
   "execution_count": 11,
   "metadata": {
    "metadata": {}
   },
   "outputs": [
    {
     "data": {
      "text/plain": [
       "Data(x=[24, 3], edge_index=[2, 74], edge_attr=[74, 4], y=[1, 1], edge_mask=[74], idx=0, y_cf=[1], adj_padded=[24, 24], x_padded=[24, 3])"
      ]
     },
     "execution_count": 11,
     "metadata": {},
     "output_type": "execute_result"
    }
   ],
   "source": [
    "grafo_1 = data_list[0]\n",
    "grafo_1"
   ]
  },
  {
   "cell_type": "code",
   "execution_count": 19,
   "metadata": {
    "metadata": {}
   },
   "outputs": [
    {
     "data": {
      "text/plain": [
       "[Data(x=[24, 3], edge_index=[2, 74], edge_attr=[74, 4], y=[1, 1], edge_mask=[74], idx=0, y_cf=[1], adj_padded=[24, 24], x_padded=[24, 3]),\n",
       " Data(x=[24, 3], edge_index=[2, 74], edge_attr=[74, 4], y=[1, 1], edge_mask=[74], idx=1, y_cf=[1], adj_padded=[24, 24], x_padded=[24, 3]),\n",
       " Data(x=[24, 3], edge_index=[2, 74], edge_attr=[74, 4], y=[1, 1], edge_mask=[74], idx=2, y_cf=[1], adj_padded=[24, 24], x_padded=[24, 3]),\n",
       " Data(x=[24, 3], edge_index=[2, 74], edge_attr=[74, 4], y=[1, 1], edge_mask=[74], idx=3, y_cf=[1], adj_padded=[24, 24], x_padded=[24, 3]),\n",
       " Data(x=[24, 3], edge_index=[2, 74], edge_attr=[74, 4], y=[1, 1], edge_mask=[74], idx=4, y_cf=[1], adj_padded=[24, 24], x_padded=[24, 3]),\n",
       " Data(x=[24, 3], edge_index=[2, 74], edge_attr=[74, 4], y=[1, 1], edge_mask=[74], idx=5, y_cf=[1], adj_padded=[24, 24], x_padded=[24, 3]),\n",
       " Data(x=[24, 3], edge_index=[2, 74], edge_attr=[74, 4], y=[1, 1], edge_mask=[74], idx=6, y_cf=[1], adj_padded=[24, 24], x_padded=[24, 3]),\n",
       " Data(x=[24, 3], edge_index=[2, 74], edge_attr=[74, 4], y=[1, 1], edge_mask=[74], idx=7, y_cf=[1], adj_padded=[24, 24], x_padded=[24, 3]),\n",
       " Data(x=[24, 3], edge_index=[2, 74], edge_attr=[74, 4], y=[1, 1], edge_mask=[74], idx=8, y_cf=[1], adj_padded=[24, 24], x_padded=[24, 3]),\n",
       " Data(x=[24, 3], edge_index=[2, 74], edge_attr=[74, 4], y=[1, 1], edge_mask=[74], idx=9, y_cf=[1], adj_padded=[24, 24], x_padded=[24, 3]),\n",
       " Data(x=[24, 3], edge_index=[2, 74], edge_attr=[74, 4], y=[1, 1], edge_mask=[74], idx=10, y_cf=[1], adj_padded=[24, 24], x_padded=[24, 3]),\n",
       " Data(x=[24, 3], edge_index=[2, 74], edge_attr=[74, 4], y=[1, 1], edge_mask=[74], idx=11, y_cf=[1], adj_padded=[24, 24], x_padded=[24, 3]),\n",
       " Data(x=[24, 3], edge_index=[2, 74], edge_attr=[74, 4], y=[1, 1], edge_mask=[74], idx=12, y_cf=[1], adj_padded=[24, 24], x_padded=[24, 3]),\n",
       " Data(x=[24, 3], edge_index=[2, 74], edge_attr=[74, 4], y=[1, 1], edge_mask=[74], idx=13, y_cf=[1], adj_padded=[24, 24], x_padded=[24, 3]),\n",
       " Data(x=[24, 3], edge_index=[2, 74], edge_attr=[74, 4], y=[1, 1], edge_mask=[74], idx=14, y_cf=[1], adj_padded=[24, 24], x_padded=[24, 3]),\n",
       " Data(x=[24, 3], edge_index=[2, 74], edge_attr=[74, 4], y=[1, 1], edge_mask=[74], idx=15, y_cf=[1], adj_padded=[24, 24], x_padded=[24, 3]),\n",
       " Data(x=[24, 3], edge_index=[2, 74], edge_attr=[74, 4], y=[1, 1], edge_mask=[74], idx=16, y_cf=[1], adj_padded=[24, 24], x_padded=[24, 3]),\n",
       " Data(x=[24, 3], edge_index=[2, 74], edge_attr=[74, 4], y=[1, 1], edge_mask=[74], idx=17, y_cf=[1], adj_padded=[24, 24], x_padded=[24, 3]),\n",
       " Data(x=[24, 3], edge_index=[2, 74], edge_attr=[74, 4], y=[1, 1], edge_mask=[74], idx=18, y_cf=[1], adj_padded=[24, 24], x_padded=[24, 3]),\n",
       " Data(x=[24, 3], edge_index=[2, 74], edge_attr=[74, 4], y=[1, 1], edge_mask=[74], idx=19, y_cf=[1], adj_padded=[24, 24], x_padded=[24, 3]),\n",
       " Data(x=[24, 3], edge_index=[2, 74], edge_attr=[74, 4], y=[1, 1], edge_mask=[74], idx=20, y_cf=[1], adj_padded=[24, 24], x_padded=[24, 3]),\n",
       " Data(x=[24, 3], edge_index=[2, 74], edge_attr=[74, 4], y=[1, 1], edge_mask=[74], idx=21, y_cf=[1], adj_padded=[24, 24], x_padded=[24, 3]),\n",
       " Data(x=[24, 3], edge_index=[2, 74], edge_attr=[74, 4], y=[1, 1], edge_mask=[74], idx=22, y_cf=[1], adj_padded=[24, 24], x_padded=[24, 3]),\n",
       " Data(x=[24, 3], edge_index=[2, 74], edge_attr=[74, 4], y=[1, 1], edge_mask=[74], idx=23, y_cf=[1], adj_padded=[24, 24], x_padded=[24, 3]),\n",
       " Data(x=[24, 3], edge_index=[2, 74], edge_attr=[74, 4], y=[1, 1], edge_mask=[74], idx=24, y_cf=[1], adj_padded=[24, 24], x_padded=[24, 3]),\n",
       " Data(x=[24, 3], edge_index=[2, 74], edge_attr=[74, 4], y=[1, 1], edge_mask=[74], idx=25, y_cf=[1], adj_padded=[24, 24], x_padded=[24, 3]),\n",
       " Data(x=[24, 3], edge_index=[2, 74], edge_attr=[74, 4], y=[1, 1], edge_mask=[74], idx=26, y_cf=[1], adj_padded=[24, 24], x_padded=[24, 3]),\n",
       " Data(x=[24, 3], edge_index=[2, 74], edge_attr=[74, 4], y=[1, 1], edge_mask=[74], idx=27, y_cf=[1], adj_padded=[24, 24], x_padded=[24, 3]),\n",
       " Data(x=[24, 3], edge_index=[2, 74], edge_attr=[74, 4], y=[1, 1], edge_mask=[74], idx=28, y_cf=[1], adj_padded=[24, 24], x_padded=[24, 3]),\n",
       " Data(x=[24, 3], edge_index=[2, 74], edge_attr=[74, 4], y=[1, 1], edge_mask=[74], idx=29, y_cf=[1], adj_padded=[24, 24], x_padded=[24, 3]),\n",
       " Data(x=[24, 3], edge_index=[2, 72], edge_attr=[72, 4], y=[1, 1], edge_mask=[72], idx=30, y_cf=[1], adj_padded=[24, 24], x_padded=[24, 3]),\n",
       " Data(x=[24, 3], edge_index=[2, 74], edge_attr=[74, 4], y=[1, 1], edge_mask=[74], idx=31, y_cf=[1], adj_padded=[24, 24], x_padded=[24, 3]),\n",
       " Data(x=[24, 3], edge_index=[2, 74], edge_attr=[74, 4], y=[1, 1], edge_mask=[74], idx=32, y_cf=[1], adj_padded=[24, 24], x_padded=[24, 3]),\n",
       " Data(x=[24, 3], edge_index=[2, 74], edge_attr=[74, 4], y=[1, 1], edge_mask=[74], idx=33, y_cf=[1], adj_padded=[24, 24], x_padded=[24, 3]),\n",
       " Data(x=[24, 3], edge_index=[2, 74], edge_attr=[74, 4], y=[1, 1], edge_mask=[74], idx=34, y_cf=[1], adj_padded=[24, 24], x_padded=[24, 3]),\n",
       " Data(x=[24, 3], edge_index=[2, 74], edge_attr=[74, 4], y=[1, 1], edge_mask=[74], idx=35, y_cf=[1], adj_padded=[24, 24], x_padded=[24, 3]),\n",
       " Data(x=[24, 3], edge_index=[2, 74], edge_attr=[74, 4], y=[1, 1], edge_mask=[74], idx=36, y_cf=[1], adj_padded=[24, 24], x_padded=[24, 3]),\n",
       " Data(x=[24, 3], edge_index=[2, 74], edge_attr=[74, 4], y=[1, 1], edge_mask=[74], idx=37, y_cf=[1], adj_padded=[24, 24], x_padded=[24, 3]),\n",
       " Data(x=[24, 3], edge_index=[2, 72], edge_attr=[72, 4], y=[1, 1], edge_mask=[72], idx=38, y_cf=[1], adj_padded=[24, 24], x_padded=[24, 3]),\n",
       " Data(x=[24, 3], edge_index=[2, 72], edge_attr=[72, 4], y=[1, 1], edge_mask=[72], idx=39, y_cf=[1], adj_padded=[24, 24], x_padded=[24, 3]),\n",
       " Data(x=[24, 3], edge_index=[2, 72], edge_attr=[72, 4], y=[1, 1], edge_mask=[72], idx=40, y_cf=[1], adj_padded=[24, 24], x_padded=[24, 3]),\n",
       " Data(x=[24, 3], edge_index=[2, 74], edge_attr=[74, 4], y=[1, 1], edge_mask=[74], idx=41, y_cf=[1], adj_padded=[24, 24], x_padded=[24, 3]),\n",
       " Data(x=[24, 3], edge_index=[2, 72], edge_attr=[72, 4], y=[1, 1], edge_mask=[72], idx=42, y_cf=[1], adj_padded=[24, 24], x_padded=[24, 3]),\n",
       " Data(x=[24, 3], edge_index=[2, 74], edge_attr=[74, 4], y=[1, 1], edge_mask=[74], idx=43, y_cf=[1], adj_padded=[24, 24], x_padded=[24, 3]),\n",
       " Data(x=[24, 3], edge_index=[2, 74], edge_attr=[74, 4], y=[1, 1], edge_mask=[74], idx=44, y_cf=[1], adj_padded=[24, 24], x_padded=[24, 3]),\n",
       " Data(x=[24, 3], edge_index=[2, 74], edge_attr=[74, 4], y=[1, 1], edge_mask=[74], idx=45, y_cf=[1], adj_padded=[24, 24], x_padded=[24, 3]),\n",
       " Data(x=[24, 3], edge_index=[2, 74], edge_attr=[74, 4], y=[1, 1], edge_mask=[74], idx=46, y_cf=[1], adj_padded=[24, 24], x_padded=[24, 3]),\n",
       " Data(x=[24, 3], edge_index=[2, 74], edge_attr=[74, 4], y=[1, 1], edge_mask=[74], idx=47, y_cf=[1], adj_padded=[24, 24], x_padded=[24, 3]),\n",
       " Data(x=[24, 3], edge_index=[2, 74], edge_attr=[74, 4], y=[1, 1], edge_mask=[74], idx=48, y_cf=[1], adj_padded=[24, 24], x_padded=[24, 3]),\n",
       " Data(x=[24, 3], edge_index=[2, 74], edge_attr=[74, 4], y=[1, 1], edge_mask=[74], idx=49, y_cf=[1], adj_padded=[24, 24], x_padded=[24, 3]),\n",
       " Data(x=[24, 3], edge_index=[2, 74], edge_attr=[74, 4], y=[1, 1], edge_mask=[74], idx=50, y_cf=[1], adj_padded=[24, 24], x_padded=[24, 3]),\n",
       " Data(x=[24, 3], edge_index=[2, 74], edge_attr=[74, 4], y=[1, 1], edge_mask=[74], idx=51, y_cf=[1], adj_padded=[24, 24], x_padded=[24, 3]),\n",
       " Data(x=[24, 3], edge_index=[2, 74], edge_attr=[74, 4], y=[1, 1], edge_mask=[74], idx=52, y_cf=[1], adj_padded=[24, 24], x_padded=[24, 3]),\n",
       " Data(x=[24, 3], edge_index=[2, 74], edge_attr=[74, 4], y=[1, 1], edge_mask=[74], idx=53, y_cf=[1], adj_padded=[24, 24], x_padded=[24, 3]),\n",
       " Data(x=[24, 3], edge_index=[2, 74], edge_attr=[74, 4], y=[1, 1], edge_mask=[74], idx=54, y_cf=[1], adj_padded=[24, 24], x_padded=[24, 3]),\n",
       " Data(x=[24, 3], edge_index=[2, 74], edge_attr=[74, 4], y=[1, 1], edge_mask=[74], idx=55, y_cf=[1], adj_padded=[24, 24], x_padded=[24, 3]),\n",
       " Data(x=[24, 3], edge_index=[2, 74], edge_attr=[74, 4], y=[1, 1], edge_mask=[74], idx=56, y_cf=[1], adj_padded=[24, 24], x_padded=[24, 3]),\n",
       " Data(x=[24, 3], edge_index=[2, 74], edge_attr=[74, 4], y=[1, 1], edge_mask=[74], idx=57, y_cf=[1], adj_padded=[24, 24], x_padded=[24, 3]),\n",
       " Data(x=[24, 3], edge_index=[2, 74], edge_attr=[74, 4], y=[1, 1], edge_mask=[74], idx=58, y_cf=[1], adj_padded=[24, 24], x_padded=[24, 3]),\n",
       " Data(x=[24, 3], edge_index=[2, 74], edge_attr=[74, 4], y=[1, 1], edge_mask=[74], idx=59, y_cf=[1], adj_padded=[24, 24], x_padded=[24, 3]),\n",
       " Data(x=[24, 3], edge_index=[2, 74], edge_attr=[74, 4], y=[1, 1], edge_mask=[74], idx=60, y_cf=[1], adj_padded=[24, 24], x_padded=[24, 3]),\n",
       " Data(x=[24, 3], edge_index=[2, 74], edge_attr=[74, 4], y=[1, 1], edge_mask=[74], idx=61, y_cf=[1], adj_padded=[24, 24], x_padded=[24, 3]),\n",
       " Data(x=[24, 3], edge_index=[2, 74], edge_attr=[74, 4], y=[1, 1], edge_mask=[74], idx=62, y_cf=[1], adj_padded=[24, 24], x_padded=[24, 3]),\n",
       " Data(x=[24, 3], edge_index=[2, 74], edge_attr=[74, 4], y=[1, 1], edge_mask=[74], idx=63, y_cf=[1], adj_padded=[24, 24], x_padded=[24, 3]),\n",
       " Data(x=[24, 3], edge_index=[2, 74], edge_attr=[74, 4], y=[1, 1], edge_mask=[74], idx=64, y_cf=[1], adj_padded=[24, 24], x_padded=[24, 3]),\n",
       " Data(x=[24, 3], edge_index=[2, 74], edge_attr=[74, 4], y=[1, 1], edge_mask=[74], idx=65, y_cf=[1], adj_padded=[24, 24], x_padded=[24, 3]),\n",
       " Data(x=[24, 3], edge_index=[2, 74], edge_attr=[74, 4], y=[1, 1], edge_mask=[74], idx=66, y_cf=[1], adj_padded=[24, 24], x_padded=[24, 3]),\n",
       " Data(x=[24, 3], edge_index=[2, 74], edge_attr=[74, 4], y=[1, 1], edge_mask=[74], idx=67, y_cf=[1], adj_padded=[24, 24], x_padded=[24, 3]),\n",
       " Data(x=[24, 3], edge_index=[2, 74], edge_attr=[74, 4], y=[1, 1], edge_mask=[74], idx=68, y_cf=[1], adj_padded=[24, 24], x_padded=[24, 3]),\n",
       " Data(x=[24, 3], edge_index=[2, 72], edge_attr=[72, 4], y=[1, 1], edge_mask=[72], idx=69, y_cf=[1], adj_padded=[24, 24], x_padded=[24, 3]),\n",
       " Data(x=[24, 3], edge_index=[2, 74], edge_attr=[74, 4], y=[1, 1], edge_mask=[74], idx=70, y_cf=[1], adj_padded=[24, 24], x_padded=[24, 3]),\n",
       " Data(x=[24, 3], edge_index=[2, 74], edge_attr=[74, 4], y=[1, 1], edge_mask=[74], idx=71, y_cf=[1], adj_padded=[24, 24], x_padded=[24, 3]),\n",
       " Data(x=[24, 3], edge_index=[2, 72], edge_attr=[72, 4], y=[1, 1], edge_mask=[72], idx=72, y_cf=[1], adj_padded=[24, 24], x_padded=[24, 3]),\n",
       " Data(x=[24, 3], edge_index=[2, 74], edge_attr=[74, 4], y=[1, 1], edge_mask=[74], idx=73, y_cf=[1], adj_padded=[24, 24], x_padded=[24, 3]),\n",
       " Data(x=[24, 3], edge_index=[2, 74], edge_attr=[74, 4], y=[1, 1], edge_mask=[74], idx=74, y_cf=[1], adj_padded=[24, 24], x_padded=[24, 3]),\n",
       " Data(x=[24, 3], edge_index=[2, 74], edge_attr=[74, 4], y=[1, 1], edge_mask=[74], idx=75, y_cf=[1], adj_padded=[24, 24], x_padded=[24, 3]),\n",
       " Data(x=[24, 3], edge_index=[2, 74], edge_attr=[74, 4], y=[1, 1], edge_mask=[74], idx=76, y_cf=[1], adj_padded=[24, 24], x_padded=[24, 3]),\n",
       " Data(x=[24, 3], edge_index=[2, 74], edge_attr=[74, 4], y=[1, 1], edge_mask=[74], idx=77, y_cf=[1], adj_padded=[24, 24], x_padded=[24, 3]),\n",
       " Data(x=[24, 3], edge_index=[2, 74], edge_attr=[74, 4], y=[1, 1], edge_mask=[74], idx=78, y_cf=[1], adj_padded=[24, 24], x_padded=[24, 3]),\n",
       " Data(x=[24, 3], edge_index=[2, 74], edge_attr=[74, 4], y=[1, 1], edge_mask=[74], idx=79, y_cf=[1], adj_padded=[24, 24], x_padded=[24, 3]),\n",
       " Data(x=[24, 3], edge_index=[2, 74], edge_attr=[74, 4], y=[1, 1], edge_mask=[74], idx=80, y_cf=[1], adj_padded=[24, 24], x_padded=[24, 3]),\n",
       " Data(x=[24, 3], edge_index=[2, 74], edge_attr=[74, 4], y=[1, 1], edge_mask=[74], idx=81, y_cf=[1], adj_padded=[24, 24], x_padded=[24, 3]),\n",
       " Data(x=[24, 3], edge_index=[2, 74], edge_attr=[74, 4], y=[1, 1], edge_mask=[74], idx=82, y_cf=[1], adj_padded=[24, 24], x_padded=[24, 3]),\n",
       " Data(x=[24, 3], edge_index=[2, 72], edge_attr=[72, 4], y=[1, 1], edge_mask=[72], idx=83, y_cf=[1], adj_padded=[24, 24], x_padded=[24, 3]),\n",
       " Data(x=[24, 3], edge_index=[2, 72], edge_attr=[72, 4], y=[1, 1], edge_mask=[72], idx=84, y_cf=[1], adj_padded=[24, 24], x_padded=[24, 3]),\n",
       " Data(x=[24, 3], edge_index=[2, 72], edge_attr=[72, 4], y=[1, 1], edge_mask=[72], idx=85, y_cf=[1], adj_padded=[24, 24], x_padded=[24, 3]),\n",
       " Data(x=[24, 3], edge_index=[2, 74], edge_attr=[74, 4], y=[1, 1], edge_mask=[74], idx=86, y_cf=[1], adj_padded=[24, 24], x_padded=[24, 3]),\n",
       " Data(x=[24, 3], edge_index=[2, 74], edge_attr=[74, 4], y=[1, 1], edge_mask=[74], idx=87, y_cf=[1], adj_padded=[24, 24], x_padded=[24, 3]),\n",
       " Data(x=[24, 3], edge_index=[2, 74], edge_attr=[74, 4], y=[1, 1], edge_mask=[74], idx=88, y_cf=[1], adj_padded=[24, 24], x_padded=[24, 3]),\n",
       " Data(x=[24, 3], edge_index=[2, 74], edge_attr=[74, 4], y=[1, 1], edge_mask=[74], idx=89, y_cf=[1], adj_padded=[24, 24], x_padded=[24, 3]),\n",
       " Data(x=[24, 3], edge_index=[2, 74], edge_attr=[74, 4], y=[1, 1], edge_mask=[74], idx=90, y_cf=[1], adj_padded=[24, 24], x_padded=[24, 3]),\n",
       " Data(x=[24, 3], edge_index=[2, 74], edge_attr=[74, 4], y=[1, 1], edge_mask=[74], idx=91, y_cf=[1], adj_padded=[24, 24], x_padded=[24, 3]),\n",
       " Data(x=[24, 3], edge_index=[2, 74], edge_attr=[74, 4], y=[1, 1], edge_mask=[74], idx=92, y_cf=[1], adj_padded=[24, 24], x_padded=[24, 3]),\n",
       " Data(x=[24, 3], edge_index=[2, 74], edge_attr=[74, 4], y=[1, 1], edge_mask=[74], idx=93, y_cf=[1], adj_padded=[24, 24], x_padded=[24, 3]),\n",
       " Data(x=[24, 3], edge_index=[2, 74], edge_attr=[74, 4], y=[1, 1], edge_mask=[74], idx=94, y_cf=[1], adj_padded=[24, 24], x_padded=[24, 3]),\n",
       " Data(x=[24, 3], edge_index=[2, 74], edge_attr=[74, 4], y=[1, 1], edge_mask=[74], idx=95, y_cf=[1], adj_padded=[24, 24], x_padded=[24, 3]),\n",
       " Data(x=[24, 3], edge_index=[2, 74], edge_attr=[74, 4], y=[1, 1], edge_mask=[74], idx=96, y_cf=[1], adj_padded=[24, 24], x_padded=[24, 3]),\n",
       " Data(x=[24, 3], edge_index=[2, 74], edge_attr=[74, 4], y=[1, 1], edge_mask=[74], idx=97, y_cf=[1], adj_padded=[24, 24], x_padded=[24, 3]),\n",
       " Data(x=[24, 3], edge_index=[2, 74], edge_attr=[74, 4], y=[1, 1], edge_mask=[74], idx=98, y_cf=[1], adj_padded=[24, 24], x_padded=[24, 3]),\n",
       " Data(x=[24, 3], edge_index=[2, 74], edge_attr=[74, 4], y=[1, 1], edge_mask=[74], idx=99, y_cf=[1], adj_padded=[24, 24], x_padded=[24, 3]),\n",
       " Data(x=[24, 3], edge_index=[2, 74], edge_attr=[74, 4], y=[1, 1], edge_mask=[74], idx=100, y_cf=[1], adj_padded=[24, 24], x_padded=[24, 3]),\n",
       " Data(x=[24, 3], edge_index=[2, 74], edge_attr=[74, 4], y=[1, 1], edge_mask=[74], idx=101, y_cf=[1], adj_padded=[24, 24], x_padded=[24, 3]),\n",
       " Data(x=[24, 3], edge_index=[2, 74], edge_attr=[74, 4], y=[1, 1], edge_mask=[74], idx=102, y_cf=[1], adj_padded=[24, 24], x_padded=[24, 3]),\n",
       " Data(x=[24, 3], edge_index=[2, 74], edge_attr=[74, 4], y=[1, 1], edge_mask=[74], idx=103, y_cf=[1], adj_padded=[24, 24], x_padded=[24, 3]),\n",
       " Data(x=[24, 3], edge_index=[2, 74], edge_attr=[74, 4], y=[1, 1], edge_mask=[74], idx=104, y_cf=[1], adj_padded=[24, 24], x_padded=[24, 3]),\n",
       " Data(x=[24, 3], edge_index=[2, 74], edge_attr=[74, 4], y=[1, 1], edge_mask=[74], idx=105, y_cf=[1], adj_padded=[24, 24], x_padded=[24, 3]),\n",
       " Data(x=[24, 3], edge_index=[2, 74], edge_attr=[74, 4], y=[1, 1], edge_mask=[74], idx=106, y_cf=[1], adj_padded=[24, 24], x_padded=[24, 3]),\n",
       " Data(x=[24, 3], edge_index=[2, 74], edge_attr=[74, 4], y=[1, 1], edge_mask=[74], idx=107, y_cf=[1], adj_padded=[24, 24], x_padded=[24, 3]),\n",
       " Data(x=[24, 3], edge_index=[2, 74], edge_attr=[74, 4], y=[1, 1], edge_mask=[74], idx=108, y_cf=[1], adj_padded=[24, 24], x_padded=[24, 3]),\n",
       " Data(x=[24, 3], edge_index=[2, 74], edge_attr=[74, 4], y=[1, 1], edge_mask=[74], idx=109, y_cf=[1], adj_padded=[24, 24], x_padded=[24, 3]),\n",
       " Data(x=[24, 3], edge_index=[2, 74], edge_attr=[74, 4], y=[1, 1], edge_mask=[74], idx=110, y_cf=[1], adj_padded=[24, 24], x_padded=[24, 3]),\n",
       " Data(x=[24, 3], edge_index=[2, 74], edge_attr=[74, 4], y=[1, 1], edge_mask=[74], idx=111, y_cf=[1], adj_padded=[24, 24], x_padded=[24, 3]),\n",
       " Data(x=[24, 3], edge_index=[2, 74], edge_attr=[74, 4], y=[1, 1], edge_mask=[74], idx=112, y_cf=[1], adj_padded=[24, 24], x_padded=[24, 3]),\n",
       " Data(x=[24, 3], edge_index=[2, 74], edge_attr=[74, 4], y=[1, 1], edge_mask=[74], idx=113, y_cf=[1], adj_padded=[24, 24], x_padded=[24, 3]),\n",
       " Data(x=[24, 3], edge_index=[2, 74], edge_attr=[74, 4], y=[1, 1], edge_mask=[74], idx=114, y_cf=[1], adj_padded=[24, 24], x_padded=[24, 3]),\n",
       " Data(x=[24, 3], edge_index=[2, 74], edge_attr=[74, 4], y=[1, 1], edge_mask=[74], idx=115, y_cf=[1], adj_padded=[24, 24], x_padded=[24, 3]),\n",
       " Data(x=[24, 3], edge_index=[2, 74], edge_attr=[74, 4], y=[1, 1], edge_mask=[74], idx=116, y_cf=[1], adj_padded=[24, 24], x_padded=[24, 3]),\n",
       " Data(x=[24, 3], edge_index=[2, 74], edge_attr=[74, 4], y=[1, 1], edge_mask=[74], idx=117, y_cf=[1], adj_padded=[24, 24], x_padded=[24, 3]),\n",
       " Data(x=[24, 3], edge_index=[2, 74], edge_attr=[74, 4], y=[1, 1], edge_mask=[74], idx=118, y_cf=[1], adj_padded=[24, 24], x_padded=[24, 3]),\n",
       " Data(x=[24, 3], edge_index=[2, 74], edge_attr=[74, 4], y=[1, 1], edge_mask=[74], idx=119, y_cf=[1], adj_padded=[24, 24], x_padded=[24, 3]),\n",
       " Data(x=[24, 3], edge_index=[2, 74], edge_attr=[74, 4], y=[1, 1], edge_mask=[74], idx=120, y_cf=[1], adj_padded=[24, 24], x_padded=[24, 3]),\n",
       " Data(x=[24, 3], edge_index=[2, 74], edge_attr=[74, 4], y=[1, 1], edge_mask=[74], idx=121, y_cf=[1], adj_padded=[24, 24], x_padded=[24, 3]),\n",
       " Data(x=[24, 3], edge_index=[2, 74], edge_attr=[74, 4], y=[1, 1], edge_mask=[74], idx=122, y_cf=[1], adj_padded=[24, 24], x_padded=[24, 3]),\n",
       " Data(x=[24, 3], edge_index=[2, 72], edge_attr=[72, 4], y=[1, 1], edge_mask=[72], idx=123, y_cf=[1], adj_padded=[24, 24], x_padded=[24, 3]),\n",
       " Data(x=[24, 3], edge_index=[2, 72], edge_attr=[72, 4], y=[1, 1], edge_mask=[72], idx=124, y_cf=[1], adj_padded=[24, 24], x_padded=[24, 3]),\n",
       " Data(x=[24, 3], edge_index=[2, 72], edge_attr=[72, 4], y=[1, 1], edge_mask=[72], idx=125, y_cf=[1], adj_padded=[24, 24], x_padded=[24, 3]),\n",
       " Data(x=[24, 3], edge_index=[2, 72], edge_attr=[72, 4], y=[1, 1], edge_mask=[72], idx=126, y_cf=[1], adj_padded=[24, 24], x_padded=[24, 3]),\n",
       " Data(x=[24, 3], edge_index=[2, 74], edge_attr=[74, 4], y=[1, 1], edge_mask=[74], idx=127, y_cf=[1], adj_padded=[24, 24], x_padded=[24, 3]),\n",
       " Data(x=[24, 3], edge_index=[2, 72], edge_attr=[72, 4], y=[1, 1], edge_mask=[72], idx=128, y_cf=[1], adj_padded=[24, 24], x_padded=[24, 3]),\n",
       " Data(x=[24, 3], edge_index=[2, 72], edge_attr=[72, 4], y=[1, 1], edge_mask=[72], idx=129, y_cf=[1], adj_padded=[24, 24], x_padded=[24, 3]),\n",
       " Data(x=[24, 3], edge_index=[2, 74], edge_attr=[74, 4], y=[1, 1], edge_mask=[74], idx=130, y_cf=[1], adj_padded=[24, 24], x_padded=[24, 3]),\n",
       " Data(x=[24, 3], edge_index=[2, 74], edge_attr=[74, 4], y=[1, 1], edge_mask=[74], idx=131, y_cf=[1], adj_padded=[24, 24], x_padded=[24, 3]),\n",
       " Data(x=[24, 3], edge_index=[2, 74], edge_attr=[74, 4], y=[1, 1], edge_mask=[74], idx=132, y_cf=[1], adj_padded=[24, 24], x_padded=[24, 3]),\n",
       " Data(x=[24, 3], edge_index=[2, 74], edge_attr=[74, 4], y=[1, 1], edge_mask=[74], idx=133, y_cf=[1], adj_padded=[24, 24], x_padded=[24, 3]),\n",
       " Data(x=[24, 3], edge_index=[2, 74], edge_attr=[74, 4], y=[1, 1], edge_mask=[74], idx=134, y_cf=[1], adj_padded=[24, 24], x_padded=[24, 3]),\n",
       " Data(x=[24, 3], edge_index=[2, 74], edge_attr=[74, 4], y=[1, 1], edge_mask=[74], idx=135, y_cf=[1], adj_padded=[24, 24], x_padded=[24, 3]),\n",
       " Data(x=[24, 3], edge_index=[2, 74], edge_attr=[74, 4], y=[1, 1], edge_mask=[74], idx=136, y_cf=[1], adj_padded=[24, 24], x_padded=[24, 3]),\n",
       " Data(x=[24, 3], edge_index=[2, 74], edge_attr=[74, 4], y=[1, 1], edge_mask=[74], idx=137, y_cf=[1], adj_padded=[24, 24], x_padded=[24, 3]),\n",
       " Data(x=[24, 3], edge_index=[2, 74], edge_attr=[74, 4], y=[1, 1], edge_mask=[74], idx=138, y_cf=[1], adj_padded=[24, 24], x_padded=[24, 3]),\n",
       " Data(x=[24, 3], edge_index=[2, 74], edge_attr=[74, 4], y=[1, 1], edge_mask=[74], idx=139, y_cf=[1], adj_padded=[24, 24], x_padded=[24, 3]),\n",
       " Data(x=[24, 3], edge_index=[2, 72], edge_attr=[72, 4], y=[1, 1], edge_mask=[72], idx=140, y_cf=[1], adj_padded=[24, 24], x_padded=[24, 3]),\n",
       " Data(x=[24, 3], edge_index=[2, 74], edge_attr=[74, 4], y=[1, 1], edge_mask=[74], idx=141, y_cf=[1], adj_padded=[24, 24], x_padded=[24, 3]),\n",
       " Data(x=[24, 3], edge_index=[2, 74], edge_attr=[74, 4], y=[1, 1], edge_mask=[74], idx=142, y_cf=[1], adj_padded=[24, 24], x_padded=[24, 3]),\n",
       " Data(x=[24, 3], edge_index=[2, 74], edge_attr=[74, 4], y=[1, 1], edge_mask=[74], idx=143, y_cf=[1], adj_padded=[24, 24], x_padded=[24, 3]),\n",
       " Data(x=[24, 3], edge_index=[2, 74], edge_attr=[74, 4], y=[1, 1], edge_mask=[74], idx=144, y_cf=[1], adj_padded=[24, 24], x_padded=[24, 3]),\n",
       " Data(x=[24, 3], edge_index=[2, 74], edge_attr=[74, 4], y=[1, 1], edge_mask=[74], idx=145, y_cf=[1], adj_padded=[24, 24], x_padded=[24, 3]),\n",
       " Data(x=[24, 3], edge_index=[2, 74], edge_attr=[74, 4], y=[1, 1], edge_mask=[74], idx=146, y_cf=[1], adj_padded=[24, 24], x_padded=[24, 3]),\n",
       " Data(x=[24, 3], edge_index=[2, 74], edge_attr=[74, 4], y=[1, 1], edge_mask=[74], idx=147, y_cf=[1], adj_padded=[24, 24], x_padded=[24, 3]),\n",
       " Data(x=[24, 3], edge_index=[2, 74], edge_attr=[74, 4], y=[1, 1], edge_mask=[74], idx=148, y_cf=[1], adj_padded=[24, 24], x_padded=[24, 3]),\n",
       " Data(x=[24, 3], edge_index=[2, 74], edge_attr=[74, 4], y=[1, 1], edge_mask=[74], idx=149, y_cf=[1], adj_padded=[24, 24], x_padded=[24, 3]),\n",
       " Data(x=[24, 3], edge_index=[2, 74], edge_attr=[74, 4], y=[1, 1], edge_mask=[74], idx=150, y_cf=[1], adj_padded=[24, 24], x_padded=[24, 3]),\n",
       " Data(x=[24, 3], edge_index=[2, 74], edge_attr=[74, 4], y=[1, 1], edge_mask=[74], idx=151, y_cf=[1], adj_padded=[24, 24], x_padded=[24, 3]),\n",
       " Data(x=[24, 3], edge_index=[2, 74], edge_attr=[74, 4], y=[1, 1], edge_mask=[74], idx=152, y_cf=[1], adj_padded=[24, 24], x_padded=[24, 3]),\n",
       " Data(x=[24, 3], edge_index=[2, 74], edge_attr=[74, 4], y=[1, 1], edge_mask=[74], idx=153, y_cf=[1], adj_padded=[24, 24], x_padded=[24, 3]),\n",
       " Data(x=[24, 3], edge_index=[2, 74], edge_attr=[74, 4], y=[1, 1], edge_mask=[74], idx=154, y_cf=[1], adj_padded=[24, 24], x_padded=[24, 3]),\n",
       " Data(x=[24, 3], edge_index=[2, 74], edge_attr=[74, 4], y=[1, 1], edge_mask=[74], idx=155, y_cf=[1], adj_padded=[24, 24], x_padded=[24, 3]),\n",
       " Data(x=[24, 3], edge_index=[2, 74], edge_attr=[74, 4], y=[1, 1], edge_mask=[74], idx=156, y_cf=[1], adj_padded=[24, 24], x_padded=[24, 3]),\n",
       " Data(x=[24, 3], edge_index=[2, 74], edge_attr=[74, 4], y=[1, 1], edge_mask=[74], idx=157, y_cf=[1], adj_padded=[24, 24], x_padded=[24, 3]),\n",
       " Data(x=[24, 3], edge_index=[2, 74], edge_attr=[74, 4], y=[1, 1], edge_mask=[74], idx=158, y_cf=[1], adj_padded=[24, 24], x_padded=[24, 3]),\n",
       " Data(x=[24, 3], edge_index=[2, 74], edge_attr=[74, 4], y=[1, 1], edge_mask=[74], idx=159, y_cf=[1], adj_padded=[24, 24], x_padded=[24, 3]),\n",
       " Data(x=[24, 3], edge_index=[2, 74], edge_attr=[74, 4], y=[1, 1], edge_mask=[74], idx=160, y_cf=[1], adj_padded=[24, 24], x_padded=[24, 3]),\n",
       " Data(x=[24, 3], edge_index=[2, 74], edge_attr=[74, 4], y=[1, 1], edge_mask=[74], idx=161, y_cf=[1], adj_padded=[24, 24], x_padded=[24, 3]),\n",
       " Data(x=[24, 3], edge_index=[2, 74], edge_attr=[74, 4], y=[1, 1], edge_mask=[74], idx=162, y_cf=[1], adj_padded=[24, 24], x_padded=[24, 3]),\n",
       " Data(x=[24, 3], edge_index=[2, 72], edge_attr=[72, 4], y=[1, 1], edge_mask=[72], idx=163, y_cf=[1], adj_padded=[24, 24], x_padded=[24, 3]),\n",
       " Data(x=[24, 3], edge_index=[2, 74], edge_attr=[74, 4], y=[1, 1], edge_mask=[74], idx=164, y_cf=[1], adj_padded=[24, 24], x_padded=[24, 3]),\n",
       " Data(x=[24, 3], edge_index=[2, 74], edge_attr=[74, 4], y=[1, 1], edge_mask=[74], idx=165, y_cf=[1], adj_padded=[24, 24], x_padded=[24, 3]),\n",
       " Data(x=[24, 3], edge_index=[2, 74], edge_attr=[74, 4], y=[1, 1], edge_mask=[74], idx=166, y_cf=[1], adj_padded=[24, 24], x_padded=[24, 3]),\n",
       " Data(x=[24, 3], edge_index=[2, 72], edge_attr=[72, 4], y=[1, 1], edge_mask=[72], idx=167, y_cf=[1], adj_padded=[24, 24], x_padded=[24, 3]),\n",
       " Data(x=[24, 3], edge_index=[2, 74], edge_attr=[74, 4], y=[1, 1], edge_mask=[74], idx=168, y_cf=[1], adj_padded=[24, 24], x_padded=[24, 3]),\n",
       " Data(x=[24, 3], edge_index=[2, 74], edge_attr=[74, 4], y=[1, 1], edge_mask=[74], idx=169, y_cf=[1], adj_padded=[24, 24], x_padded=[24, 3]),\n",
       " Data(x=[24, 3], edge_index=[2, 72], edge_attr=[72, 4], y=[1, 1], edge_mask=[72], idx=170, y_cf=[1], adj_padded=[24, 24], x_padded=[24, 3]),\n",
       " Data(x=[24, 3], edge_index=[2, 72], edge_attr=[72, 4], y=[1, 1], edge_mask=[72], idx=171, y_cf=[1], adj_padded=[24, 24], x_padded=[24, 3]),\n",
       " Data(x=[24, 3], edge_index=[2, 74], edge_attr=[74, 4], y=[1, 1], edge_mask=[74], idx=172, y_cf=[1], adj_padded=[24, 24], x_padded=[24, 3]),\n",
       " Data(x=[24, 3], edge_index=[2, 74], edge_attr=[74, 4], y=[1, 1], edge_mask=[74], idx=173, y_cf=[1], adj_padded=[24, 24], x_padded=[24, 3]),\n",
       " Data(x=[24, 3], edge_index=[2, 74], edge_attr=[74, 4], y=[1, 1], edge_mask=[74], idx=174, y_cf=[1], adj_padded=[24, 24], x_padded=[24, 3]),\n",
       " Data(x=[24, 3], edge_index=[2, 74], edge_attr=[74, 4], y=[1, 1], edge_mask=[74], idx=175, y_cf=[1], adj_padded=[24, 24], x_padded=[24, 3]),\n",
       " Data(x=[24, 3], edge_index=[2, 74], edge_attr=[74, 4], y=[1, 1], edge_mask=[74], idx=176, y_cf=[1], adj_padded=[24, 24], x_padded=[24, 3]),\n",
       " Data(x=[24, 3], edge_index=[2, 74], edge_attr=[74, 4], y=[1, 1], edge_mask=[74], idx=177, y_cf=[1], adj_padded=[24, 24], x_padded=[24, 3]),\n",
       " Data(x=[24, 3], edge_index=[2, 74], edge_attr=[74, 4], y=[1, 1], edge_mask=[74], idx=178, y_cf=[1], adj_padded=[24, 24], x_padded=[24, 3]),\n",
       " Data(x=[24, 3], edge_index=[2, 74], edge_attr=[74, 4], y=[1, 1], edge_mask=[74], idx=179, y_cf=[1], adj_padded=[24, 24], x_padded=[24, 3]),\n",
       " Data(x=[24, 3], edge_index=[2, 74], edge_attr=[74, 4], y=[1, 1], edge_mask=[74], idx=180, y_cf=[1], adj_padded=[24, 24], x_padded=[24, 3]),\n",
       " Data(x=[24, 3], edge_index=[2, 74], edge_attr=[74, 4], y=[1, 1], edge_mask=[74], idx=181, y_cf=[1], adj_padded=[24, 24], x_padded=[24, 3]),\n",
       " Data(x=[24, 3], edge_index=[2, 74], edge_attr=[74, 4], y=[1, 1], edge_mask=[74], idx=182, y_cf=[1], adj_padded=[24, 24], x_padded=[24, 3]),\n",
       " Data(x=[24, 3], edge_index=[2, 74], edge_attr=[74, 4], y=[1, 1], edge_mask=[74], idx=183, y_cf=[1], adj_padded=[24, 24], x_padded=[24, 3]),\n",
       " Data(x=[24, 3], edge_index=[2, 74], edge_attr=[74, 4], y=[1, 1], edge_mask=[74], idx=184, y_cf=[1], adj_padded=[24, 24], x_padded=[24, 3]),\n",
       " Data(x=[24, 3], edge_index=[2, 74], edge_attr=[74, 4], y=[1, 1], edge_mask=[74], idx=185, y_cf=[1], adj_padded=[24, 24], x_padded=[24, 3]),\n",
       " Data(x=[24, 3], edge_index=[2, 74], edge_attr=[74, 4], y=[1, 1], edge_mask=[74], idx=186, y_cf=[1], adj_padded=[24, 24], x_padded=[24, 3]),\n",
       " Data(x=[24, 3], edge_index=[2, 74], edge_attr=[74, 4], y=[1, 1], edge_mask=[74], idx=187, y_cf=[1], adj_padded=[24, 24], x_padded=[24, 3]),\n",
       " Data(x=[24, 3], edge_index=[2, 74], edge_attr=[74, 4], y=[1, 1], edge_mask=[74], idx=188, y_cf=[1], adj_padded=[24, 24], x_padded=[24, 3]),\n",
       " Data(x=[24, 3], edge_index=[2, 74], edge_attr=[74, 4], y=[1, 1], edge_mask=[74], idx=189, y_cf=[1], adj_padded=[24, 24], x_padded=[24, 3]),\n",
       " Data(x=[24, 3], edge_index=[2, 74], edge_attr=[74, 4], y=[1, 1], edge_mask=[74], idx=190, y_cf=[1], adj_padded=[24, 24], x_padded=[24, 3]),\n",
       " Data(x=[24, 3], edge_index=[2, 74], edge_attr=[74, 4], y=[1, 1], edge_mask=[74], idx=191, y_cf=[1], adj_padded=[24, 24], x_padded=[24, 3]),\n",
       " Data(x=[24, 3], edge_index=[2, 74], edge_attr=[74, 4], y=[1, 1], edge_mask=[74], idx=192, y_cf=[1], adj_padded=[24, 24], x_padded=[24, 3]),\n",
       " Data(x=[24, 3], edge_index=[2, 74], edge_attr=[74, 4], y=[1, 1], edge_mask=[74], idx=193, y_cf=[1], adj_padded=[24, 24], x_padded=[24, 3]),\n",
       " Data(x=[24, 3], edge_index=[2, 74], edge_attr=[74, 4], y=[1, 1], edge_mask=[74], idx=194, y_cf=[1], adj_padded=[24, 24], x_padded=[24, 3]),\n",
       " Data(x=[24, 3], edge_index=[2, 74], edge_attr=[74, 4], y=[1, 1], edge_mask=[74], idx=195, y_cf=[1], adj_padded=[24, 24], x_padded=[24, 3]),\n",
       " Data(x=[24, 3], edge_index=[2, 74], edge_attr=[74, 4], y=[1, 1], edge_mask=[74], idx=196, y_cf=[1], adj_padded=[24, 24], x_padded=[24, 3]),\n",
       " Data(x=[24, 3], edge_index=[2, 74], edge_attr=[74, 4], y=[1, 1], edge_mask=[74], idx=197, y_cf=[1], adj_padded=[24, 24], x_padded=[24, 3]),\n",
       " Data(x=[24, 3], edge_index=[2, 74], edge_attr=[74, 4], y=[1, 1], edge_mask=[74], idx=198, y_cf=[1], adj_padded=[24, 24], x_padded=[24, 3]),\n",
       " Data(x=[24, 3], edge_index=[2, 74], edge_attr=[74, 4], y=[1, 1], edge_mask=[74], idx=199, y_cf=[1], adj_padded=[24, 24], x_padded=[24, 3]),\n",
       " Data(x=[24, 3], edge_index=[2, 74], edge_attr=[74, 4], y=[1, 1], edge_mask=[74], idx=200, y_cf=[1], adj_padded=[24, 24], x_padded=[24, 3]),\n",
       " Data(x=[24, 3], edge_index=[2, 74], edge_attr=[74, 4], y=[1, 1], edge_mask=[74], idx=201, y_cf=[1], adj_padded=[24, 24], x_padded=[24, 3]),\n",
       " Data(x=[24, 3], edge_index=[2, 74], edge_attr=[74, 4], y=[1, 1], edge_mask=[74], idx=202, y_cf=[1], adj_padded=[24, 24], x_padded=[24, 3]),\n",
       " Data(x=[24, 3], edge_index=[2, 74], edge_attr=[74, 4], y=[1, 1], edge_mask=[74], idx=203, y_cf=[1], adj_padded=[24, 24], x_padded=[24, 3]),\n",
       " Data(x=[24, 3], edge_index=[2, 72], edge_attr=[72, 4], y=[1, 1], edge_mask=[72], idx=204, y_cf=[1], adj_padded=[24, 24], x_padded=[24, 3]),\n",
       " Data(x=[24, 3], edge_index=[2, 74], edge_attr=[74, 4], y=[1, 1], edge_mask=[74], idx=205, y_cf=[1], adj_padded=[24, 24], x_padded=[24, 3]),\n",
       " Data(x=[24, 3], edge_index=[2, 72], edge_attr=[72, 4], y=[1, 1], edge_mask=[72], idx=206, y_cf=[1], adj_padded=[24, 24], x_padded=[24, 3]),\n",
       " Data(x=[24, 3], edge_index=[2, 74], edge_attr=[74, 4], y=[1, 1], edge_mask=[74], idx=207, y_cf=[1], adj_padded=[24, 24], x_padded=[24, 3]),\n",
       " Data(x=[24, 3], edge_index=[2, 74], edge_attr=[74, 4], y=[1, 1], edge_mask=[74], idx=208, y_cf=[1], adj_padded=[24, 24], x_padded=[24, 3]),\n",
       " Data(x=[24, 3], edge_index=[2, 74], edge_attr=[74, 4], y=[1, 1], edge_mask=[74], idx=209, y_cf=[1], adj_padded=[24, 24], x_padded=[24, 3]),\n",
       " Data(x=[24, 3], edge_index=[2, 74], edge_attr=[74, 4], y=[1, 1], edge_mask=[74], idx=210, y_cf=[1], adj_padded=[24, 24], x_padded=[24, 3]),\n",
       " Data(x=[24, 3], edge_index=[2, 72], edge_attr=[72, 4], y=[1, 1], edge_mask=[72], idx=211, y_cf=[1], adj_padded=[24, 24], x_padded=[24, 3]),\n",
       " Data(x=[24, 3], edge_index=[2, 72], edge_attr=[72, 4], y=[1, 1], edge_mask=[72], idx=212, y_cf=[1], adj_padded=[24, 24], x_padded=[24, 3]),\n",
       " Data(x=[24, 3], edge_index=[2, 74], edge_attr=[74, 4], y=[1, 1], edge_mask=[74], idx=213, y_cf=[1], adj_padded=[24, 24], x_padded=[24, 3]),\n",
       " Data(x=[24, 3], edge_index=[2, 72], edge_attr=[72, 4], y=[1, 1], edge_mask=[72], idx=214, y_cf=[1], adj_padded=[24, 24], x_padded=[24, 3]),\n",
       " Data(x=[24, 3], edge_index=[2, 74], edge_attr=[74, 4], y=[1, 1], edge_mask=[74], idx=215, y_cf=[1], adj_padded=[24, 24], x_padded=[24, 3]),\n",
       " Data(x=[24, 3], edge_index=[2, 74], edge_attr=[74, 4], y=[1, 1], edge_mask=[74], idx=216, y_cf=[1], adj_padded=[24, 24], x_padded=[24, 3]),\n",
       " Data(x=[24, 3], edge_index=[2, 74], edge_attr=[74, 4], y=[1, 1], edge_mask=[74], idx=217, y_cf=[1], adj_padded=[24, 24], x_padded=[24, 3]),\n",
       " Data(x=[24, 3], edge_index=[2, 74], edge_attr=[74, 4], y=[1, 1], edge_mask=[74], idx=218, y_cf=[1], adj_padded=[24, 24], x_padded=[24, 3]),\n",
       " Data(x=[24, 3], edge_index=[2, 74], edge_attr=[74, 4], y=[1, 1], edge_mask=[74], idx=219, y_cf=[1], adj_padded=[24, 24], x_padded=[24, 3]),\n",
       " Data(x=[24, 3], edge_index=[2, 74], edge_attr=[74, 4], y=[1, 1], edge_mask=[74], idx=220, y_cf=[1], adj_padded=[24, 24], x_padded=[24, 3]),\n",
       " Data(x=[24, 3], edge_index=[2, 72], edge_attr=[72, 4], y=[1, 1], edge_mask=[72], idx=221, y_cf=[1], adj_padded=[24, 24], x_padded=[24, 3]),\n",
       " Data(x=[24, 3], edge_index=[2, 74], edge_attr=[74, 4], y=[1, 1], edge_mask=[74], idx=222, y_cf=[1], adj_padded=[24, 24], x_padded=[24, 3]),\n",
       " Data(x=[24, 3], edge_index=[2, 74], edge_attr=[74, 4], y=[1, 1], edge_mask=[74], idx=223, y_cf=[1], adj_padded=[24, 24], x_padded=[24, 3]),\n",
       " Data(x=[24, 3], edge_index=[2, 74], edge_attr=[74, 4], y=[1, 1], edge_mask=[74], idx=224, y_cf=[1], adj_padded=[24, 24], x_padded=[24, 3]),\n",
       " Data(x=[24, 3], edge_index=[2, 74], edge_attr=[74, 4], y=[1, 1], edge_mask=[74], idx=225, y_cf=[1], adj_padded=[24, 24], x_padded=[24, 3]),\n",
       " Data(x=[24, 3], edge_index=[2, 74], edge_attr=[74, 4], y=[1, 1], edge_mask=[74], idx=226, y_cf=[1], adj_padded=[24, 24], x_padded=[24, 3]),\n",
       " Data(x=[24, 3], edge_index=[2, 72], edge_attr=[72, 4], y=[1, 1], edge_mask=[72], idx=227, y_cf=[1], adj_padded=[24, 24], x_padded=[24, 3]),\n",
       " Data(x=[24, 3], edge_index=[2, 74], edge_attr=[74, 4], y=[1, 1], edge_mask=[74], idx=228, y_cf=[1], adj_padded=[24, 24], x_padded=[24, 3]),\n",
       " Data(x=[24, 3], edge_index=[2, 74], edge_attr=[74, 4], y=[1, 1], edge_mask=[74], idx=229, y_cf=[1], adj_padded=[24, 24], x_padded=[24, 3]),\n",
       " Data(x=[24, 3], edge_index=[2, 74], edge_attr=[74, 4], y=[1, 1], edge_mask=[74], idx=230, y_cf=[1], adj_padded=[24, 24], x_padded=[24, 3]),\n",
       " Data(x=[24, 3], edge_index=[2, 74], edge_attr=[74, 4], y=[1, 1], edge_mask=[74], idx=231, y_cf=[1], adj_padded=[24, 24], x_padded=[24, 3]),\n",
       " Data(x=[24, 3], edge_index=[2, 74], edge_attr=[74, 4], y=[1, 1], edge_mask=[74], idx=232, y_cf=[1], adj_padded=[24, 24], x_padded=[24, 3]),\n",
       " Data(x=[24, 3], edge_index=[2, 74], edge_attr=[74, 4], y=[1, 1], edge_mask=[74], idx=233, y_cf=[1], adj_padded=[24, 24], x_padded=[24, 3]),\n",
       " Data(x=[24, 3], edge_index=[2, 74], edge_attr=[74, 4], y=[1, 1], edge_mask=[74], idx=234, y_cf=[1], adj_padded=[24, 24], x_padded=[24, 3]),\n",
       " Data(x=[24, 3], edge_index=[2, 72], edge_attr=[72, 4], y=[1, 1], edge_mask=[72], idx=235, y_cf=[1], adj_padded=[24, 24], x_padded=[24, 3]),\n",
       " Data(x=[24, 3], edge_index=[2, 74], edge_attr=[74, 4], y=[1, 1], edge_mask=[74], idx=236, y_cf=[1], adj_padded=[24, 24], x_padded=[24, 3]),\n",
       " Data(x=[24, 3], edge_index=[2, 74], edge_attr=[74, 4], y=[1, 1], edge_mask=[74], idx=237, y_cf=[1], adj_padded=[24, 24], x_padded=[24, 3]),\n",
       " Data(x=[24, 3], edge_index=[2, 74], edge_attr=[74, 4], y=[1, 1], edge_mask=[74], idx=238, y_cf=[1], adj_padded=[24, 24], x_padded=[24, 3]),\n",
       " Data(x=[24, 3], edge_index=[2, 74], edge_attr=[74, 4], y=[1, 1], edge_mask=[74], idx=239, y_cf=[1], adj_padded=[24, 24], x_padded=[24, 3]),\n",
       " Data(x=[24, 3], edge_index=[2, 74], edge_attr=[74, 4], y=[1, 1], edge_mask=[74], idx=240, y_cf=[1], adj_padded=[24, 24], x_padded=[24, 3]),\n",
       " Data(x=[24, 3], edge_index=[2, 72], edge_attr=[72, 4], y=[1, 1], edge_mask=[72], idx=241, y_cf=[1], adj_padded=[24, 24], x_padded=[24, 3]),\n",
       " Data(x=[24, 3], edge_index=[2, 74], edge_attr=[74, 4], y=[1, 1], edge_mask=[74], idx=242, y_cf=[1], adj_padded=[24, 24], x_padded=[24, 3]),\n",
       " Data(x=[24, 3], edge_index=[2, 74], edge_attr=[74, 4], y=[1, 1], edge_mask=[74], idx=243, y_cf=[1], adj_padded=[24, 24], x_padded=[24, 3]),\n",
       " Data(x=[24, 3], edge_index=[2, 74], edge_attr=[74, 4], y=[1, 1], edge_mask=[74], idx=244, y_cf=[1], adj_padded=[24, 24], x_padded=[24, 3]),\n",
       " Data(x=[24, 3], edge_index=[2, 74], edge_attr=[74, 4], y=[1, 1], edge_mask=[74], idx=245, y_cf=[1], adj_padded=[24, 24], x_padded=[24, 3]),\n",
       " Data(x=[24, 3], edge_index=[2, 74], edge_attr=[74, 4], y=[1, 1], edge_mask=[74], idx=246, y_cf=[1], adj_padded=[24, 24], x_padded=[24, 3]),\n",
       " Data(x=[24, 3], edge_index=[2, 74], edge_attr=[74, 4], y=[1, 1], edge_mask=[74], idx=247, y_cf=[1], adj_padded=[24, 24], x_padded=[24, 3]),\n",
       " Data(x=[24, 3], edge_index=[2, 74], edge_attr=[74, 4], y=[1, 1], edge_mask=[74], idx=248, y_cf=[1], adj_padded=[24, 24], x_padded=[24, 3]),\n",
       " Data(x=[24, 3], edge_index=[2, 74], edge_attr=[74, 4], y=[1, 1], edge_mask=[74], idx=249, y_cf=[1], adj_padded=[24, 24], x_padded=[24, 3]),\n",
       " Data(x=[24, 3], edge_index=[2, 74], edge_attr=[74, 4], y=[1, 1], edge_mask=[74], idx=250, y_cf=[1], adj_padded=[24, 24], x_padded=[24, 3]),\n",
       " Data(x=[24, 3], edge_index=[2, 74], edge_attr=[74, 4], y=[1, 1], edge_mask=[74], idx=251, y_cf=[1], adj_padded=[24, 24], x_padded=[24, 3]),\n",
       " Data(x=[24, 3], edge_index=[2, 74], edge_attr=[74, 4], y=[1, 1], edge_mask=[74], idx=252, y_cf=[1], adj_padded=[24, 24], x_padded=[24, 3]),\n",
       " Data(x=[24, 3], edge_index=[2, 74], edge_attr=[74, 4], y=[1, 1], edge_mask=[74], idx=253, y_cf=[1], adj_padded=[24, 24], x_padded=[24, 3]),\n",
       " Data(x=[24, 3], edge_index=[2, 74], edge_attr=[74, 4], y=[1, 1], edge_mask=[74], idx=254, y_cf=[1], adj_padded=[24, 24], x_padded=[24, 3]),\n",
       " Data(x=[24, 3], edge_index=[2, 72], edge_attr=[72, 4], y=[1, 1], edge_mask=[72], idx=255, y_cf=[1], adj_padded=[24, 24], x_padded=[24, 3]),\n",
       " Data(x=[24, 3], edge_index=[2, 72], edge_attr=[72, 4], y=[1, 1], edge_mask=[72], idx=256, y_cf=[1], adj_padded=[24, 24], x_padded=[24, 3]),\n",
       " Data(x=[24, 3], edge_index=[2, 72], edge_attr=[72, 4], y=[1, 1], edge_mask=[72], idx=257, y_cf=[1], adj_padded=[24, 24], x_padded=[24, 3]),\n",
       " Data(x=[24, 3], edge_index=[2, 74], edge_attr=[74, 4], y=[1, 1], edge_mask=[74], idx=258, y_cf=[1], adj_padded=[24, 24], x_padded=[24, 3]),\n",
       " Data(x=[24, 3], edge_index=[2, 74], edge_attr=[74, 4], y=[1, 1], edge_mask=[74], idx=259, y_cf=[1], adj_padded=[24, 24], x_padded=[24, 3]),\n",
       " Data(x=[24, 3], edge_index=[2, 74], edge_attr=[74, 4], y=[1, 1], edge_mask=[74], idx=260, y_cf=[1], adj_padded=[24, 24], x_padded=[24, 3]),\n",
       " Data(x=[24, 3], edge_index=[2, 74], edge_attr=[74, 4], y=[1, 1], edge_mask=[74], idx=261, y_cf=[1], adj_padded=[24, 24], x_padded=[24, 3]),\n",
       " Data(x=[24, 3], edge_index=[2, 74], edge_attr=[74, 4], y=[1, 1], edge_mask=[74], idx=262, y_cf=[1], adj_padded=[24, 24], x_padded=[24, 3]),\n",
       " Data(x=[24, 3], edge_index=[2, 74], edge_attr=[74, 4], y=[1, 1], edge_mask=[74], idx=263, y_cf=[1], adj_padded=[24, 24], x_padded=[24, 3]),\n",
       " Data(x=[24, 3], edge_index=[2, 74], edge_attr=[74, 4], y=[1, 1], edge_mask=[74], idx=264, y_cf=[1], adj_padded=[24, 24], x_padded=[24, 3]),\n",
       " Data(x=[24, 3], edge_index=[2, 74], edge_attr=[74, 4], y=[1, 1], edge_mask=[74], idx=265, y_cf=[1], adj_padded=[24, 24], x_padded=[24, 3]),\n",
       " Data(x=[24, 3], edge_index=[2, 74], edge_attr=[74, 4], y=[1, 1], edge_mask=[74], idx=266, y_cf=[1], adj_padded=[24, 24], x_padded=[24, 3]),\n",
       " Data(x=[24, 3], edge_index=[2, 74], edge_attr=[74, 4], y=[1, 1], edge_mask=[74], idx=267, y_cf=[1], adj_padded=[24, 24], x_padded=[24, 3]),\n",
       " Data(x=[24, 3], edge_index=[2, 74], edge_attr=[74, 4], y=[1, 1], edge_mask=[74], idx=268, y_cf=[1], adj_padded=[24, 24], x_padded=[24, 3]),\n",
       " Data(x=[24, 3], edge_index=[2, 74], edge_attr=[74, 4], y=[1, 1], edge_mask=[74], idx=269, y_cf=[1], adj_padded=[24, 24], x_padded=[24, 3]),\n",
       " Data(x=[24, 3], edge_index=[2, 74], edge_attr=[74, 4], y=[1, 1], edge_mask=[74], idx=270, y_cf=[1], adj_padded=[24, 24], x_padded=[24, 3]),\n",
       " Data(x=[24, 3], edge_index=[2, 74], edge_attr=[74, 4], y=[1, 1], edge_mask=[74], idx=271, y_cf=[1], adj_padded=[24, 24], x_padded=[24, 3]),\n",
       " Data(x=[24, 3], edge_index=[2, 74], edge_attr=[74, 4], y=[1, 1], edge_mask=[74], idx=272, y_cf=[1], adj_padded=[24, 24], x_padded=[24, 3]),\n",
       " Data(x=[24, 3], edge_index=[2, 74], edge_attr=[74, 4], y=[1, 1], edge_mask=[74], idx=273, y_cf=[1], adj_padded=[24, 24], x_padded=[24, 3]),\n",
       " Data(x=[24, 3], edge_index=[2, 74], edge_attr=[74, 4], y=[1, 1], edge_mask=[74], idx=274, y_cf=[1], adj_padded=[24, 24], x_padded=[24, 3]),\n",
       " Data(x=[24, 3], edge_index=[2, 74], edge_attr=[74, 4], y=[1, 1], edge_mask=[74], idx=275, y_cf=[1], adj_padded=[24, 24], x_padded=[24, 3]),\n",
       " Data(x=[24, 3], edge_index=[2, 74], edge_attr=[74, 4], y=[1, 1], edge_mask=[74], idx=276, y_cf=[1], adj_padded=[24, 24], x_padded=[24, 3]),\n",
       " Data(x=[24, 3], edge_index=[2, 74], edge_attr=[74, 4], y=[1, 1], edge_mask=[74], idx=277, y_cf=[1], adj_padded=[24, 24], x_padded=[24, 3]),\n",
       " Data(x=[24, 3], edge_index=[2, 74], edge_attr=[74, 4], y=[1, 1], edge_mask=[74], idx=278, y_cf=[1], adj_padded=[24, 24], x_padded=[24, 3]),\n",
       " Data(x=[24, 3], edge_index=[2, 74], edge_attr=[74, 4], y=[1, 1], edge_mask=[74], idx=279, y_cf=[1], adj_padded=[24, 24], x_padded=[24, 3]),\n",
       " Data(x=[24, 3], edge_index=[2, 74], edge_attr=[74, 4], y=[1, 1], edge_mask=[74], idx=280, y_cf=[1], adj_padded=[24, 24], x_padded=[24, 3]),\n",
       " Data(x=[24, 3], edge_index=[2, 74], edge_attr=[74, 4], y=[1, 1], edge_mask=[74], idx=281, y_cf=[1], adj_padded=[24, 24], x_padded=[24, 3]),\n",
       " Data(x=[24, 3], edge_index=[2, 74], edge_attr=[74, 4], y=[1, 1], edge_mask=[74], idx=282, y_cf=[1], adj_padded=[24, 24], x_padded=[24, 3]),\n",
       " Data(x=[24, 3], edge_index=[2, 74], edge_attr=[74, 4], y=[1, 1], edge_mask=[74], idx=283, y_cf=[1], adj_padded=[24, 24], x_padded=[24, 3]),\n",
       " Data(x=[24, 3], edge_index=[2, 74], edge_attr=[74, 4], y=[1, 1], edge_mask=[74], idx=284, y_cf=[1], adj_padded=[24, 24], x_padded=[24, 3]),\n",
       " Data(x=[24, 3], edge_index=[2, 74], edge_attr=[74, 4], y=[1, 1], edge_mask=[74], idx=285, y_cf=[1], adj_padded=[24, 24], x_padded=[24, 3]),\n",
       " Data(x=[24, 3], edge_index=[2, 74], edge_attr=[74, 4], y=[1, 1], edge_mask=[74], idx=286, y_cf=[1], adj_padded=[24, 24], x_padded=[24, 3]),\n",
       " Data(x=[24, 3], edge_index=[2, 72], edge_attr=[72, 4], y=[1, 1], edge_mask=[72], idx=287, y_cf=[1], adj_padded=[24, 24], x_padded=[24, 3]),\n",
       " Data(x=[24, 3], edge_index=[2, 74], edge_attr=[74, 4], y=[1, 1], edge_mask=[74], idx=288, y_cf=[1], adj_padded=[24, 24], x_padded=[24, 3]),\n",
       " Data(x=[24, 3], edge_index=[2, 74], edge_attr=[74, 4], y=[1, 1], edge_mask=[74], idx=289, y_cf=[1], adj_padded=[24, 24], x_padded=[24, 3]),\n",
       " Data(x=[24, 3], edge_index=[2, 74], edge_attr=[74, 4], y=[1, 1], edge_mask=[74], idx=290, y_cf=[1], adj_padded=[24, 24], x_padded=[24, 3]),\n",
       " Data(x=[24, 3], edge_index=[2, 74], edge_attr=[74, 4], y=[1, 1], edge_mask=[74], idx=291, y_cf=[1], adj_padded=[24, 24], x_padded=[24, 3]),\n",
       " Data(x=[24, 3], edge_index=[2, 74], edge_attr=[74, 4], y=[1, 1], edge_mask=[74], idx=292, y_cf=[1], adj_padded=[24, 24], x_padded=[24, 3]),\n",
       " Data(x=[24, 3], edge_index=[2, 74], edge_attr=[74, 4], y=[1, 1], edge_mask=[74], idx=293, y_cf=[1], adj_padded=[24, 24], x_padded=[24, 3]),\n",
       " Data(x=[24, 3], edge_index=[2, 74], edge_attr=[74, 4], y=[1, 1], edge_mask=[74], idx=294, y_cf=[1], adj_padded=[24, 24], x_padded=[24, 3]),\n",
       " Data(x=[24, 3], edge_index=[2, 74], edge_attr=[74, 4], y=[1, 1], edge_mask=[74], idx=295, y_cf=[1], adj_padded=[24, 24], x_padded=[24, 3]),\n",
       " Data(x=[24, 3], edge_index=[2, 72], edge_attr=[72, 4], y=[1, 1], edge_mask=[72], idx=296, y_cf=[1], adj_padded=[24, 24], x_padded=[24, 3]),\n",
       " Data(x=[24, 3], edge_index=[2, 72], edge_attr=[72, 4], y=[1, 1], edge_mask=[72], idx=297, y_cf=[1], adj_padded=[24, 24], x_padded=[24, 3]),\n",
       " Data(x=[24, 3], edge_index=[2, 74], edge_attr=[74, 4], y=[1, 1], edge_mask=[74], idx=298, y_cf=[1], adj_padded=[24, 24], x_padded=[24, 3]),\n",
       " Data(x=[24, 3], edge_index=[2, 72], edge_attr=[72, 4], y=[1, 1], edge_mask=[72], idx=299, y_cf=[1], adj_padded=[24, 24], x_padded=[24, 3]),\n",
       " Data(x=[24, 3], edge_index=[2, 72], edge_attr=[72, 4], y=[1, 1], edge_mask=[72], idx=300, y_cf=[1], adj_padded=[24, 24], x_padded=[24, 3]),\n",
       " Data(x=[24, 3], edge_index=[2, 74], edge_attr=[74, 4], y=[1, 1], edge_mask=[74], idx=301, y_cf=[1], adj_padded=[24, 24], x_padded=[24, 3]),\n",
       " Data(x=[24, 3], edge_index=[2, 74], edge_attr=[74, 4], y=[1, 1], edge_mask=[74], idx=302, y_cf=[1], adj_padded=[24, 24], x_padded=[24, 3]),\n",
       " Data(x=[24, 3], edge_index=[2, 74], edge_attr=[74, 4], y=[1, 1], edge_mask=[74], idx=303, y_cf=[1], adj_padded=[24, 24], x_padded=[24, 3]),\n",
       " Data(x=[24, 3], edge_index=[2, 74], edge_attr=[74, 4], y=[1, 1], edge_mask=[74], idx=304, y_cf=[1], adj_padded=[24, 24], x_padded=[24, 3]),\n",
       " Data(x=[24, 3], edge_index=[2, 74], edge_attr=[74, 4], y=[1, 1], edge_mask=[74], idx=305, y_cf=[1], adj_padded=[24, 24], x_padded=[24, 3]),\n",
       " Data(x=[24, 3], edge_index=[2, 74], edge_attr=[74, 4], y=[1, 1], edge_mask=[74], idx=306, y_cf=[1], adj_padded=[24, 24], x_padded=[24, 3]),\n",
       " Data(x=[24, 3], edge_index=[2, 74], edge_attr=[74, 4], y=[1, 1], edge_mask=[74], idx=307, y_cf=[1], adj_padded=[24, 24], x_padded=[24, 3]),\n",
       " Data(x=[24, 3], edge_index=[2, 74], edge_attr=[74, 4], y=[1, 1], edge_mask=[74], idx=308, y_cf=[1], adj_padded=[24, 24], x_padded=[24, 3]),\n",
       " Data(x=[24, 3], edge_index=[2, 74], edge_attr=[74, 4], y=[1, 1], edge_mask=[74], idx=309, y_cf=[1], adj_padded=[24, 24], x_padded=[24, 3]),\n",
       " Data(x=[24, 3], edge_index=[2, 74], edge_attr=[74, 4], y=[1, 1], edge_mask=[74], idx=310, y_cf=[1], adj_padded=[24, 24], x_padded=[24, 3]),\n",
       " Data(x=[24, 3], edge_index=[2, 74], edge_attr=[74, 4], y=[1, 1], edge_mask=[74], idx=311, y_cf=[1], adj_padded=[24, 24], x_padded=[24, 3]),\n",
       " Data(x=[24, 3], edge_index=[2, 74], edge_attr=[74, 4], y=[1, 1], edge_mask=[74], idx=312, y_cf=[1], adj_padded=[24, 24], x_padded=[24, 3]),\n",
       " Data(x=[24, 3], edge_index=[2, 74], edge_attr=[74, 4], y=[1, 1], edge_mask=[74], idx=313, y_cf=[1], adj_padded=[24, 24], x_padded=[24, 3]),\n",
       " Data(x=[24, 3], edge_index=[2, 74], edge_attr=[74, 4], y=[1, 1], edge_mask=[74], idx=314, y_cf=[1], adj_padded=[24, 24], x_padded=[24, 3]),\n",
       " Data(x=[24, 3], edge_index=[2, 74], edge_attr=[74, 4], y=[1, 1], edge_mask=[74], idx=315, y_cf=[1], adj_padded=[24, 24], x_padded=[24, 3]),\n",
       " Data(x=[24, 3], edge_index=[2, 74], edge_attr=[74, 4], y=[1, 1], edge_mask=[74], idx=316, y_cf=[1], adj_padded=[24, 24], x_padded=[24, 3]),\n",
       " Data(x=[24, 3], edge_index=[2, 74], edge_attr=[74, 4], y=[1, 1], edge_mask=[74], idx=317, y_cf=[1], adj_padded=[24, 24], x_padded=[24, 3]),\n",
       " Data(x=[24, 3], edge_index=[2, 74], edge_attr=[74, 4], y=[1, 1], edge_mask=[74], idx=318, y_cf=[1], adj_padded=[24, 24], x_padded=[24, 3]),\n",
       " Data(x=[24, 3], edge_index=[2, 74], edge_attr=[74, 4], y=[1, 1], edge_mask=[74], idx=319, y_cf=[1], adj_padded=[24, 24], x_padded=[24, 3]),\n",
       " Data(x=[24, 3], edge_index=[2, 74], edge_attr=[74, 4], y=[1, 1], edge_mask=[74], idx=320, y_cf=[1], adj_padded=[24, 24], x_padded=[24, 3]),\n",
       " Data(x=[24, 3], edge_index=[2, 74], edge_attr=[74, 4], y=[1, 1], edge_mask=[74], idx=321, y_cf=[1], adj_padded=[24, 24], x_padded=[24, 3]),\n",
       " Data(x=[24, 3], edge_index=[2, 74], edge_attr=[74, 4], y=[1, 1], edge_mask=[74], idx=322, y_cf=[1], adj_padded=[24, 24], x_padded=[24, 3]),\n",
       " Data(x=[24, 3], edge_index=[2, 74], edge_attr=[74, 4], y=[1, 1], edge_mask=[74], idx=323, y_cf=[1], adj_padded=[24, 24], x_padded=[24, 3]),\n",
       " Data(x=[24, 3], edge_index=[2, 74], edge_attr=[74, 4], y=[1, 1], edge_mask=[74], idx=324, y_cf=[1], adj_padded=[24, 24], x_padded=[24, 3]),\n",
       " Data(x=[24, 3], edge_index=[2, 74], edge_attr=[74, 4], y=[1, 1], edge_mask=[74], idx=325, y_cf=[1], adj_padded=[24, 24], x_padded=[24, 3]),\n",
       " Data(x=[24, 3], edge_index=[2, 74], edge_attr=[74, 4], y=[1, 1], edge_mask=[74], idx=326, y_cf=[1], adj_padded=[24, 24], x_padded=[24, 3]),\n",
       " Data(x=[24, 3], edge_index=[2, 74], edge_attr=[74, 4], y=[1, 1], edge_mask=[74], idx=327, y_cf=[1], adj_padded=[24, 24], x_padded=[24, 3]),\n",
       " Data(x=[24, 3], edge_index=[2, 74], edge_attr=[74, 4], y=[1, 1], edge_mask=[74], idx=328, y_cf=[1], adj_padded=[24, 24], x_padded=[24, 3]),\n",
       " Data(x=[24, 3], edge_index=[2, 74], edge_attr=[74, 4], y=[1, 1], edge_mask=[74], idx=329, y_cf=[1], adj_padded=[24, 24], x_padded=[24, 3]),\n",
       " Data(x=[24, 3], edge_index=[2, 74], edge_attr=[74, 4], y=[1, 1], edge_mask=[74], idx=330, y_cf=[1], adj_padded=[24, 24], x_padded=[24, 3]),\n",
       " Data(x=[24, 3], edge_index=[2, 74], edge_attr=[74, 4], y=[1, 1], edge_mask=[74], idx=331, y_cf=[1], adj_padded=[24, 24], x_padded=[24, 3]),\n",
       " Data(x=[24, 3], edge_index=[2, 74], edge_attr=[74, 4], y=[1, 1], edge_mask=[74], idx=332, y_cf=[1], adj_padded=[24, 24], x_padded=[24, 3]),\n",
       " Data(x=[24, 3], edge_index=[2, 74], edge_attr=[74, 4], y=[1, 1], edge_mask=[74], idx=333, y_cf=[1], adj_padded=[24, 24], x_padded=[24, 3]),\n",
       " Data(x=[24, 3], edge_index=[2, 74], edge_attr=[74, 4], y=[1, 1], edge_mask=[74], idx=334, y_cf=[1], adj_padded=[24, 24], x_padded=[24, 3]),\n",
       " Data(x=[24, 3], edge_index=[2, 74], edge_attr=[74, 4], y=[1, 1], edge_mask=[74], idx=335, y_cf=[1], adj_padded=[24, 24], x_padded=[24, 3]),\n",
       " Data(x=[24, 3], edge_index=[2, 74], edge_attr=[74, 4], y=[1, 1], edge_mask=[74], idx=336, y_cf=[1], adj_padded=[24, 24], x_padded=[24, 3]),\n",
       " Data(x=[24, 3], edge_index=[2, 74], edge_attr=[74, 4], y=[1, 1], edge_mask=[74], idx=337, y_cf=[1], adj_padded=[24, 24], x_padded=[24, 3]),\n",
       " Data(x=[24, 3], edge_index=[2, 72], edge_attr=[72, 4], y=[1, 1], edge_mask=[72], idx=338, y_cf=[1], adj_padded=[24, 24], x_padded=[24, 3]),\n",
       " Data(x=[24, 3], edge_index=[2, 72], edge_attr=[72, 4], y=[1, 1], edge_mask=[72], idx=339, y_cf=[1], adj_padded=[24, 24], x_padded=[24, 3]),\n",
       " Data(x=[24, 3], edge_index=[2, 72], edge_attr=[72, 4], y=[1, 1], edge_mask=[72], idx=340, y_cf=[1], adj_padded=[24, 24], x_padded=[24, 3]),\n",
       " Data(x=[24, 3], edge_index=[2, 72], edge_attr=[72, 4], y=[1, 1], edge_mask=[72], idx=341, y_cf=[1], adj_padded=[24, 24], x_padded=[24, 3]),\n",
       " Data(x=[24, 3], edge_index=[2, 74], edge_attr=[74, 4], y=[1, 1], edge_mask=[74], idx=342, y_cf=[1], adj_padded=[24, 24], x_padded=[24, 3]),\n",
       " Data(x=[24, 3], edge_index=[2, 72], edge_attr=[72, 4], y=[1, 1], edge_mask=[72], idx=343, y_cf=[1], adj_padded=[24, 24], x_padded=[24, 3]),\n",
       " Data(x=[24, 3], edge_index=[2, 74], edge_attr=[74, 4], y=[1, 1], edge_mask=[74], idx=344, y_cf=[1], adj_padded=[24, 24], x_padded=[24, 3]),\n",
       " Data(x=[24, 3], edge_index=[2, 74], edge_attr=[74, 4], y=[1, 1], edge_mask=[74], idx=345, y_cf=[1], adj_padded=[24, 24], x_padded=[24, 3]),\n",
       " Data(x=[24, 3], edge_index=[2, 74], edge_attr=[74, 4], y=[1, 1], edge_mask=[74], idx=346, y_cf=[1], adj_padded=[24, 24], x_padded=[24, 3]),\n",
       " Data(x=[24, 3], edge_index=[2, 74], edge_attr=[74, 4], y=[1, 1], edge_mask=[74], idx=347, y_cf=[1], adj_padded=[24, 24], x_padded=[24, 3]),\n",
       " Data(x=[24, 3], edge_index=[2, 74], edge_attr=[74, 4], y=[1, 1], edge_mask=[74], idx=348, y_cf=[1], adj_padded=[24, 24], x_padded=[24, 3]),\n",
       " Data(x=[24, 3], edge_index=[2, 74], edge_attr=[74, 4], y=[1, 1], edge_mask=[74], idx=349, y_cf=[1], adj_padded=[24, 24], x_padded=[24, 3]),\n",
       " Data(x=[24, 3], edge_index=[2, 74], edge_attr=[74, 4], y=[1, 1], edge_mask=[74], idx=350, y_cf=[1], adj_padded=[24, 24], x_padded=[24, 3]),\n",
       " Data(x=[24, 3], edge_index=[2, 74], edge_attr=[74, 4], y=[1, 1], edge_mask=[74], idx=351, y_cf=[1], adj_padded=[24, 24], x_padded=[24, 3]),\n",
       " Data(x=[24, 3], edge_index=[2, 74], edge_attr=[74, 4], y=[1, 1], edge_mask=[74], idx=352, y_cf=[1], adj_padded=[24, 24], x_padded=[24, 3]),\n",
       " Data(x=[24, 3], edge_index=[2, 74], edge_attr=[74, 4], y=[1, 1], edge_mask=[74], idx=353, y_cf=[1], adj_padded=[24, 24], x_padded=[24, 3]),\n",
       " Data(x=[24, 3], edge_index=[2, 74], edge_attr=[74, 4], y=[1, 1], edge_mask=[74], idx=354, y_cf=[1], adj_padded=[24, 24], x_padded=[24, 3]),\n",
       " Data(x=[24, 3], edge_index=[2, 74], edge_attr=[74, 4], y=[1, 1], edge_mask=[74], idx=355, y_cf=[1], adj_padded=[24, 24], x_padded=[24, 3]),\n",
       " Data(x=[24, 3], edge_index=[2, 74], edge_attr=[74, 4], y=[1, 1], edge_mask=[74], idx=356, y_cf=[1], adj_padded=[24, 24], x_padded=[24, 3]),\n",
       " Data(x=[24, 3], edge_index=[2, 74], edge_attr=[74, 4], y=[1, 1], edge_mask=[74], idx=357, y_cf=[1], adj_padded=[24, 24], x_padded=[24, 3]),\n",
       " Data(x=[24, 3], edge_index=[2, 74], edge_attr=[74, 4], y=[1, 1], edge_mask=[74], idx=358, y_cf=[1], adj_padded=[24, 24], x_padded=[24, 3]),\n",
       " Data(x=[24, 3], edge_index=[2, 74], edge_attr=[74, 4], y=[1, 1], edge_mask=[74], idx=359, y_cf=[1], adj_padded=[24, 24], x_padded=[24, 3]),\n",
       " Data(x=[24, 3], edge_index=[2, 74], edge_attr=[74, 4], y=[1, 1], edge_mask=[74], idx=360, y_cf=[1], adj_padded=[24, 24], x_padded=[24, 3]),\n",
       " Data(x=[24, 3], edge_index=[2, 74], edge_attr=[74, 4], y=[1, 1], edge_mask=[74], idx=361, y_cf=[1], adj_padded=[24, 24], x_padded=[24, 3]),\n",
       " Data(x=[24, 3], edge_index=[2, 74], edge_attr=[74, 4], y=[1, 1], edge_mask=[74], idx=362, y_cf=[1], adj_padded=[24, 24], x_padded=[24, 3]),\n",
       " Data(x=[24, 3], edge_index=[2, 74], edge_attr=[74, 4], y=[1, 1], edge_mask=[74], idx=363, y_cf=[1], adj_padded=[24, 24], x_padded=[24, 3]),\n",
       " Data(x=[24, 3], edge_index=[2, 74], edge_attr=[74, 4], y=[1, 1], edge_mask=[74], idx=364, y_cf=[1], adj_padded=[24, 24], x_padded=[24, 3]),\n",
       " Data(x=[24, 3], edge_index=[2, 74], edge_attr=[74, 4], y=[1, 1], edge_mask=[74], idx=365, y_cf=[1], adj_padded=[24, 24], x_padded=[24, 3]),\n",
       " Data(x=[24, 3], edge_index=[2, 74], edge_attr=[74, 4], y=[1, 1], edge_mask=[74], idx=366, y_cf=[1], adj_padded=[24, 24], x_padded=[24, 3]),\n",
       " Data(x=[24, 3], edge_index=[2, 74], edge_attr=[74, 4], y=[1, 1], edge_mask=[74], idx=367, y_cf=[1], adj_padded=[24, 24], x_padded=[24, 3]),\n",
       " Data(x=[24, 3], edge_index=[2, 74], edge_attr=[74, 4], y=[1, 1], edge_mask=[74], idx=368, y_cf=[1], adj_padded=[24, 24], x_padded=[24, 3]),\n",
       " Data(x=[24, 3], edge_index=[2, 74], edge_attr=[74, 4], y=[1, 1], edge_mask=[74], idx=369, y_cf=[1], adj_padded=[24, 24], x_padded=[24, 3]),\n",
       " Data(x=[24, 3], edge_index=[2, 74], edge_attr=[74, 4], y=[1, 1], edge_mask=[74], idx=370, y_cf=[1], adj_padded=[24, 24], x_padded=[24, 3]),\n",
       " Data(x=[24, 3], edge_index=[2, 74], edge_attr=[74, 4], y=[1, 1], edge_mask=[74], idx=371, y_cf=[1], adj_padded=[24, 24], x_padded=[24, 3]),\n",
       " Data(x=[24, 3], edge_index=[2, 74], edge_attr=[74, 4], y=[1, 1], edge_mask=[74], idx=372, y_cf=[1], adj_padded=[24, 24], x_padded=[24, 3]),\n",
       " Data(x=[24, 3], edge_index=[2, 74], edge_attr=[74, 4], y=[1, 1], edge_mask=[74], idx=373, y_cf=[1], adj_padded=[24, 24], x_padded=[24, 3]),\n",
       " Data(x=[24, 3], edge_index=[2, 74], edge_attr=[74, 4], y=[1, 1], edge_mask=[74], idx=374, y_cf=[1], adj_padded=[24, 24], x_padded=[24, 3]),\n",
       " Data(x=[24, 3], edge_index=[2, 74], edge_attr=[74, 4], y=[1, 1], edge_mask=[74], idx=375, y_cf=[1], adj_padded=[24, 24], x_padded=[24, 3]),\n",
       " Data(x=[24, 3], edge_index=[2, 74], edge_attr=[74, 4], y=[1, 1], edge_mask=[74], idx=376, y_cf=[1], adj_padded=[24, 24], x_padded=[24, 3]),\n",
       " Data(x=[24, 3], edge_index=[2, 72], edge_attr=[72, 4], y=[1, 1], edge_mask=[72], idx=377, y_cf=[1], adj_padded=[24, 24], x_padded=[24, 3]),\n",
       " Data(x=[24, 3], edge_index=[2, 74], edge_attr=[74, 4], y=[1, 1], edge_mask=[74], idx=378, y_cf=[1], adj_padded=[24, 24], x_padded=[24, 3]),\n",
       " Data(x=[24, 3], edge_index=[2, 74], edge_attr=[74, 4], y=[1, 1], edge_mask=[74], idx=379, y_cf=[1], adj_padded=[24, 24], x_padded=[24, 3]),\n",
       " Data(x=[24, 3], edge_index=[2, 74], edge_attr=[74, 4], y=[1, 1], edge_mask=[74], idx=380, y_cf=[1], adj_padded=[24, 24], x_padded=[24, 3]),\n",
       " Data(x=[24, 3], edge_index=[2, 74], edge_attr=[74, 4], y=[1, 1], edge_mask=[74], idx=381, y_cf=[1], adj_padded=[24, 24], x_padded=[24, 3]),\n",
       " Data(x=[24, 3], edge_index=[2, 74], edge_attr=[74, 4], y=[1, 1], edge_mask=[74], idx=382, y_cf=[1], adj_padded=[24, 24], x_padded=[24, 3]),\n",
       " Data(x=[24, 3], edge_index=[2, 72], edge_attr=[72, 4], y=[1, 1], edge_mask=[72], idx=383, y_cf=[1], adj_padded=[24, 24], x_padded=[24, 3]),\n",
       " Data(x=[24, 3], edge_index=[2, 72], edge_attr=[72, 4], y=[1, 1], edge_mask=[72], idx=384, y_cf=[1], adj_padded=[24, 24], x_padded=[24, 3]),\n",
       " Data(x=[24, 3], edge_index=[2, 72], edge_attr=[72, 4], y=[1, 1], edge_mask=[72], idx=385, y_cf=[1], adj_padded=[24, 24], x_padded=[24, 3]),\n",
       " Data(x=[24, 3], edge_index=[2, 72], edge_attr=[72, 4], y=[1, 1], edge_mask=[72], idx=386, y_cf=[1], adj_padded=[24, 24], x_padded=[24, 3]),\n",
       " Data(x=[24, 3], edge_index=[2, 74], edge_attr=[74, 4], y=[1, 1], edge_mask=[74], idx=387, y_cf=[1], adj_padded=[24, 24], x_padded=[24, 3]),\n",
       " Data(x=[24, 3], edge_index=[2, 74], edge_attr=[74, 4], y=[1, 1], edge_mask=[74], idx=388, y_cf=[1], adj_padded=[24, 24], x_padded=[24, 3]),\n",
       " Data(x=[24, 3], edge_index=[2, 74], edge_attr=[74, 4], y=[1, 1], edge_mask=[74], idx=389, y_cf=[1], adj_padded=[24, 24], x_padded=[24, 3]),\n",
       " Data(x=[24, 3], edge_index=[2, 74], edge_attr=[74, 4], y=[1, 1], edge_mask=[74], idx=390, y_cf=[1], adj_padded=[24, 24], x_padded=[24, 3]),\n",
       " Data(x=[24, 3], edge_index=[2, 74], edge_attr=[74, 4], y=[1, 1], edge_mask=[74], idx=391, y_cf=[1], adj_padded=[24, 24], x_padded=[24, 3]),\n",
       " Data(x=[24, 3], edge_index=[2, 74], edge_attr=[74, 4], y=[1, 1], edge_mask=[74], idx=392, y_cf=[1], adj_padded=[24, 24], x_padded=[24, 3]),\n",
       " Data(x=[24, 3], edge_index=[2, 74], edge_attr=[74, 4], y=[1, 1], edge_mask=[74], idx=393, y_cf=[1], adj_padded=[24, 24], x_padded=[24, 3]),\n",
       " Data(x=[24, 3], edge_index=[2, 74], edge_attr=[74, 4], y=[1, 1], edge_mask=[74], idx=394, y_cf=[1], adj_padded=[24, 24], x_padded=[24, 3]),\n",
       " Data(x=[24, 3], edge_index=[2, 74], edge_attr=[74, 4], y=[1, 1], edge_mask=[74], idx=395, y_cf=[1], adj_padded=[24, 24], x_padded=[24, 3]),\n",
       " Data(x=[24, 3], edge_index=[2, 74], edge_attr=[74, 4], y=[1, 1], edge_mask=[74], idx=396, y_cf=[1], adj_padded=[24, 24], x_padded=[24, 3]),\n",
       " Data(x=[24, 3], edge_index=[2, 74], edge_attr=[74, 4], y=[1, 1], edge_mask=[74], idx=397, y_cf=[1], adj_padded=[24, 24], x_padded=[24, 3]),\n",
       " Data(x=[24, 3], edge_index=[2, 74], edge_attr=[74, 4], y=[1, 1], edge_mask=[74], idx=398, y_cf=[1], adj_padded=[24, 24], x_padded=[24, 3]),\n",
       " Data(x=[24, 3], edge_index=[2, 74], edge_attr=[74, 4], y=[1, 1], edge_mask=[74], idx=399, y_cf=[1], adj_padded=[24, 24], x_padded=[24, 3]),\n",
       " Data(x=[24, 3], edge_index=[2, 74], edge_attr=[74, 4], y=[1, 1], edge_mask=[74], idx=400, y_cf=[1], adj_padded=[24, 24], x_padded=[24, 3]),\n",
       " Data(x=[24, 3], edge_index=[2, 74], edge_attr=[74, 4], y=[1, 1], edge_mask=[74], idx=401, y_cf=[1], adj_padded=[24, 24], x_padded=[24, 3]),\n",
       " Data(x=[24, 3], edge_index=[2, 74], edge_attr=[74, 4], y=[1, 1], edge_mask=[74], idx=402, y_cf=[1], adj_padded=[24, 24], x_padded=[24, 3]),\n",
       " Data(x=[24, 3], edge_index=[2, 74], edge_attr=[74, 4], y=[1, 1], edge_mask=[74], idx=403, y_cf=[1], adj_padded=[24, 24], x_padded=[24, 3]),\n",
       " Data(x=[24, 3], edge_index=[2, 72], edge_attr=[72, 4], y=[1, 1], edge_mask=[72], idx=404, y_cf=[1], adj_padded=[24, 24], x_padded=[24, 3]),\n",
       " Data(x=[24, 3], edge_index=[2, 74], edge_attr=[74, 4], y=[1, 1], edge_mask=[74], idx=405, y_cf=[1], adj_padded=[24, 24], x_padded=[24, 3]),\n",
       " Data(x=[24, 3], edge_index=[2, 74], edge_attr=[74, 4], y=[1, 1], edge_mask=[74], idx=406, y_cf=[1], adj_padded=[24, 24], x_padded=[24, 3]),\n",
       " Data(x=[24, 3], edge_index=[2, 74], edge_attr=[74, 4], y=[1, 1], edge_mask=[74], idx=407, y_cf=[1], adj_padded=[24, 24], x_padded=[24, 3]),\n",
       " Data(x=[24, 3], edge_index=[2, 74], edge_attr=[74, 4], y=[1, 1], edge_mask=[74], idx=408, y_cf=[1], adj_padded=[24, 24], x_padded=[24, 3]),\n",
       " Data(x=[24, 3], edge_index=[2, 74], edge_attr=[74, 4], y=[1, 1], edge_mask=[74], idx=409, y_cf=[1], adj_padded=[24, 24], x_padded=[24, 3]),\n",
       " Data(x=[24, 3], edge_index=[2, 74], edge_attr=[74, 4], y=[1, 1], edge_mask=[74], idx=410, y_cf=[1], adj_padded=[24, 24], x_padded=[24, 3]),\n",
       " Data(x=[24, 3], edge_index=[2, 74], edge_attr=[74, 4], y=[1, 1], edge_mask=[74], idx=411, y_cf=[1], adj_padded=[24, 24], x_padded=[24, 3]),\n",
       " Data(x=[24, 3], edge_index=[2, 74], edge_attr=[74, 4], y=[1, 1], edge_mask=[74], idx=412, y_cf=[1], adj_padded=[24, 24], x_padded=[24, 3]),\n",
       " Data(x=[24, 3], edge_index=[2, 74], edge_attr=[74, 4], y=[1, 1], edge_mask=[74], idx=413, y_cf=[1], adj_padded=[24, 24], x_padded=[24, 3]),\n",
       " Data(x=[24, 3], edge_index=[2, 74], edge_attr=[74, 4], y=[1, 1], edge_mask=[74], idx=414, y_cf=[1], adj_padded=[24, 24], x_padded=[24, 3]),\n",
       " Data(x=[24, 3], edge_index=[2, 74], edge_attr=[74, 4], y=[1, 1], edge_mask=[74], idx=415, y_cf=[1], adj_padded=[24, 24], x_padded=[24, 3]),\n",
       " Data(x=[24, 3], edge_index=[2, 74], edge_attr=[74, 4], y=[1, 1], edge_mask=[74], idx=416, y_cf=[1], adj_padded=[24, 24], x_padded=[24, 3]),\n",
       " Data(x=[24, 3], edge_index=[2, 74], edge_attr=[74, 4], y=[1, 1], edge_mask=[74], idx=417, y_cf=[1], adj_padded=[24, 24], x_padded=[24, 3]),\n",
       " Data(x=[24, 3], edge_index=[2, 74], edge_attr=[74, 4], y=[1, 1], edge_mask=[74], idx=418, y_cf=[1], adj_padded=[24, 24], x_padded=[24, 3]),\n",
       " Data(x=[24, 3], edge_index=[2, 74], edge_attr=[74, 4], y=[1, 1], edge_mask=[74], idx=419, y_cf=[1], adj_padded=[24, 24], x_padded=[24, 3]),\n",
       " Data(x=[24, 3], edge_index=[2, 72], edge_attr=[72, 4], y=[1, 1], edge_mask=[72], idx=420, y_cf=[1], adj_padded=[24, 24], x_padded=[24, 3]),\n",
       " Data(x=[24, 3], edge_index=[2, 74], edge_attr=[74, 4], y=[1, 1], edge_mask=[74], idx=421, y_cf=[1], adj_padded=[24, 24], x_padded=[24, 3]),\n",
       " Data(x=[24, 3], edge_index=[2, 74], edge_attr=[74, 4], y=[1, 1], edge_mask=[74], idx=422, y_cf=[1], adj_padded=[24, 24], x_padded=[24, 3]),\n",
       " Data(x=[24, 3], edge_index=[2, 74], edge_attr=[74, 4], y=[1, 1], edge_mask=[74], idx=423, y_cf=[1], adj_padded=[24, 24], x_padded=[24, 3]),\n",
       " Data(x=[24, 3], edge_index=[2, 70], edge_attr=[70, 4], y=[1, 1], edge_mask=[70], idx=424, y_cf=[1], adj_padded=[24, 24], x_padded=[24, 3]),\n",
       " Data(x=[24, 3], edge_index=[2, 74], edge_attr=[74, 4], y=[1, 1], edge_mask=[74], idx=425, y_cf=[1], adj_padded=[24, 24], x_padded=[24, 3]),\n",
       " Data(x=[24, 3], edge_index=[2, 74], edge_attr=[74, 4], y=[1, 1], edge_mask=[74], idx=426, y_cf=[1], adj_padded=[24, 24], x_padded=[24, 3]),\n",
       " Data(x=[24, 3], edge_index=[2, 72], edge_attr=[72, 4], y=[1, 1], edge_mask=[72], idx=427, y_cf=[1], adj_padded=[24, 24], x_padded=[24, 3]),\n",
       " Data(x=[24, 3], edge_index=[2, 72], edge_attr=[72, 4], y=[1, 1], edge_mask=[72], idx=428, y_cf=[1], adj_padded=[24, 24], x_padded=[24, 3]),\n",
       " Data(x=[24, 3], edge_index=[2, 74], edge_attr=[74, 4], y=[1, 1], edge_mask=[74], idx=429, y_cf=[1], adj_padded=[24, 24], x_padded=[24, 3]),\n",
       " Data(x=[24, 3], edge_index=[2, 74], edge_attr=[74, 4], y=[1, 1], edge_mask=[74], idx=430, y_cf=[1], adj_padded=[24, 24], x_padded=[24, 3]),\n",
       " Data(x=[24, 3], edge_index=[2, 74], edge_attr=[74, 4], y=[1, 1], edge_mask=[74], idx=431, y_cf=[1], adj_padded=[24, 24], x_padded=[24, 3]),\n",
       " Data(x=[24, 3], edge_index=[2, 74], edge_attr=[74, 4], y=[1, 1], edge_mask=[74], idx=432, y_cf=[1], adj_padded=[24, 24], x_padded=[24, 3]),\n",
       " Data(x=[24, 3], edge_index=[2, 74], edge_attr=[74, 4], y=[1, 1], edge_mask=[74], idx=433, y_cf=[1], adj_padded=[24, 24], x_padded=[24, 3]),\n",
       " Data(x=[24, 3], edge_index=[2, 74], edge_attr=[74, 4], y=[1, 1], edge_mask=[74], idx=434, y_cf=[1], adj_padded=[24, 24], x_padded=[24, 3]),\n",
       " Data(x=[24, 3], edge_index=[2, 74], edge_attr=[74, 4], y=[1, 1], edge_mask=[74], idx=435, y_cf=[1], adj_padded=[24, 24], x_padded=[24, 3]),\n",
       " Data(x=[24, 3], edge_index=[2, 74], edge_attr=[74, 4], y=[1, 1], edge_mask=[74], idx=436, y_cf=[1], adj_padded=[24, 24], x_padded=[24, 3]),\n",
       " Data(x=[24, 3], edge_index=[2, 74], edge_attr=[74, 4], y=[1, 1], edge_mask=[74], idx=437, y_cf=[1], adj_padded=[24, 24], x_padded=[24, 3]),\n",
       " Data(x=[24, 3], edge_index=[2, 74], edge_attr=[74, 4], y=[1, 1], edge_mask=[74], idx=438, y_cf=[1], adj_padded=[24, 24], x_padded=[24, 3]),\n",
       " Data(x=[24, 3], edge_index=[2, 74], edge_attr=[74, 4], y=[1, 1], edge_mask=[74], idx=439, y_cf=[1], adj_padded=[24, 24], x_padded=[24, 3]),\n",
       " Data(x=[24, 3], edge_index=[2, 74], edge_attr=[74, 4], y=[1, 1], edge_mask=[74], idx=440, y_cf=[1], adj_padded=[24, 24], x_padded=[24, 3]),\n",
       " Data(x=[24, 3], edge_index=[2, 74], edge_attr=[74, 4], y=[1, 1], edge_mask=[74], idx=441, y_cf=[1], adj_padded=[24, 24], x_padded=[24, 3]),\n",
       " Data(x=[24, 3], edge_index=[2, 74], edge_attr=[74, 4], y=[1, 1], edge_mask=[74], idx=442, y_cf=[1], adj_padded=[24, 24], x_padded=[24, 3]),\n",
       " Data(x=[24, 3], edge_index=[2, 74], edge_attr=[74, 4], y=[1, 1], edge_mask=[74], idx=443, y_cf=[1], adj_padded=[24, 24], x_padded=[24, 3]),\n",
       " Data(x=[24, 3], edge_index=[2, 74], edge_attr=[74, 4], y=[1, 1], edge_mask=[74], idx=444, y_cf=[1], adj_padded=[24, 24], x_padded=[24, 3]),\n",
       " Data(x=[24, 3], edge_index=[2, 72], edge_attr=[72, 4], y=[1, 1], edge_mask=[72], idx=445, y_cf=[1], adj_padded=[24, 24], x_padded=[24, 3]),\n",
       " Data(x=[24, 3], edge_index=[2, 74], edge_attr=[74, 4], y=[1, 1], edge_mask=[74], idx=446, y_cf=[1], adj_padded=[24, 24], x_padded=[24, 3]),\n",
       " Data(x=[24, 3], edge_index=[2, 74], edge_attr=[74, 4], y=[1, 1], edge_mask=[74], idx=447, y_cf=[1], adj_padded=[24, 24], x_padded=[24, 3]),\n",
       " Data(x=[24, 3], edge_index=[2, 74], edge_attr=[74, 4], y=[1, 1], edge_mask=[74], idx=448, y_cf=[1], adj_padded=[24, 24], x_padded=[24, 3]),\n",
       " Data(x=[24, 3], edge_index=[2, 74], edge_attr=[74, 4], y=[1, 1], edge_mask=[74], idx=449, y_cf=[1], adj_padded=[24, 24], x_padded=[24, 3]),\n",
       " Data(x=[24, 3], edge_index=[2, 74], edge_attr=[74, 4], y=[1, 1], edge_mask=[74], idx=450, y_cf=[1], adj_padded=[24, 24], x_padded=[24, 3]),\n",
       " Data(x=[24, 3], edge_index=[2, 74], edge_attr=[74, 4], y=[1, 1], edge_mask=[74], idx=451, y_cf=[1], adj_padded=[24, 24], x_padded=[24, 3]),\n",
       " Data(x=[24, 3], edge_index=[2, 74], edge_attr=[74, 4], y=[1, 1], edge_mask=[74], idx=452, y_cf=[1], adj_padded=[24, 24], x_padded=[24, 3]),\n",
       " Data(x=[24, 3], edge_index=[2, 74], edge_attr=[74, 4], y=[1, 1], edge_mask=[74], idx=453, y_cf=[1], adj_padded=[24, 24], x_padded=[24, 3]),\n",
       " Data(x=[24, 3], edge_index=[2, 74], edge_attr=[74, 4], y=[1, 1], edge_mask=[74], idx=454, y_cf=[1], adj_padded=[24, 24], x_padded=[24, 3]),\n",
       " Data(x=[24, 3], edge_index=[2, 74], edge_attr=[74, 4], y=[1, 1], edge_mask=[74], idx=455, y_cf=[1], adj_padded=[24, 24], x_padded=[24, 3]),\n",
       " Data(x=[24, 3], edge_index=[2, 74], edge_attr=[74, 4], y=[1, 1], edge_mask=[74], idx=456, y_cf=[1], adj_padded=[24, 24], x_padded=[24, 3]),\n",
       " Data(x=[24, 3], edge_index=[2, 74], edge_attr=[74, 4], y=[1, 1], edge_mask=[74], idx=457, y_cf=[1], adj_padded=[24, 24], x_padded=[24, 3]),\n",
       " Data(x=[24, 3], edge_index=[2, 74], edge_attr=[74, 4], y=[1, 1], edge_mask=[74], idx=458, y_cf=[1], adj_padded=[24, 24], x_padded=[24, 3]),\n",
       " Data(x=[24, 3], edge_index=[2, 74], edge_attr=[74, 4], y=[1, 1], edge_mask=[74], idx=459, y_cf=[1], adj_padded=[24, 24], x_padded=[24, 3]),\n",
       " Data(x=[24, 3], edge_index=[2, 74], edge_attr=[74, 4], y=[1, 1], edge_mask=[74], idx=460, y_cf=[1], adj_padded=[24, 24], x_padded=[24, 3]),\n",
       " Data(x=[24, 3], edge_index=[2, 74], edge_attr=[74, 4], y=[1, 1], edge_mask=[74], idx=461, y_cf=[1], adj_padded=[24, 24], x_padded=[24, 3]),\n",
       " Data(x=[24, 3], edge_index=[2, 74], edge_attr=[74, 4], y=[1, 1], edge_mask=[74], idx=462, y_cf=[1], adj_padded=[24, 24], x_padded=[24, 3]),\n",
       " Data(x=[24, 3], edge_index=[2, 72], edge_attr=[72, 4], y=[1, 1], edge_mask=[72], idx=463, y_cf=[1], adj_padded=[24, 24], x_padded=[24, 3]),\n",
       " Data(x=[24, 3], edge_index=[2, 74], edge_attr=[74, 4], y=[1, 1], edge_mask=[74], idx=464, y_cf=[1], adj_padded=[24, 24], x_padded=[24, 3]),\n",
       " Data(x=[24, 3], edge_index=[2, 74], edge_attr=[74, 4], y=[1, 1], edge_mask=[74], idx=465, y_cf=[1], adj_padded=[24, 24], x_padded=[24, 3]),\n",
       " Data(x=[24, 3], edge_index=[2, 74], edge_attr=[74, 4], y=[1, 1], edge_mask=[74], idx=466, y_cf=[1], adj_padded=[24, 24], x_padded=[24, 3]),\n",
       " Data(x=[24, 3], edge_index=[2, 74], edge_attr=[74, 4], y=[1, 1], edge_mask=[74], idx=467, y_cf=[1], adj_padded=[24, 24], x_padded=[24, 3]),\n",
       " Data(x=[24, 3], edge_index=[2, 74], edge_attr=[74, 4], y=[1, 1], edge_mask=[74], idx=468, y_cf=[1], adj_padded=[24, 24], x_padded=[24, 3]),\n",
       " Data(x=[24, 3], edge_index=[2, 72], edge_attr=[72, 4], y=[1, 1], edge_mask=[72], idx=469, y_cf=[1], adj_padded=[24, 24], x_padded=[24, 3]),\n",
       " Data(x=[24, 3], edge_index=[2, 74], edge_attr=[74, 4], y=[1, 1], edge_mask=[74], idx=470, y_cf=[1], adj_padded=[24, 24], x_padded=[24, 3]),\n",
       " Data(x=[24, 3], edge_index=[2, 72], edge_attr=[72, 4], y=[1, 1], edge_mask=[72], idx=471, y_cf=[1], adj_padded=[24, 24], x_padded=[24, 3]),\n",
       " Data(x=[24, 3], edge_index=[2, 72], edge_attr=[72, 4], y=[1, 1], edge_mask=[72], idx=472, y_cf=[1], adj_padded=[24, 24], x_padded=[24, 3]),\n",
       " Data(x=[24, 3], edge_index=[2, 74], edge_attr=[74, 4], y=[1, 1], edge_mask=[74], idx=473, y_cf=[1], adj_padded=[24, 24], x_padded=[24, 3]),\n",
       " Data(x=[24, 3], edge_index=[2, 74], edge_attr=[74, 4], y=[1, 1], edge_mask=[74], idx=474, y_cf=[1], adj_padded=[24, 24], x_padded=[24, 3]),\n",
       " Data(x=[24, 3], edge_index=[2, 74], edge_attr=[74, 4], y=[1, 1], edge_mask=[74], idx=475, y_cf=[1], adj_padded=[24, 24], x_padded=[24, 3]),\n",
       " Data(x=[24, 3], edge_index=[2, 74], edge_attr=[74, 4], y=[1, 1], edge_mask=[74], idx=476, y_cf=[1], adj_padded=[24, 24], x_padded=[24, 3]),\n",
       " Data(x=[24, 3], edge_index=[2, 74], edge_attr=[74, 4], y=[1, 1], edge_mask=[74], idx=477, y_cf=[1], adj_padded=[24, 24], x_padded=[24, 3]),\n",
       " Data(x=[24, 3], edge_index=[2, 74], edge_attr=[74, 4], y=[1, 1], edge_mask=[74], idx=478, y_cf=[1], adj_padded=[24, 24], x_padded=[24, 3]),\n",
       " Data(x=[24, 3], edge_index=[2, 74], edge_attr=[74, 4], y=[1, 1], edge_mask=[74], idx=479, y_cf=[1], adj_padded=[24, 24], x_padded=[24, 3]),\n",
       " Data(x=[24, 3], edge_index=[2, 74], edge_attr=[74, 4], y=[1, 1], edge_mask=[74], idx=480, y_cf=[1], adj_padded=[24, 24], x_padded=[24, 3]),\n",
       " Data(x=[24, 3], edge_index=[2, 74], edge_attr=[74, 4], y=[1, 1], edge_mask=[74], idx=481, y_cf=[1], adj_padded=[24, 24], x_padded=[24, 3]),\n",
       " Data(x=[24, 3], edge_index=[2, 74], edge_attr=[74, 4], y=[1, 1], edge_mask=[74], idx=482, y_cf=[1], adj_padded=[24, 24], x_padded=[24, 3]),\n",
       " Data(x=[24, 3], edge_index=[2, 74], edge_attr=[74, 4], y=[1, 1], edge_mask=[74], idx=483, y_cf=[1], adj_padded=[24, 24], x_padded=[24, 3]),\n",
       " Data(x=[24, 3], edge_index=[2, 74], edge_attr=[74, 4], y=[1, 1], edge_mask=[74], idx=484, y_cf=[1], adj_padded=[24, 24], x_padded=[24, 3]),\n",
       " Data(x=[24, 3], edge_index=[2, 74], edge_attr=[74, 4], y=[1, 1], edge_mask=[74], idx=485, y_cf=[1], adj_padded=[24, 24], x_padded=[24, 3]),\n",
       " Data(x=[24, 3], edge_index=[2, 74], edge_attr=[74, 4], y=[1, 1], edge_mask=[74], idx=486, y_cf=[1], adj_padded=[24, 24], x_padded=[24, 3]),\n",
       " Data(x=[24, 3], edge_index=[2, 74], edge_attr=[74, 4], y=[1, 1], edge_mask=[74], idx=487, y_cf=[1], adj_padded=[24, 24], x_padded=[24, 3]),\n",
       " Data(x=[24, 3], edge_index=[2, 74], edge_attr=[74, 4], y=[1, 1], edge_mask=[74], idx=488, y_cf=[1], adj_padded=[24, 24], x_padded=[24, 3]),\n",
       " Data(x=[24, 3], edge_index=[2, 74], edge_attr=[74, 4], y=[1, 1], edge_mask=[74], idx=489, y_cf=[1], adj_padded=[24, 24], x_padded=[24, 3]),\n",
       " Data(x=[24, 3], edge_index=[2, 74], edge_attr=[74, 4], y=[1, 1], edge_mask=[74], idx=490, y_cf=[1], adj_padded=[24, 24], x_padded=[24, 3]),\n",
       " Data(x=[24, 3], edge_index=[2, 74], edge_attr=[74, 4], y=[1, 1], edge_mask=[74], idx=491, y_cf=[1], adj_padded=[24, 24], x_padded=[24, 3]),\n",
       " Data(x=[24, 3], edge_index=[2, 74], edge_attr=[74, 4], y=[1, 1], edge_mask=[74], idx=492, y_cf=[1], adj_padded=[24, 24], x_padded=[24, 3]),\n",
       " Data(x=[24, 3], edge_index=[2, 74], edge_attr=[74, 4], y=[1, 1], edge_mask=[74], idx=493, y_cf=[1], adj_padded=[24, 24], x_padded=[24, 3]),\n",
       " Data(x=[24, 3], edge_index=[2, 74], edge_attr=[74, 4], y=[1, 1], edge_mask=[74], idx=494, y_cf=[1], adj_padded=[24, 24], x_padded=[24, 3]),\n",
       " Data(x=[24, 3], edge_index=[2, 74], edge_attr=[74, 4], y=[1, 1], edge_mask=[74], idx=495, y_cf=[1], adj_padded=[24, 24], x_padded=[24, 3]),\n",
       " Data(x=[24, 3], edge_index=[2, 72], edge_attr=[72, 4], y=[1, 1], edge_mask=[72], idx=496, y_cf=[1], adj_padded=[24, 24], x_padded=[24, 3]),\n",
       " Data(x=[24, 3], edge_index=[2, 74], edge_attr=[74, 4], y=[1, 1], edge_mask=[74], idx=497, y_cf=[1], adj_padded=[24, 24], x_padded=[24, 3]),\n",
       " Data(x=[24, 3], edge_index=[2, 74], edge_attr=[74, 4], y=[1, 1], edge_mask=[74], idx=498, y_cf=[1], adj_padded=[24, 24], x_padded=[24, 3]),\n",
       " Data(x=[24, 3], edge_index=[2, 74], edge_attr=[74, 4], y=[1, 1], edge_mask=[74], idx=499, y_cf=[1], adj_padded=[24, 24], x_padded=[24, 3]),\n",
       " Data(x=[24, 3], edge_index=[2, 74], edge_attr=[74, 4], y=[1, 1], edge_mask=[74], idx=500, y_cf=[1], adj_padded=[24, 24], x_padded=[24, 3]),\n",
       " Data(x=[24, 3], edge_index=[2, 74], edge_attr=[74, 4], y=[1, 1], edge_mask=[74], idx=501, y_cf=[1], adj_padded=[24, 24], x_padded=[24, 3]),\n",
       " Data(x=[24, 3], edge_index=[2, 74], edge_attr=[74, 4], y=[1, 1], edge_mask=[74], idx=502, y_cf=[1], adj_padded=[24, 24], x_padded=[24, 3]),\n",
       " Data(x=[24, 3], edge_index=[2, 74], edge_attr=[74, 4], y=[1, 1], edge_mask=[74], idx=503, y_cf=[1], adj_padded=[24, 24], x_padded=[24, 3]),\n",
       " Data(x=[24, 3], edge_index=[2, 74], edge_attr=[74, 4], y=[1, 1], edge_mask=[74], idx=504, y_cf=[1], adj_padded=[24, 24], x_padded=[24, 3]),\n",
       " Data(x=[24, 3], edge_index=[2, 72], edge_attr=[72, 4], y=[1, 1], edge_mask=[72], idx=505, y_cf=[1], adj_padded=[24, 24], x_padded=[24, 3]),\n",
       " Data(x=[24, 3], edge_index=[2, 74], edge_attr=[74, 4], y=[1, 1], edge_mask=[74], idx=506, y_cf=[1], adj_padded=[24, 24], x_padded=[24, 3]),\n",
       " Data(x=[24, 3], edge_index=[2, 74], edge_attr=[74, 4], y=[1, 1], edge_mask=[74], idx=507, y_cf=[1], adj_padded=[24, 24], x_padded=[24, 3]),\n",
       " Data(x=[24, 3], edge_index=[2, 74], edge_attr=[74, 4], y=[1, 1], edge_mask=[74], idx=508, y_cf=[1], adj_padded=[24, 24], x_padded=[24, 3]),\n",
       " Data(x=[24, 3], edge_index=[2, 74], edge_attr=[74, 4], y=[1, 1], edge_mask=[74], idx=509, y_cf=[1], adj_padded=[24, 24], x_padded=[24, 3]),\n",
       " Data(x=[24, 3], edge_index=[2, 74], edge_attr=[74, 4], y=[1, 1], edge_mask=[74], idx=510, y_cf=[1], adj_padded=[24, 24], x_padded=[24, 3]),\n",
       " Data(x=[24, 3], edge_index=[2, 72], edge_attr=[72, 4], y=[1, 1], edge_mask=[72], idx=511, y_cf=[1], adj_padded=[24, 24], x_padded=[24, 3]),\n",
       " Data(x=[24, 3], edge_index=[2, 72], edge_attr=[72, 4], y=[1, 1], edge_mask=[72], idx=512, y_cf=[1], adj_padded=[24, 24], x_padded=[24, 3]),\n",
       " Data(x=[24, 3], edge_index=[2, 74], edge_attr=[74, 4], y=[1, 1], edge_mask=[74], idx=513, y_cf=[1], adj_padded=[24, 24], x_padded=[24, 3]),\n",
       " Data(x=[24, 3], edge_index=[2, 72], edge_attr=[72, 4], y=[1, 1], edge_mask=[72], idx=514, y_cf=[1], adj_padded=[24, 24], x_padded=[24, 3]),\n",
       " Data(x=[24, 3], edge_index=[2, 72], edge_attr=[72, 4], y=[1, 1], edge_mask=[72], idx=515, y_cf=[1], adj_padded=[24, 24], x_padded=[24, 3]),\n",
       " Data(x=[24, 3], edge_index=[2, 74], edge_attr=[74, 4], y=[1, 1], edge_mask=[74], idx=516, y_cf=[1], adj_padded=[24, 24], x_padded=[24, 3]),\n",
       " Data(x=[24, 3], edge_index=[2, 74], edge_attr=[74, 4], y=[1, 1], edge_mask=[74], idx=517, y_cf=[1], adj_padded=[24, 24], x_padded=[24, 3]),\n",
       " Data(x=[24, 3], edge_index=[2, 74], edge_attr=[74, 4], y=[1, 1], edge_mask=[74], idx=518, y_cf=[1], adj_padded=[24, 24], x_padded=[24, 3]),\n",
       " Data(x=[24, 3], edge_index=[2, 74], edge_attr=[74, 4], y=[1, 1], edge_mask=[74], idx=519, y_cf=[1], adj_padded=[24, 24], x_padded=[24, 3]),\n",
       " Data(x=[24, 3], edge_index=[2, 74], edge_attr=[74, 4], y=[1, 1], edge_mask=[74], idx=520, y_cf=[1], adj_padded=[24, 24], x_padded=[24, 3]),\n",
       " Data(x=[24, 3], edge_index=[2, 74], edge_attr=[74, 4], y=[1, 1], edge_mask=[74], idx=521, y_cf=[1], adj_padded=[24, 24], x_padded=[24, 3]),\n",
       " Data(x=[24, 3], edge_index=[2, 74], edge_attr=[74, 4], y=[1, 1], edge_mask=[74], idx=522, y_cf=[1], adj_padded=[24, 24], x_padded=[24, 3]),\n",
       " Data(x=[24, 3], edge_index=[2, 72], edge_attr=[72, 4], y=[1, 1], edge_mask=[72], idx=523, y_cf=[1], adj_padded=[24, 24], x_padded=[24, 3]),\n",
       " Data(x=[24, 3], edge_index=[2, 74], edge_attr=[74, 4], y=[1, 1], edge_mask=[74], idx=524, y_cf=[1], adj_padded=[24, 24], x_padded=[24, 3]),\n",
       " Data(x=[24, 3], edge_index=[2, 74], edge_attr=[74, 4], y=[1, 1], edge_mask=[74], idx=525, y_cf=[1], adj_padded=[24, 24], x_padded=[24, 3]),\n",
       " Data(x=[24, 3], edge_index=[2, 74], edge_attr=[74, 4], y=[1, 1], edge_mask=[74], idx=526, y_cf=[1], adj_padded=[24, 24], x_padded=[24, 3]),\n",
       " Data(x=[24, 3], edge_index=[2, 74], edge_attr=[74, 4], y=[1, 1], edge_mask=[74], idx=527, y_cf=[1], adj_padded=[24, 24], x_padded=[24, 3]),\n",
       " Data(x=[24, 3], edge_index=[2, 74], edge_attr=[74, 4], y=[1, 1], edge_mask=[74], idx=528, y_cf=[1], adj_padded=[24, 24], x_padded=[24, 3]),\n",
       " Data(x=[24, 3], edge_index=[2, 74], edge_attr=[74, 4], y=[1, 1], edge_mask=[74], idx=529, y_cf=[1], adj_padded=[24, 24], x_padded=[24, 3]),\n",
       " Data(x=[24, 3], edge_index=[2, 74], edge_attr=[74, 4], y=[1, 1], edge_mask=[74], idx=530, y_cf=[1], adj_padded=[24, 24], x_padded=[24, 3]),\n",
       " Data(x=[24, 3], edge_index=[2, 74], edge_attr=[74, 4], y=[1, 1], edge_mask=[74], idx=531, y_cf=[1], adj_padded=[24, 24], x_padded=[24, 3]),\n",
       " Data(x=[24, 3], edge_index=[2, 74], edge_attr=[74, 4], y=[1, 1], edge_mask=[74], idx=532, y_cf=[1], adj_padded=[24, 24], x_padded=[24, 3]),\n",
       " Data(x=[24, 3], edge_index=[2, 74], edge_attr=[74, 4], y=[1, 1], edge_mask=[74], idx=533, y_cf=[1], adj_padded=[24, 24], x_padded=[24, 3]),\n",
       " Data(x=[24, 3], edge_index=[2, 74], edge_attr=[74, 4], y=[1, 1], edge_mask=[74], idx=534, y_cf=[1], adj_padded=[24, 24], x_padded=[24, 3]),\n",
       " Data(x=[24, 3], edge_index=[2, 74], edge_attr=[74, 4], y=[1, 1], edge_mask=[74], idx=535, y_cf=[1], adj_padded=[24, 24], x_padded=[24, 3]),\n",
       " Data(x=[24, 3], edge_index=[2, 74], edge_attr=[74, 4], y=[1, 1], edge_mask=[74], idx=536, y_cf=[1], adj_padded=[24, 24], x_padded=[24, 3]),\n",
       " Data(x=[24, 3], edge_index=[2, 74], edge_attr=[74, 4], y=[1, 1], edge_mask=[74], idx=537, y_cf=[1], adj_padded=[24, 24], x_padded=[24, 3]),\n",
       " Data(x=[24, 3], edge_index=[2, 74], edge_attr=[74, 4], y=[1, 1], edge_mask=[74], idx=538, y_cf=[1], adj_padded=[24, 24], x_padded=[24, 3]),\n",
       " Data(x=[24, 3], edge_index=[2, 74], edge_attr=[74, 4], y=[1, 1], edge_mask=[74], idx=539, y_cf=[1], adj_padded=[24, 24], x_padded=[24, 3]),\n",
       " Data(x=[24, 3], edge_index=[2, 74], edge_attr=[74, 4], y=[1, 1], edge_mask=[74], idx=540, y_cf=[1], adj_padded=[24, 24], x_padded=[24, 3]),\n",
       " Data(x=[24, 3], edge_index=[2, 74], edge_attr=[74, 4], y=[1, 1], edge_mask=[74], idx=541, y_cf=[1], adj_padded=[24, 24], x_padded=[24, 3]),\n",
       " Data(x=[24, 3], edge_index=[2, 74], edge_attr=[74, 4], y=[1, 1], edge_mask=[74], idx=542, y_cf=[1], adj_padded=[24, 24], x_padded=[24, 3]),\n",
       " Data(x=[24, 3], edge_index=[2, 74], edge_attr=[74, 4], y=[1, 1], edge_mask=[74], idx=543, y_cf=[1], adj_padded=[24, 24], x_padded=[24, 3]),\n",
       " Data(x=[24, 3], edge_index=[2, 74], edge_attr=[74, 4], y=[1, 1], edge_mask=[74], idx=544, y_cf=[1], adj_padded=[24, 24], x_padded=[24, 3]),\n",
       " Data(x=[24, 3], edge_index=[2, 74], edge_attr=[74, 4], y=[1, 1], edge_mask=[74], idx=545, y_cf=[1], adj_padded=[24, 24], x_padded=[24, 3]),\n",
       " Data(x=[24, 3], edge_index=[2, 74], edge_attr=[74, 4], y=[1, 1], edge_mask=[74], idx=546, y_cf=[1], adj_padded=[24, 24], x_padded=[24, 3]),\n",
       " Data(x=[24, 3], edge_index=[2, 74], edge_attr=[74, 4], y=[1, 1], edge_mask=[74], idx=547, y_cf=[1], adj_padded=[24, 24], x_padded=[24, 3]),\n",
       " Data(x=[24, 3], edge_index=[2, 74], edge_attr=[74, 4], y=[1, 1], edge_mask=[74], idx=548, y_cf=[1], adj_padded=[24, 24], x_padded=[24, 3]),\n",
       " Data(x=[24, 3], edge_index=[2, 74], edge_attr=[74, 4], y=[1, 1], edge_mask=[74], idx=549, y_cf=[1], adj_padded=[24, 24], x_padded=[24, 3]),\n",
       " Data(x=[24, 3], edge_index=[2, 74], edge_attr=[74, 4], y=[1, 1], edge_mask=[74], idx=550, y_cf=[1], adj_padded=[24, 24], x_padded=[24, 3]),\n",
       " Data(x=[24, 3], edge_index=[2, 74], edge_attr=[74, 4], y=[1, 1], edge_mask=[74], idx=551, y_cf=[1], adj_padded=[24, 24], x_padded=[24, 3]),\n",
       " Data(x=[24, 3], edge_index=[2, 74], edge_attr=[74, 4], y=[1, 1], edge_mask=[74], idx=552, y_cf=[1], adj_padded=[24, 24], x_padded=[24, 3]),\n",
       " Data(x=[24, 3], edge_index=[2, 74], edge_attr=[74, 4], y=[1, 1], edge_mask=[74], idx=553, y_cf=[1], adj_padded=[24, 24], x_padded=[24, 3]),\n",
       " Data(x=[24, 3], edge_index=[2, 74], edge_attr=[74, 4], y=[1, 1], edge_mask=[74], idx=554, y_cf=[1], adj_padded=[24, 24], x_padded=[24, 3]),\n",
       " Data(x=[24, 3], edge_index=[2, 72], edge_attr=[72, 4], y=[1, 1], edge_mask=[72], idx=555, y_cf=[1], adj_padded=[24, 24], x_padded=[24, 3]),\n",
       " Data(x=[24, 3], edge_index=[2, 72], edge_attr=[72, 4], y=[1, 1], edge_mask=[72], idx=556, y_cf=[1], adj_padded=[24, 24], x_padded=[24, 3]),\n",
       " Data(x=[24, 3], edge_index=[2, 72], edge_attr=[72, 4], y=[1, 1], edge_mask=[72], idx=557, y_cf=[1], adj_padded=[24, 24], x_padded=[24, 3]),\n",
       " Data(x=[24, 3], edge_index=[2, 72], edge_attr=[72, 4], y=[1, 1], edge_mask=[72], idx=558, y_cf=[1], adj_padded=[24, 24], x_padded=[24, 3]),\n",
       " Data(x=[24, 3], edge_index=[2, 74], edge_attr=[74, 4], y=[1, 1], edge_mask=[74], idx=559, y_cf=[1], adj_padded=[24, 24], x_padded=[24, 3]),\n",
       " Data(x=[24, 3], edge_index=[2, 74], edge_attr=[74, 4], y=[1, 1], edge_mask=[74], idx=560, y_cf=[1], adj_padded=[24, 24], x_padded=[24, 3]),\n",
       " Data(x=[24, 3], edge_index=[2, 74], edge_attr=[74, 4], y=[1, 1], edge_mask=[74], idx=561, y_cf=[1], adj_padded=[24, 24], x_padded=[24, 3]),\n",
       " Data(x=[24, 3], edge_index=[2, 74], edge_attr=[74, 4], y=[1, 1], edge_mask=[74], idx=562, y_cf=[1], adj_padded=[24, 24], x_padded=[24, 3]),\n",
       " Data(x=[24, 3], edge_index=[2, 74], edge_attr=[74, 4], y=[1, 1], edge_mask=[74], idx=563, y_cf=[1], adj_padded=[24, 24], x_padded=[24, 3]),\n",
       " Data(x=[24, 3], edge_index=[2, 74], edge_attr=[74, 4], y=[1, 1], edge_mask=[74], idx=564, y_cf=[1], adj_padded=[24, 24], x_padded=[24, 3]),\n",
       " Data(x=[24, 3], edge_index=[2, 74], edge_attr=[74, 4], y=[1, 1], edge_mask=[74], idx=565, y_cf=[1], adj_padded=[24, 24], x_padded=[24, 3]),\n",
       " Data(x=[24, 3], edge_index=[2, 74], edge_attr=[74, 4], y=[1, 1], edge_mask=[74], idx=566, y_cf=[1], adj_padded=[24, 24], x_padded=[24, 3]),\n",
       " Data(x=[24, 3], edge_index=[2, 74], edge_attr=[74, 4], y=[1, 1], edge_mask=[74], idx=567, y_cf=[1], adj_padded=[24, 24], x_padded=[24, 3]),\n",
       " Data(x=[24, 3], edge_index=[2, 74], edge_attr=[74, 4], y=[1, 1], edge_mask=[74], idx=568, y_cf=[1], adj_padded=[24, 24], x_padded=[24, 3]),\n",
       " Data(x=[24, 3], edge_index=[2, 74], edge_attr=[74, 4], y=[1, 1], edge_mask=[74], idx=569, y_cf=[1], adj_padded=[24, 24], x_padded=[24, 3]),\n",
       " Data(x=[24, 3], edge_index=[2, 74], edge_attr=[74, 4], y=[1, 1], edge_mask=[74], idx=570, y_cf=[1], adj_padded=[24, 24], x_padded=[24, 3]),\n",
       " Data(x=[24, 3], edge_index=[2, 74], edge_attr=[74, 4], y=[1, 1], edge_mask=[74], idx=571, y_cf=[1], adj_padded=[24, 24], x_padded=[24, 3]),\n",
       " Data(x=[24, 3], edge_index=[2, 72], edge_attr=[72, 4], y=[1, 1], edge_mask=[72], idx=572, y_cf=[1], adj_padded=[24, 24], x_padded=[24, 3]),\n",
       " Data(x=[24, 3], edge_index=[2, 74], edge_attr=[74, 4], y=[1, 1], edge_mask=[74], idx=573, y_cf=[1], adj_padded=[24, 24], x_padded=[24, 3]),\n",
       " Data(x=[24, 3], edge_index=[2, 74], edge_attr=[74, 4], y=[1, 1], edge_mask=[74], idx=574, y_cf=[1], adj_padded=[24, 24], x_padded=[24, 3]),\n",
       " Data(x=[24, 3], edge_index=[2, 74], edge_attr=[74, 4], y=[1, 1], edge_mask=[74], idx=575, y_cf=[1], adj_padded=[24, 24], x_padded=[24, 3]),\n",
       " Data(x=[24, 3], edge_index=[2, 74], edge_attr=[74, 4], y=[1, 1], edge_mask=[74], idx=576, y_cf=[1], adj_padded=[24, 24], x_padded=[24, 3]),\n",
       " Data(x=[24, 3], edge_index=[2, 74], edge_attr=[74, 4], y=[1, 1], edge_mask=[74], idx=577, y_cf=[1], adj_padded=[24, 24], x_padded=[24, 3]),\n",
       " Data(x=[24, 3], edge_index=[2, 74], edge_attr=[74, 4], y=[1, 1], edge_mask=[74], idx=578, y_cf=[1], adj_padded=[24, 24], x_padded=[24, 3]),\n",
       " Data(x=[24, 3], edge_index=[2, 74], edge_attr=[74, 4], y=[1, 1], edge_mask=[74], idx=579, y_cf=[1], adj_padded=[24, 24], x_padded=[24, 3]),\n",
       " Data(x=[24, 3], edge_index=[2, 74], edge_attr=[74, 4], y=[1, 1], edge_mask=[74], idx=580, y_cf=[1], adj_padded=[24, 24], x_padded=[24, 3]),\n",
       " Data(x=[24, 3], edge_index=[2, 74], edge_attr=[74, 4], y=[1, 1], edge_mask=[74], idx=581, y_cf=[1], adj_padded=[24, 24], x_padded=[24, 3]),\n",
       " Data(x=[24, 3], edge_index=[2, 74], edge_attr=[74, 4], y=[1, 1], edge_mask=[74], idx=582, y_cf=[1], adj_padded=[24, 24], x_padded=[24, 3]),\n",
       " Data(x=[24, 3], edge_index=[2, 74], edge_attr=[74, 4], y=[1, 1], edge_mask=[74], idx=583, y_cf=[1], adj_padded=[24, 24], x_padded=[24, 3]),\n",
       " Data(x=[24, 3], edge_index=[2, 74], edge_attr=[74, 4], y=[1, 1], edge_mask=[74], idx=584, y_cf=[1], adj_padded=[24, 24], x_padded=[24, 3]),\n",
       " Data(x=[24, 3], edge_index=[2, 74], edge_attr=[74, 4], y=[1, 1], edge_mask=[74], idx=585, y_cf=[1], adj_padded=[24, 24], x_padded=[24, 3]),\n",
       " Data(x=[24, 3], edge_index=[2, 74], edge_attr=[74, 4], y=[1, 1], edge_mask=[74], idx=586, y_cf=[1], adj_padded=[24, 24], x_padded=[24, 3]),\n",
       " Data(x=[24, 3], edge_index=[2, 74], edge_attr=[74, 4], y=[1, 1], edge_mask=[74], idx=587, y_cf=[1], adj_padded=[24, 24], x_padded=[24, 3]),\n",
       " Data(x=[24, 3], edge_index=[2, 72], edge_attr=[72, 4], y=[1, 1], edge_mask=[72], idx=588, y_cf=[1], adj_padded=[24, 24], x_padded=[24, 3]),\n",
       " Data(x=[24, 3], edge_index=[2, 74], edge_attr=[74, 4], y=[1, 1], edge_mask=[74], idx=589, y_cf=[1], adj_padded=[24, 24], x_padded=[24, 3]),\n",
       " Data(x=[24, 3], edge_index=[2, 74], edge_attr=[74, 4], y=[1, 1], edge_mask=[74], idx=590, y_cf=[1], adj_padded=[24, 24], x_padded=[24, 3]),\n",
       " Data(x=[24, 3], edge_index=[2, 74], edge_attr=[74, 4], y=[1, 1], edge_mask=[74], idx=591, y_cf=[1], adj_padded=[24, 24], x_padded=[24, 3]),\n",
       " Data(x=[24, 3], edge_index=[2, 74], edge_attr=[74, 4], y=[1, 1], edge_mask=[74], idx=592, y_cf=[1], adj_padded=[24, 24], x_padded=[24, 3]),\n",
       " Data(x=[24, 3], edge_index=[2, 74], edge_attr=[74, 4], y=[1, 1], edge_mask=[74], idx=593, y_cf=[1], adj_padded=[24, 24], x_padded=[24, 3]),\n",
       " Data(x=[24, 3], edge_index=[2, 74], edge_attr=[74, 4], y=[1, 1], edge_mask=[74], idx=594, y_cf=[1], adj_padded=[24, 24], x_padded=[24, 3]),\n",
       " Data(x=[24, 3], edge_index=[2, 74], edge_attr=[74, 4], y=[1, 1], edge_mask=[74], idx=595, y_cf=[1], adj_padded=[24, 24], x_padded=[24, 3]),\n",
       " Data(x=[24, 3], edge_index=[2, 74], edge_attr=[74, 4], y=[1, 1], edge_mask=[74], idx=596, y_cf=[1], adj_padded=[24, 24], x_padded=[24, 3]),\n",
       " Data(x=[24, 3], edge_index=[2, 74], edge_attr=[74, 4], y=[1, 1], edge_mask=[74], idx=597, y_cf=[1], adj_padded=[24, 24], x_padded=[24, 3]),\n",
       " Data(x=[24, 3], edge_index=[2, 72], edge_attr=[72, 4], y=[1, 1], edge_mask=[72], idx=598, y_cf=[1], adj_padded=[24, 24], x_padded=[24, 3]),\n",
       " Data(x=[24, 3], edge_index=[2, 72], edge_attr=[72, 4], y=[1, 1], edge_mask=[72], idx=599, y_cf=[1], adj_padded=[24, 24], x_padded=[24, 3]),\n",
       " Data(x=[24, 3], edge_index=[2, 72], edge_attr=[72, 4], y=[1, 1], edge_mask=[72], idx=600, y_cf=[1], adj_padded=[24, 24], x_padded=[24, 3]),\n",
       " Data(x=[24, 3], edge_index=[2, 74], edge_attr=[74, 4], y=[1, 1], edge_mask=[74], idx=601, y_cf=[1], adj_padded=[24, 24], x_padded=[24, 3]),\n",
       " Data(x=[24, 3], edge_index=[2, 74], edge_attr=[74, 4], y=[1, 1], edge_mask=[74], idx=602, y_cf=[1], adj_padded=[24, 24], x_padded=[24, 3]),\n",
       " Data(x=[24, 3], edge_index=[2, 74], edge_attr=[74, 4], y=[1, 1], edge_mask=[74], idx=603, y_cf=[1], adj_padded=[24, 24], x_padded=[24, 3]),\n",
       " Data(x=[24, 3], edge_index=[2, 74], edge_attr=[74, 4], y=[1, 1], edge_mask=[74], idx=604, y_cf=[1], adj_padded=[24, 24], x_padded=[24, 3]),\n",
       " Data(x=[24, 3], edge_index=[2, 74], edge_attr=[74, 4], y=[1, 1], edge_mask=[74], idx=605, y_cf=[1], adj_padded=[24, 24], x_padded=[24, 3]),\n",
       " Data(x=[24, 3], edge_index=[2, 74], edge_attr=[74, 4], y=[1, 1], edge_mask=[74], idx=606, y_cf=[1], adj_padded=[24, 24], x_padded=[24, 3]),\n",
       " Data(x=[24, 3], edge_index=[2, 74], edge_attr=[74, 4], y=[1, 1], edge_mask=[74], idx=607, y_cf=[1], adj_padded=[24, 24], x_padded=[24, 3]),\n",
       " Data(x=[24, 3], edge_index=[2, 74], edge_attr=[74, 4], y=[1, 1], edge_mask=[74], idx=608, y_cf=[1], adj_padded=[24, 24], x_padded=[24, 3]),\n",
       " Data(x=[24, 3], edge_index=[2, 74], edge_attr=[74, 4], y=[1, 1], edge_mask=[74], idx=609, y_cf=[1], adj_padded=[24, 24], x_padded=[24, 3]),\n",
       " Data(x=[24, 3], edge_index=[2, 74], edge_attr=[74, 4], y=[1, 1], edge_mask=[74], idx=610, y_cf=[1], adj_padded=[24, 24], x_padded=[24, 3]),\n",
       " Data(x=[24, 3], edge_index=[2, 74], edge_attr=[74, 4], y=[1, 1], edge_mask=[74], idx=611, y_cf=[1], adj_padded=[24, 24], x_padded=[24, 3]),\n",
       " Data(x=[24, 3], edge_index=[2, 74], edge_attr=[74, 4], y=[1, 1], edge_mask=[74], idx=612, y_cf=[1], adj_padded=[24, 24], x_padded=[24, 3]),\n",
       " Data(x=[24, 3], edge_index=[2, 74], edge_attr=[74, 4], y=[1, 1], edge_mask=[74], idx=613, y_cf=[1], adj_padded=[24, 24], x_padded=[24, 3]),\n",
       " Data(x=[24, 3], edge_index=[2, 74], edge_attr=[74, 4], y=[1, 1], edge_mask=[74], idx=614, y_cf=[1], adj_padded=[24, 24], x_padded=[24, 3]),\n",
       " Data(x=[24, 3], edge_index=[2, 72], edge_attr=[72, 4], y=[1, 1], edge_mask=[72], idx=615, y_cf=[1], adj_padded=[24, 24], x_padded=[24, 3]),\n",
       " Data(x=[24, 3], edge_index=[2, 74], edge_attr=[74, 4], y=[1, 1], edge_mask=[74], idx=616, y_cf=[1], adj_padded=[24, 24], x_padded=[24, 3]),\n",
       " Data(x=[24, 3], edge_index=[2, 74], edge_attr=[74, 4], y=[1, 1], edge_mask=[74], idx=617, y_cf=[1], adj_padded=[24, 24], x_padded=[24, 3]),\n",
       " Data(x=[24, 3], edge_index=[2, 74], edge_attr=[74, 4], y=[1, 1], edge_mask=[74], idx=618, y_cf=[1], adj_padded=[24, 24], x_padded=[24, 3]),\n",
       " Data(x=[24, 3], edge_index=[2, 74], edge_attr=[74, 4], y=[1, 1], edge_mask=[74], idx=619, y_cf=[1], adj_padded=[24, 24], x_padded=[24, 3]),\n",
       " Data(x=[24, 3], edge_index=[2, 74], edge_attr=[74, 4], y=[1, 1], edge_mask=[74], idx=620, y_cf=[1], adj_padded=[24, 24], x_padded=[24, 3]),\n",
       " Data(x=[24, 3], edge_index=[2, 74], edge_attr=[74, 4], y=[1, 1], edge_mask=[74], idx=621, y_cf=[1], adj_padded=[24, 24], x_padded=[24, 3]),\n",
       " Data(x=[24, 3], edge_index=[2, 74], edge_attr=[74, 4], y=[1, 1], edge_mask=[74], idx=622, y_cf=[1], adj_padded=[24, 24], x_padded=[24, 3]),\n",
       " Data(x=[24, 3], edge_index=[2, 74], edge_attr=[74, 4], y=[1, 1], edge_mask=[74], idx=623, y_cf=[1], adj_padded=[24, 24], x_padded=[24, 3]),\n",
       " Data(x=[24, 3], edge_index=[2, 74], edge_attr=[74, 4], y=[1, 1], edge_mask=[74], idx=624, y_cf=[1], adj_padded=[24, 24], x_padded=[24, 3]),\n",
       " Data(x=[24, 3], edge_index=[2, 74], edge_attr=[74, 4], y=[1, 1], edge_mask=[74], idx=625, y_cf=[1], adj_padded=[24, 24], x_padded=[24, 3]),\n",
       " Data(x=[24, 3], edge_index=[2, 74], edge_attr=[74, 4], y=[1, 1], edge_mask=[74], idx=626, y_cf=[1], adj_padded=[24, 24], x_padded=[24, 3]),\n",
       " Data(x=[24, 3], edge_index=[2, 74], edge_attr=[74, 4], y=[1, 1], edge_mask=[74], idx=627, y_cf=[1], adj_padded=[24, 24], x_padded=[24, 3]),\n",
       " Data(x=[24, 3], edge_index=[2, 74], edge_attr=[74, 4], y=[1, 1], edge_mask=[74], idx=628, y_cf=[1], adj_padded=[24, 24], x_padded=[24, 3]),\n",
       " Data(x=[24, 3], edge_index=[2, 74], edge_attr=[74, 4], y=[1, 1], edge_mask=[74], idx=629, y_cf=[1], adj_padded=[24, 24], x_padded=[24, 3]),\n",
       " Data(x=[24, 3], edge_index=[2, 74], edge_attr=[74, 4], y=[1, 1], edge_mask=[74], idx=630, y_cf=[1], adj_padded=[24, 24], x_padded=[24, 3]),\n",
       " Data(x=[24, 3], edge_index=[2, 74], edge_attr=[74, 4], y=[1, 1], edge_mask=[74], idx=631, y_cf=[1], adj_padded=[24, 24], x_padded=[24, 3]),\n",
       " Data(x=[24, 3], edge_index=[2, 74], edge_attr=[74, 4], y=[1, 1], edge_mask=[74], idx=632, y_cf=[1], adj_padded=[24, 24], x_padded=[24, 3]),\n",
       " Data(x=[24, 3], edge_index=[2, 74], edge_attr=[74, 4], y=[1, 1], edge_mask=[74], idx=633, y_cf=[1], adj_padded=[24, 24], x_padded=[24, 3]),\n",
       " Data(x=[24, 3], edge_index=[2, 74], edge_attr=[74, 4], y=[1, 1], edge_mask=[74], idx=634, y_cf=[1], adj_padded=[24, 24], x_padded=[24, 3]),\n",
       " Data(x=[24, 3], edge_index=[2, 74], edge_attr=[74, 4], y=[1, 1], edge_mask=[74], idx=635, y_cf=[1], adj_padded=[24, 24], x_padded=[24, 3]),\n",
       " Data(x=[24, 3], edge_index=[2, 74], edge_attr=[74, 4], y=[1, 1], edge_mask=[74], idx=636, y_cf=[1], adj_padded=[24, 24], x_padded=[24, 3]),\n",
       " Data(x=[24, 3], edge_index=[2, 74], edge_attr=[74, 4], y=[1, 1], edge_mask=[74], idx=637, y_cf=[1], adj_padded=[24, 24], x_padded=[24, 3]),\n",
       " Data(x=[24, 3], edge_index=[2, 74], edge_attr=[74, 4], y=[1, 1], edge_mask=[74], idx=638, y_cf=[1], adj_padded=[24, 24], x_padded=[24, 3]),\n",
       " Data(x=[24, 3], edge_index=[2, 72], edge_attr=[72, 4], y=[1, 1], edge_mask=[72], idx=639, y_cf=[1], adj_padded=[24, 24], x_padded=[24, 3]),\n",
       " Data(x=[24, 3], edge_index=[2, 74], edge_attr=[74, 4], y=[1, 1], edge_mask=[74], idx=640, y_cf=[1], adj_padded=[24, 24], x_padded=[24, 3]),\n",
       " Data(x=[24, 3], edge_index=[2, 72], edge_attr=[72, 4], y=[1, 1], edge_mask=[72], idx=641, y_cf=[1], adj_padded=[24, 24], x_padded=[24, 3]),\n",
       " Data(x=[24, 3], edge_index=[2, 72], edge_attr=[72, 4], y=[1, 1], edge_mask=[72], idx=642, y_cf=[1], adj_padded=[24, 24], x_padded=[24, 3]),\n",
       " Data(x=[24, 3], edge_index=[2, 74], edge_attr=[74, 4], y=[1, 1], edge_mask=[74], idx=643, y_cf=[1], adj_padded=[24, 24], x_padded=[24, 3]),\n",
       " Data(x=[24, 3], edge_index=[2, 72], edge_attr=[72, 4], y=[1, 1], edge_mask=[72], idx=644, y_cf=[1], adj_padded=[24, 24], x_padded=[24, 3]),\n",
       " Data(x=[24, 3], edge_index=[2, 74], edge_attr=[74, 4], y=[1, 1], edge_mask=[74], idx=645, y_cf=[1], adj_padded=[24, 24], x_padded=[24, 3]),\n",
       " Data(x=[24, 3], edge_index=[2, 74], edge_attr=[74, 4], y=[1, 1], edge_mask=[74], idx=646, y_cf=[1], adj_padded=[24, 24], x_padded=[24, 3]),\n",
       " Data(x=[24, 3], edge_index=[2, 74], edge_attr=[74, 4], y=[1, 1], edge_mask=[74], idx=647, y_cf=[1], adj_padded=[24, 24], x_padded=[24, 3]),\n",
       " Data(x=[24, 3], edge_index=[2, 74], edge_attr=[74, 4], y=[1, 1], edge_mask=[74], idx=648, y_cf=[1], adj_padded=[24, 24], x_padded=[24, 3]),\n",
       " Data(x=[24, 3], edge_index=[2, 74], edge_attr=[74, 4], y=[1, 1], edge_mask=[74], idx=649, y_cf=[1], adj_padded=[24, 24], x_padded=[24, 3]),\n",
       " Data(x=[24, 3], edge_index=[2, 74], edge_attr=[74, 4], y=[1, 1], edge_mask=[74], idx=650, y_cf=[1], adj_padded=[24, 24], x_padded=[24, 3]),\n",
       " Data(x=[24, 3], edge_index=[2, 74], edge_attr=[74, 4], y=[1, 1], edge_mask=[74], idx=651, y_cf=[1], adj_padded=[24, 24], x_padded=[24, 3]),\n",
       " Data(x=[24, 3], edge_index=[2, 74], edge_attr=[74, 4], y=[1, 1], edge_mask=[74], idx=652, y_cf=[1], adj_padded=[24, 24], x_padded=[24, 3]),\n",
       " Data(x=[24, 3], edge_index=[2, 74], edge_attr=[74, 4], y=[1, 1], edge_mask=[74], idx=653, y_cf=[1], adj_padded=[24, 24], x_padded=[24, 3]),\n",
       " Data(x=[24, 3], edge_index=[2, 74], edge_attr=[74, 4], y=[1, 1], edge_mask=[74], idx=654, y_cf=[1], adj_padded=[24, 24], x_padded=[24, 3]),\n",
       " Data(x=[24, 3], edge_index=[2, 74], edge_attr=[74, 4], y=[1, 1], edge_mask=[74], idx=655, y_cf=[1], adj_padded=[24, 24], x_padded=[24, 3]),\n",
       " Data(x=[24, 3], edge_index=[2, 74], edge_attr=[74, 4], y=[1, 1], edge_mask=[74], idx=656, y_cf=[1], adj_padded=[24, 24], x_padded=[24, 3]),\n",
       " Data(x=[24, 3], edge_index=[2, 72], edge_attr=[72, 4], y=[1, 1], edge_mask=[72], idx=657, y_cf=[1], adj_padded=[24, 24], x_padded=[24, 3]),\n",
       " Data(x=[24, 3], edge_index=[2, 74], edge_attr=[74, 4], y=[1, 1], edge_mask=[74], idx=658, y_cf=[1], adj_padded=[24, 24], x_padded=[24, 3]),\n",
       " Data(x=[24, 3], edge_index=[2, 74], edge_attr=[74, 4], y=[1, 1], edge_mask=[74], idx=659, y_cf=[1], adj_padded=[24, 24], x_padded=[24, 3]),\n",
       " Data(x=[24, 3], edge_index=[2, 74], edge_attr=[74, 4], y=[1, 1], edge_mask=[74], idx=660, y_cf=[1], adj_padded=[24, 24], x_padded=[24, 3]),\n",
       " Data(x=[24, 3], edge_index=[2, 74], edge_attr=[74, 4], y=[1, 1], edge_mask=[74], idx=661, y_cf=[1], adj_padded=[24, 24], x_padded=[24, 3]),\n",
       " Data(x=[24, 3], edge_index=[2, 74], edge_attr=[74, 4], y=[1, 1], edge_mask=[74], idx=662, y_cf=[1], adj_padded=[24, 24], x_padded=[24, 3]),\n",
       " Data(x=[24, 3], edge_index=[2, 74], edge_attr=[74, 4], y=[1, 1], edge_mask=[74], idx=663, y_cf=[1], adj_padded=[24, 24], x_padded=[24, 3]),\n",
       " Data(x=[24, 3], edge_index=[2, 74], edge_attr=[74, 4], y=[1, 1], edge_mask=[74], idx=664, y_cf=[1], adj_padded=[24, 24], x_padded=[24, 3]),\n",
       " Data(x=[24, 3], edge_index=[2, 72], edge_attr=[72, 4], y=[1, 1], edge_mask=[72], idx=665, y_cf=[1], adj_padded=[24, 24], x_padded=[24, 3]),\n",
       " Data(x=[24, 3], edge_index=[2, 74], edge_attr=[74, 4], y=[1, 1], edge_mask=[74], idx=666, y_cf=[1], adj_padded=[24, 24], x_padded=[24, 3]),\n",
       " Data(x=[24, 3], edge_index=[2, 74], edge_attr=[74, 4], y=[1, 1], edge_mask=[74], idx=667, y_cf=[1], adj_padded=[24, 24], x_padded=[24, 3]),\n",
       " Data(x=[24, 3], edge_index=[2, 74], edge_attr=[74, 4], y=[1, 1], edge_mask=[74], idx=668, y_cf=[1], adj_padded=[24, 24], x_padded=[24, 3]),\n",
       " Data(x=[24, 3], edge_index=[2, 74], edge_attr=[74, 4], y=[1, 1], edge_mask=[74], idx=669, y_cf=[1], adj_padded=[24, 24], x_padded=[24, 3]),\n",
       " Data(x=[24, 3], edge_index=[2, 74], edge_attr=[74, 4], y=[1, 1], edge_mask=[74], idx=670, y_cf=[1], adj_padded=[24, 24], x_padded=[24, 3]),\n",
       " Data(x=[24, 3], edge_index=[2, 74], edge_attr=[74, 4], y=[1, 1], edge_mask=[74], idx=671, y_cf=[1], adj_padded=[24, 24], x_padded=[24, 3]),\n",
       " Data(x=[24, 3], edge_index=[2, 72], edge_attr=[72, 4], y=[1, 1], edge_mask=[72], idx=672, y_cf=[1], adj_padded=[24, 24], x_padded=[24, 3]),\n",
       " Data(x=[24, 3], edge_index=[2, 74], edge_attr=[74, 4], y=[1, 1], edge_mask=[74], idx=673, y_cf=[1], adj_padded=[24, 24], x_padded=[24, 3]),\n",
       " Data(x=[24, 3], edge_index=[2, 74], edge_attr=[74, 4], y=[1, 1], edge_mask=[74], idx=674, y_cf=[1], adj_padded=[24, 24], x_padded=[24, 3]),\n",
       " Data(x=[24, 3], edge_index=[2, 74], edge_attr=[74, 4], y=[1, 1], edge_mask=[74], idx=675, y_cf=[1], adj_padded=[24, 24], x_padded=[24, 3]),\n",
       " Data(x=[24, 3], edge_index=[2, 74], edge_attr=[74, 4], y=[1, 1], edge_mask=[74], idx=676, y_cf=[1], adj_padded=[24, 24], x_padded=[24, 3]),\n",
       " Data(x=[24, 3], edge_index=[2, 74], edge_attr=[74, 4], y=[1, 1], edge_mask=[74], idx=677, y_cf=[1], adj_padded=[24, 24], x_padded=[24, 3]),\n",
       " Data(x=[24, 3], edge_index=[2, 74], edge_attr=[74, 4], y=[1, 1], edge_mask=[74], idx=678, y_cf=[1], adj_padded=[24, 24], x_padded=[24, 3]),\n",
       " Data(x=[24, 3], edge_index=[2, 74], edge_attr=[74, 4], y=[1, 1], edge_mask=[74], idx=679, y_cf=[1], adj_padded=[24, 24], x_padded=[24, 3]),\n",
       " Data(x=[24, 3], edge_index=[2, 74], edge_attr=[74, 4], y=[1, 1], edge_mask=[74], idx=680, y_cf=[1], adj_padded=[24, 24], x_padded=[24, 3]),\n",
       " Data(x=[24, 3], edge_index=[2, 74], edge_attr=[74, 4], y=[1, 1], edge_mask=[74], idx=681, y_cf=[1], adj_padded=[24, 24], x_padded=[24, 3]),\n",
       " Data(x=[24, 3], edge_index=[2, 74], edge_attr=[74, 4], y=[1, 1], edge_mask=[74], idx=682, y_cf=[1], adj_padded=[24, 24], x_padded=[24, 3]),\n",
       " Data(x=[24, 3], edge_index=[2, 74], edge_attr=[74, 4], y=[1, 1], edge_mask=[74], idx=683, y_cf=[1], adj_padded=[24, 24], x_padded=[24, 3]),\n",
       " Data(x=[24, 3], edge_index=[2, 72], edge_attr=[72, 4], y=[1, 1], edge_mask=[72], idx=684, y_cf=[1], adj_padded=[24, 24], x_padded=[24, 3]),\n",
       " Data(x=[24, 3], edge_index=[2, 74], edge_attr=[74, 4], y=[1, 1], edge_mask=[74], idx=685, y_cf=[1], adj_padded=[24, 24], x_padded=[24, 3]),\n",
       " Data(x=[24, 3], edge_index=[2, 74], edge_attr=[74, 4], y=[1, 1], edge_mask=[74], idx=686, y_cf=[1], adj_padded=[24, 24], x_padded=[24, 3]),\n",
       " Data(x=[24, 3], edge_index=[2, 72], edge_attr=[72, 4], y=[1, 1], edge_mask=[72], idx=687, y_cf=[1], adj_padded=[24, 24], x_padded=[24, 3]),\n",
       " Data(x=[24, 3], edge_index=[2, 74], edge_attr=[74, 4], y=[1, 1], edge_mask=[74], idx=688, y_cf=[1], adj_padded=[24, 24], x_padded=[24, 3]),\n",
       " Data(x=[24, 3], edge_index=[2, 74], edge_attr=[74, 4], y=[1, 1], edge_mask=[74], idx=689, y_cf=[1], adj_padded=[24, 24], x_padded=[24, 3]),\n",
       " Data(x=[24, 3], edge_index=[2, 74], edge_attr=[74, 4], y=[1, 1], edge_mask=[74], idx=690, y_cf=[1], adj_padded=[24, 24], x_padded=[24, 3]),\n",
       " Data(x=[24, 3], edge_index=[2, 74], edge_attr=[74, 4], y=[1, 1], edge_mask=[74], idx=691, y_cf=[1], adj_padded=[24, 24], x_padded=[24, 3]),\n",
       " Data(x=[24, 3], edge_index=[2, 74], edge_attr=[74, 4], y=[1, 1], edge_mask=[74], idx=692, y_cf=[1], adj_padded=[24, 24], x_padded=[24, 3]),\n",
       " Data(x=[24, 3], edge_index=[2, 74], edge_attr=[74, 4], y=[1, 1], edge_mask=[74], idx=693, y_cf=[1], adj_padded=[24, 24], x_padded=[24, 3]),\n",
       " Data(x=[24, 3], edge_index=[2, 74], edge_attr=[74, 4], y=[1, 1], edge_mask=[74], idx=694, y_cf=[1], adj_padded=[24, 24], x_padded=[24, 3]),\n",
       " Data(x=[24, 3], edge_index=[2, 74], edge_attr=[74, 4], y=[1, 1], edge_mask=[74], idx=695, y_cf=[1], adj_padded=[24, 24], x_padded=[24, 3]),\n",
       " Data(x=[24, 3], edge_index=[2, 74], edge_attr=[74, 4], y=[1, 1], edge_mask=[74], idx=696, y_cf=[1], adj_padded=[24, 24], x_padded=[24, 3]),\n",
       " Data(x=[24, 3], edge_index=[2, 74], edge_attr=[74, 4], y=[1, 1], edge_mask=[74], idx=697, y_cf=[1], adj_padded=[24, 24], x_padded=[24, 3]),\n",
       " Data(x=[24, 3], edge_index=[2, 74], edge_attr=[74, 4], y=[1, 1], edge_mask=[74], idx=698, y_cf=[1], adj_padded=[24, 24], x_padded=[24, 3]),\n",
       " Data(x=[24, 3], edge_index=[2, 74], edge_attr=[74, 4], y=[1, 1], edge_mask=[74], idx=699, y_cf=[1], adj_padded=[24, 24], x_padded=[24, 3]),\n",
       " Data(x=[24, 3], edge_index=[2, 74], edge_attr=[74, 4], y=[1, 1], edge_mask=[74], idx=700, y_cf=[1], adj_padded=[24, 24], x_padded=[24, 3]),\n",
       " Data(x=[24, 3], edge_index=[2, 74], edge_attr=[74, 4], y=[1, 1], edge_mask=[74], idx=701, y_cf=[1], adj_padded=[24, 24], x_padded=[24, 3]),\n",
       " Data(x=[24, 3], edge_index=[2, 74], edge_attr=[74, 4], y=[1, 1], edge_mask=[74], idx=702, y_cf=[1], adj_padded=[24, 24], x_padded=[24, 3]),\n",
       " Data(x=[24, 3], edge_index=[2, 74], edge_attr=[74, 4], y=[1, 1], edge_mask=[74], idx=703, y_cf=[1], adj_padded=[24, 24], x_padded=[24, 3]),\n",
       " Data(x=[24, 3], edge_index=[2, 74], edge_attr=[74, 4], y=[1, 1], edge_mask=[74], idx=704, y_cf=[1], adj_padded=[24, 24], x_padded=[24, 3]),\n",
       " Data(x=[24, 3], edge_index=[2, 74], edge_attr=[74, 4], y=[1, 1], edge_mask=[74], idx=705, y_cf=[1], adj_padded=[24, 24], x_padded=[24, 3]),\n",
       " Data(x=[24, 3], edge_index=[2, 74], edge_attr=[74, 4], y=[1, 1], edge_mask=[74], idx=706, y_cf=[1], adj_padded=[24, 24], x_padded=[24, 3]),\n",
       " Data(x=[24, 3], edge_index=[2, 74], edge_attr=[74, 4], y=[1, 1], edge_mask=[74], idx=707, y_cf=[1], adj_padded=[24, 24], x_padded=[24, 3]),\n",
       " Data(x=[24, 3], edge_index=[2, 74], edge_attr=[74, 4], y=[1, 1], edge_mask=[74], idx=708, y_cf=[1], adj_padded=[24, 24], x_padded=[24, 3]),\n",
       " Data(x=[24, 3], edge_index=[2, 74], edge_attr=[74, 4], y=[1, 1], edge_mask=[74], idx=709, y_cf=[1], adj_padded=[24, 24], x_padded=[24, 3]),\n",
       " Data(x=[24, 3], edge_index=[2, 74], edge_attr=[74, 4], y=[1, 1], edge_mask=[74], idx=710, y_cf=[1], adj_padded=[24, 24], x_padded=[24, 3]),\n",
       " Data(x=[24, 3], edge_index=[2, 74], edge_attr=[74, 4], y=[1, 1], edge_mask=[74], idx=711, y_cf=[1], adj_padded=[24, 24], x_padded=[24, 3]),\n",
       " Data(x=[24, 3], edge_index=[2, 74], edge_attr=[74, 4], y=[1, 1], edge_mask=[74], idx=712, y_cf=[1], adj_padded=[24, 24], x_padded=[24, 3]),\n",
       " Data(x=[24, 3], edge_index=[2, 74], edge_attr=[74, 4], y=[1, 1], edge_mask=[74], idx=713, y_cf=[1], adj_padded=[24, 24], x_padded=[24, 3]),\n",
       " Data(x=[24, 3], edge_index=[2, 74], edge_attr=[74, 4], y=[1, 1], edge_mask=[74], idx=714, y_cf=[1], adj_padded=[24, 24], x_padded=[24, 3]),\n",
       " Data(x=[24, 3], edge_index=[2, 72], edge_attr=[72, 4], y=[1, 1], edge_mask=[72], idx=715, y_cf=[1], adj_padded=[24, 24], x_padded=[24, 3]),\n",
       " Data(x=[24, 3], edge_index=[2, 74], edge_attr=[74, 4], y=[1, 1], edge_mask=[74], idx=716, y_cf=[1], adj_padded=[24, 24], x_padded=[24, 3]),\n",
       " Data(x=[24, 3], edge_index=[2, 74], edge_attr=[74, 4], y=[1, 1], edge_mask=[74], idx=717, y_cf=[1], adj_padded=[24, 24], x_padded=[24, 3]),\n",
       " Data(x=[24, 3], edge_index=[2, 74], edge_attr=[74, 4], y=[1, 1], edge_mask=[74], idx=718, y_cf=[1], adj_padded=[24, 24], x_padded=[24, 3]),\n",
       " Data(x=[24, 3], edge_index=[2, 74], edge_attr=[74, 4], y=[1, 1], edge_mask=[74], idx=719, y_cf=[1], adj_padded=[24, 24], x_padded=[24, 3]),\n",
       " Data(x=[24, 3], edge_index=[2, 74], edge_attr=[74, 4], y=[1, 1], edge_mask=[74], idx=720, y_cf=[1], adj_padded=[24, 24], x_padded=[24, 3]),\n",
       " Data(x=[24, 3], edge_index=[2, 74], edge_attr=[74, 4], y=[1, 1], edge_mask=[74], idx=721, y_cf=[1], adj_padded=[24, 24], x_padded=[24, 3]),\n",
       " Data(x=[24, 3], edge_index=[2, 74], edge_attr=[74, 4], y=[1, 1], edge_mask=[74], idx=722, y_cf=[1], adj_padded=[24, 24], x_padded=[24, 3]),\n",
       " Data(x=[24, 3], edge_index=[2, 74], edge_attr=[74, 4], y=[1, 1], edge_mask=[74], idx=723, y_cf=[1], adj_padded=[24, 24], x_padded=[24, 3]),\n",
       " Data(x=[24, 3], edge_index=[2, 74], edge_attr=[74, 4], y=[1, 1], edge_mask=[74], idx=724, y_cf=[1], adj_padded=[24, 24], x_padded=[24, 3]),\n",
       " Data(x=[24, 3], edge_index=[2, 74], edge_attr=[74, 4], y=[1, 1], edge_mask=[74], idx=725, y_cf=[1], adj_padded=[24, 24], x_padded=[24, 3]),\n",
       " Data(x=[24, 3], edge_index=[2, 72], edge_attr=[72, 4], y=[1, 1], edge_mask=[72], idx=726, y_cf=[1], adj_padded=[24, 24], x_padded=[24, 3]),\n",
       " Data(x=[24, 3], edge_index=[2, 74], edge_attr=[74, 4], y=[1, 1], edge_mask=[74], idx=727, y_cf=[1], adj_padded=[24, 24], x_padded=[24, 3]),\n",
       " Data(x=[24, 3], edge_index=[2, 72], edge_attr=[72, 4], y=[1, 1], edge_mask=[72], idx=728, y_cf=[1], adj_padded=[24, 24], x_padded=[24, 3]),\n",
       " Data(x=[24, 3], edge_index=[2, 72], edge_attr=[72, 4], y=[1, 1], edge_mask=[72], idx=729, y_cf=[1], adj_padded=[24, 24], x_padded=[24, 3]),\n",
       " Data(x=[24, 3], edge_index=[2, 72], edge_attr=[72, 4], y=[1, 1], edge_mask=[72], idx=730, y_cf=[1], adj_padded=[24, 24], x_padded=[24, 3]),\n",
       " Data(x=[24, 3], edge_index=[2, 74], edge_attr=[74, 4], y=[1, 1], edge_mask=[74], idx=731, y_cf=[1], adj_padded=[24, 24], x_padded=[24, 3]),\n",
       " Data(x=[24, 3], edge_index=[2, 74], edge_attr=[74, 4], y=[1, 1], edge_mask=[74], idx=732, y_cf=[1], adj_padded=[24, 24], x_padded=[24, 3]),\n",
       " Data(x=[24, 3], edge_index=[2, 74], edge_attr=[74, 4], y=[1, 1], edge_mask=[74], idx=733, y_cf=[1], adj_padded=[24, 24], x_padded=[24, 3]),\n",
       " Data(x=[24, 3], edge_index=[2, 74], edge_attr=[74, 4], y=[1, 1], edge_mask=[74], idx=734, y_cf=[1], adj_padded=[24, 24], x_padded=[24, 3]),\n",
       " Data(x=[24, 3], edge_index=[2, 74], edge_attr=[74, 4], y=[1, 1], edge_mask=[74], idx=735, y_cf=[1], adj_padded=[24, 24], x_padded=[24, 3]),\n",
       " Data(x=[24, 3], edge_index=[2, 74], edge_attr=[74, 4], y=[1, 1], edge_mask=[74], idx=736, y_cf=[1], adj_padded=[24, 24], x_padded=[24, 3]),\n",
       " Data(x=[24, 3], edge_index=[2, 74], edge_attr=[74, 4], y=[1, 1], edge_mask=[74], idx=737, y_cf=[1], adj_padded=[24, 24], x_padded=[24, 3]),\n",
       " Data(x=[24, 3], edge_index=[2, 74], edge_attr=[74, 4], y=[1, 1], edge_mask=[74], idx=738, y_cf=[1], adj_padded=[24, 24], x_padded=[24, 3]),\n",
       " Data(x=[24, 3], edge_index=[2, 74], edge_attr=[74, 4], y=[1, 1], edge_mask=[74], idx=739, y_cf=[1], adj_padded=[24, 24], x_padded=[24, 3]),\n",
       " Data(x=[24, 3], edge_index=[2, 74], edge_attr=[74, 4], y=[1, 1], edge_mask=[74], idx=740, y_cf=[1], adj_padded=[24, 24], x_padded=[24, 3]),\n",
       " Data(x=[24, 3], edge_index=[2, 74], edge_attr=[74, 4], y=[1, 1], edge_mask=[74], idx=741, y_cf=[1], adj_padded=[24, 24], x_padded=[24, 3]),\n",
       " Data(x=[24, 3], edge_index=[2, 74], edge_attr=[74, 4], y=[1, 1], edge_mask=[74], idx=742, y_cf=[1], adj_padded=[24, 24], x_padded=[24, 3]),\n",
       " Data(x=[24, 3], edge_index=[2, 74], edge_attr=[74, 4], y=[1, 1], edge_mask=[74], idx=743, y_cf=[1], adj_padded=[24, 24], x_padded=[24, 3]),\n",
       " Data(x=[24, 3], edge_index=[2, 74], edge_attr=[74, 4], y=[1, 1], edge_mask=[74], idx=744, y_cf=[1], adj_padded=[24, 24], x_padded=[24, 3]),\n",
       " Data(x=[24, 3], edge_index=[2, 74], edge_attr=[74, 4], y=[1, 1], edge_mask=[74], idx=745, y_cf=[1], adj_padded=[24, 24], x_padded=[24, 3]),\n",
       " Data(x=[24, 3], edge_index=[2, 74], edge_attr=[74, 4], y=[1, 1], edge_mask=[74], idx=746, y_cf=[1], adj_padded=[24, 24], x_padded=[24, 3]),\n",
       " Data(x=[24, 3], edge_index=[2, 74], edge_attr=[74, 4], y=[1, 1], edge_mask=[74], idx=747, y_cf=[1], adj_padded=[24, 24], x_padded=[24, 3]),\n",
       " Data(x=[24, 3], edge_index=[2, 74], edge_attr=[74, 4], y=[1, 1], edge_mask=[74], idx=748, y_cf=[1], adj_padded=[24, 24], x_padded=[24, 3]),\n",
       " Data(x=[24, 3], edge_index=[2, 74], edge_attr=[74, 4], y=[1, 1], edge_mask=[74], idx=749, y_cf=[1], adj_padded=[24, 24], x_padded=[24, 3]),\n",
       " Data(x=[24, 3], edge_index=[2, 74], edge_attr=[74, 4], y=[1, 1], edge_mask=[74], idx=750, y_cf=[1], adj_padded=[24, 24], x_padded=[24, 3]),\n",
       " Data(x=[24, 3], edge_index=[2, 74], edge_attr=[74, 4], y=[1, 1], edge_mask=[74], idx=751, y_cf=[1], adj_padded=[24, 24], x_padded=[24, 3]),\n",
       " Data(x=[24, 3], edge_index=[2, 74], edge_attr=[74, 4], y=[1, 1], edge_mask=[74], idx=752, y_cf=[1], adj_padded=[24, 24], x_padded=[24, 3]),\n",
       " Data(x=[24, 3], edge_index=[2, 74], edge_attr=[74, 4], y=[1, 1], edge_mask=[74], idx=753, y_cf=[1], adj_padded=[24, 24], x_padded=[24, 3]),\n",
       " Data(x=[24, 3], edge_index=[2, 74], edge_attr=[74, 4], y=[1, 1], edge_mask=[74], idx=754, y_cf=[1], adj_padded=[24, 24], x_padded=[24, 3]),\n",
       " Data(x=[24, 3], edge_index=[2, 74], edge_attr=[74, 4], y=[1, 1], edge_mask=[74], idx=755, y_cf=[1], adj_padded=[24, 24], x_padded=[24, 3]),\n",
       " Data(x=[24, 3], edge_index=[2, 74], edge_attr=[74, 4], y=[1, 1], edge_mask=[74], idx=756, y_cf=[1], adj_padded=[24, 24], x_padded=[24, 3]),\n",
       " Data(x=[24, 3], edge_index=[2, 74], edge_attr=[74, 4], y=[1, 1], edge_mask=[74], idx=757, y_cf=[1], adj_padded=[24, 24], x_padded=[24, 3]),\n",
       " Data(x=[24, 3], edge_index=[2, 74], edge_attr=[74, 4], y=[1, 1], edge_mask=[74], idx=758, y_cf=[1], adj_padded=[24, 24], x_padded=[24, 3]),\n",
       " Data(x=[24, 3], edge_index=[2, 72], edge_attr=[72, 4], y=[1, 1], edge_mask=[72], idx=759, y_cf=[1], adj_padded=[24, 24], x_padded=[24, 3]),\n",
       " Data(x=[24, 3], edge_index=[2, 74], edge_attr=[74, 4], y=[1, 1], edge_mask=[74], idx=760, y_cf=[1], adj_padded=[24, 24], x_padded=[24, 3]),\n",
       " Data(x=[24, 3], edge_index=[2, 74], edge_attr=[74, 4], y=[1, 1], edge_mask=[74], idx=761, y_cf=[1], adj_padded=[24, 24], x_padded=[24, 3]),\n",
       " Data(x=[24, 3], edge_index=[2, 74], edge_attr=[74, 4], y=[1, 1], edge_mask=[74], idx=762, y_cf=[1], adj_padded=[24, 24], x_padded=[24, 3]),\n",
       " Data(x=[24, 3], edge_index=[2, 74], edge_attr=[74, 4], y=[1, 1], edge_mask=[74], idx=763, y_cf=[1], adj_padded=[24, 24], x_padded=[24, 3]),\n",
       " Data(x=[24, 3], edge_index=[2, 74], edge_attr=[74, 4], y=[1, 1], edge_mask=[74], idx=764, y_cf=[1], adj_padded=[24, 24], x_padded=[24, 3]),\n",
       " Data(x=[24, 3], edge_index=[2, 74], edge_attr=[74, 4], y=[1, 1], edge_mask=[74], idx=765, y_cf=[1], adj_padded=[24, 24], x_padded=[24, 3]),\n",
       " Data(x=[24, 3], edge_index=[2, 74], edge_attr=[74, 4], y=[1, 1], edge_mask=[74], idx=766, y_cf=[1], adj_padded=[24, 24], x_padded=[24, 3]),\n",
       " Data(x=[24, 3], edge_index=[2, 72], edge_attr=[72, 4], y=[1, 1], edge_mask=[72], idx=767, y_cf=[1], adj_padded=[24, 24], x_padded=[24, 3]),\n",
       " Data(x=[24, 3], edge_index=[2, 72], edge_attr=[72, 4], y=[1, 1], edge_mask=[72], idx=768, y_cf=[1], adj_padded=[24, 24], x_padded=[24, 3]),\n",
       " Data(x=[24, 3], edge_index=[2, 74], edge_attr=[74, 4], y=[1, 1], edge_mask=[74], idx=769, y_cf=[1], adj_padded=[24, 24], x_padded=[24, 3]),\n",
       " Data(x=[24, 3], edge_index=[2, 74], edge_attr=[74, 4], y=[1, 1], edge_mask=[74], idx=770, y_cf=[1], adj_padded=[24, 24], x_padded=[24, 3]),\n",
       " Data(x=[24, 3], edge_index=[2, 74], edge_attr=[74, 4], y=[1, 1], edge_mask=[74], idx=771, y_cf=[1], adj_padded=[24, 24], x_padded=[24, 3]),\n",
       " Data(x=[24, 3], edge_index=[2, 72], edge_attr=[72, 4], y=[1, 1], edge_mask=[72], idx=772, y_cf=[1], adj_padded=[24, 24], x_padded=[24, 3]),\n",
       " Data(x=[24, 3], edge_index=[2, 72], edge_attr=[72, 4], y=[1, 1], edge_mask=[72], idx=773, y_cf=[1], adj_padded=[24, 24], x_padded=[24, 3]),\n",
       " Data(x=[24, 3], edge_index=[2, 74], edge_attr=[74, 4], y=[1, 1], edge_mask=[74], idx=774, y_cf=[1], adj_padded=[24, 24], x_padded=[24, 3]),\n",
       " Data(x=[24, 3], edge_index=[2, 74], edge_attr=[74, 4], y=[1, 1], edge_mask=[74], idx=775, y_cf=[1], adj_padded=[24, 24], x_padded=[24, 3]),\n",
       " Data(x=[24, 3], edge_index=[2, 74], edge_attr=[74, 4], y=[1, 1], edge_mask=[74], idx=776, y_cf=[1], adj_padded=[24, 24], x_padded=[24, 3]),\n",
       " Data(x=[24, 3], edge_index=[2, 74], edge_attr=[74, 4], y=[1, 1], edge_mask=[74], idx=777, y_cf=[1], adj_padded=[24, 24], x_padded=[24, 3]),\n",
       " Data(x=[24, 3], edge_index=[2, 74], edge_attr=[74, 4], y=[1, 1], edge_mask=[74], idx=778, y_cf=[1], adj_padded=[24, 24], x_padded=[24, 3]),\n",
       " Data(x=[24, 3], edge_index=[2, 74], edge_attr=[74, 4], y=[1, 1], edge_mask=[74], idx=779, y_cf=[1], adj_padded=[24, 24], x_padded=[24, 3]),\n",
       " Data(x=[24, 3], edge_index=[2, 74], edge_attr=[74, 4], y=[1, 1], edge_mask=[74], idx=780, y_cf=[1], adj_padded=[24, 24], x_padded=[24, 3]),\n",
       " Data(x=[24, 3], edge_index=[2, 74], edge_attr=[74, 4], y=[1, 1], edge_mask=[74], idx=781, y_cf=[1], adj_padded=[24, 24], x_padded=[24, 3]),\n",
       " Data(x=[24, 3], edge_index=[2, 74], edge_attr=[74, 4], y=[1, 1], edge_mask=[74], idx=782, y_cf=[1], adj_padded=[24, 24], x_padded=[24, 3]),\n",
       " Data(x=[24, 3], edge_index=[2, 74], edge_attr=[74, 4], y=[1, 1], edge_mask=[74], idx=783, y_cf=[1], adj_padded=[24, 24], x_padded=[24, 3]),\n",
       " Data(x=[24, 3], edge_index=[2, 74], edge_attr=[74, 4], y=[1, 1], edge_mask=[74], idx=784, y_cf=[1], adj_padded=[24, 24], x_padded=[24, 3]),\n",
       " Data(x=[24, 3], edge_index=[2, 74], edge_attr=[74, 4], y=[1, 1], edge_mask=[74], idx=785, y_cf=[1], adj_padded=[24, 24], x_padded=[24, 3]),\n",
       " Data(x=[24, 3], edge_index=[2, 74], edge_attr=[74, 4], y=[1, 1], edge_mask=[74], idx=786, y_cf=[1], adj_padded=[24, 24], x_padded=[24, 3]),\n",
       " Data(x=[24, 3], edge_index=[2, 74], edge_attr=[74, 4], y=[1, 1], edge_mask=[74], idx=787, y_cf=[1], adj_padded=[24, 24], x_padded=[24, 3]),\n",
       " Data(x=[24, 3], edge_index=[2, 74], edge_attr=[74, 4], y=[1, 1], edge_mask=[74], idx=788, y_cf=[1], adj_padded=[24, 24], x_padded=[24, 3]),\n",
       " Data(x=[24, 3], edge_index=[2, 74], edge_attr=[74, 4], y=[1, 1], edge_mask=[74], idx=789, y_cf=[1], adj_padded=[24, 24], x_padded=[24, 3]),\n",
       " Data(x=[24, 3], edge_index=[2, 74], edge_attr=[74, 4], y=[1, 1], edge_mask=[74], idx=790, y_cf=[1], adj_padded=[24, 24], x_padded=[24, 3]),\n",
       " Data(x=[24, 3], edge_index=[2, 74], edge_attr=[74, 4], y=[1, 1], edge_mask=[74], idx=791, y_cf=[1], adj_padded=[24, 24], x_padded=[24, 3]),\n",
       " Data(x=[24, 3], edge_index=[2, 74], edge_attr=[74, 4], y=[1, 1], edge_mask=[74], idx=792, y_cf=[1], adj_padded=[24, 24], x_padded=[24, 3]),\n",
       " Data(x=[24, 3], edge_index=[2, 72], edge_attr=[72, 4], y=[1, 1], edge_mask=[72], idx=793, y_cf=[1], adj_padded=[24, 24], x_padded=[24, 3]),\n",
       " Data(x=[24, 3], edge_index=[2, 74], edge_attr=[74, 4], y=[1, 1], edge_mask=[74], idx=794, y_cf=[1], adj_padded=[24, 24], x_padded=[24, 3]),\n",
       " Data(x=[24, 3], edge_index=[2, 74], edge_attr=[74, 4], y=[1, 1], edge_mask=[74], idx=795, y_cf=[1], adj_padded=[24, 24], x_padded=[24, 3]),\n",
       " Data(x=[24, 3], edge_index=[2, 74], edge_attr=[74, 4], y=[1, 1], edge_mask=[74], idx=796, y_cf=[1], adj_padded=[24, 24], x_padded=[24, 3]),\n",
       " Data(x=[24, 3], edge_index=[2, 74], edge_attr=[74, 4], y=[1, 1], edge_mask=[74], idx=797, y_cf=[1], adj_padded=[24, 24], x_padded=[24, 3]),\n",
       " Data(x=[24, 3], edge_index=[2, 74], edge_attr=[74, 4], y=[1, 1], edge_mask=[74], idx=798, y_cf=[1], adj_padded=[24, 24], x_padded=[24, 3]),\n",
       " Data(x=[24, 3], edge_index=[2, 74], edge_attr=[74, 4], y=[1, 1], edge_mask=[74], idx=799, y_cf=[1], adj_padded=[24, 24], x_padded=[24, 3]),\n",
       " Data(x=[24, 3], edge_index=[2, 74], edge_attr=[74, 4], y=[1, 1], edge_mask=[74], idx=800, y_cf=[1], adj_padded=[24, 24], x_padded=[24, 3]),\n",
       " Data(x=[24, 3], edge_index=[2, 74], edge_attr=[74, 4], y=[1, 1], edge_mask=[74], idx=801, y_cf=[1], adj_padded=[24, 24], x_padded=[24, 3]),\n",
       " Data(x=[24, 3], edge_index=[2, 74], edge_attr=[74, 4], y=[1, 1], edge_mask=[74], idx=802, y_cf=[1], adj_padded=[24, 24], x_padded=[24, 3]),\n",
       " Data(x=[24, 3], edge_index=[2, 74], edge_attr=[74, 4], y=[1, 1], edge_mask=[74], idx=803, y_cf=[1], adj_padded=[24, 24], x_padded=[24, 3]),\n",
       " Data(x=[24, 3], edge_index=[2, 74], edge_attr=[74, 4], y=[1, 1], edge_mask=[74], idx=804, y_cf=[1], adj_padded=[24, 24], x_padded=[24, 3]),\n",
       " Data(x=[24, 3], edge_index=[2, 74], edge_attr=[74, 4], y=[1, 1], edge_mask=[74], idx=805, y_cf=[1], adj_padded=[24, 24], x_padded=[24, 3]),\n",
       " Data(x=[24, 3], edge_index=[2, 74], edge_attr=[74, 4], y=[1, 1], edge_mask=[74], idx=806, y_cf=[1], adj_padded=[24, 24], x_padded=[24, 3]),\n",
       " Data(x=[24, 3], edge_index=[2, 74], edge_attr=[74, 4], y=[1, 1], edge_mask=[74], idx=807, y_cf=[1], adj_padded=[24, 24], x_padded=[24, 3]),\n",
       " Data(x=[24, 3], edge_index=[2, 74], edge_attr=[74, 4], y=[1, 1], edge_mask=[74], idx=808, y_cf=[1], adj_padded=[24, 24], x_padded=[24, 3]),\n",
       " Data(x=[24, 3], edge_index=[2, 74], edge_attr=[74, 4], y=[1, 1], edge_mask=[74], idx=809, y_cf=[1], adj_padded=[24, 24], x_padded=[24, 3]),\n",
       " Data(x=[24, 3], edge_index=[2, 72], edge_attr=[72, 4], y=[1, 1], edge_mask=[72], idx=810, y_cf=[1], adj_padded=[24, 24], x_padded=[24, 3]),\n",
       " Data(x=[24, 3], edge_index=[2, 72], edge_attr=[72, 4], y=[1, 1], edge_mask=[72], idx=811, y_cf=[1], adj_padded=[24, 24], x_padded=[24, 3]),\n",
       " Data(x=[24, 3], edge_index=[2, 74], edge_attr=[74, 4], y=[1, 1], edge_mask=[74], idx=812, y_cf=[1], adj_padded=[24, 24], x_padded=[24, 3]),\n",
       " Data(x=[24, 3], edge_index=[2, 74], edge_attr=[74, 4], y=[1, 1], edge_mask=[74], idx=813, y_cf=[1], adj_padded=[24, 24], x_padded=[24, 3]),\n",
       " Data(x=[24, 3], edge_index=[2, 72], edge_attr=[72, 4], y=[1, 1], edge_mask=[72], idx=814, y_cf=[1], adj_padded=[24, 24], x_padded=[24, 3]),\n",
       " Data(x=[24, 3], edge_index=[2, 74], edge_attr=[74, 4], y=[1, 1], edge_mask=[74], idx=815, y_cf=[1], adj_padded=[24, 24], x_padded=[24, 3]),\n",
       " Data(x=[24, 3], edge_index=[2, 72], edge_attr=[72, 4], y=[1, 1], edge_mask=[72], idx=816, y_cf=[1], adj_padded=[24, 24], x_padded=[24, 3]),\n",
       " Data(x=[24, 3], edge_index=[2, 74], edge_attr=[74, 4], y=[1, 1], edge_mask=[74], idx=817, y_cf=[1], adj_padded=[24, 24], x_padded=[24, 3]),\n",
       " Data(x=[24, 3], edge_index=[2, 74], edge_attr=[74, 4], y=[1, 1], edge_mask=[74], idx=818, y_cf=[1], adj_padded=[24, 24], x_padded=[24, 3]),\n",
       " Data(x=[24, 3], edge_index=[2, 74], edge_attr=[74, 4], y=[1, 1], edge_mask=[74], idx=819, y_cf=[1], adj_padded=[24, 24], x_padded=[24, 3]),\n",
       " Data(x=[24, 3], edge_index=[2, 74], edge_attr=[74, 4], y=[1, 1], edge_mask=[74], idx=820, y_cf=[1], adj_padded=[24, 24], x_padded=[24, 3]),\n",
       " Data(x=[24, 3], edge_index=[2, 74], edge_attr=[74, 4], y=[1, 1], edge_mask=[74], idx=821, y_cf=[1], adj_padded=[24, 24], x_padded=[24, 3]),\n",
       " Data(x=[24, 3], edge_index=[2, 74], edge_attr=[74, 4], y=[1, 1], edge_mask=[74], idx=822, y_cf=[1], adj_padded=[24, 24], x_padded=[24, 3]),\n",
       " Data(x=[24, 3], edge_index=[2, 74], edge_attr=[74, 4], y=[1, 1], edge_mask=[74], idx=823, y_cf=[1], adj_padded=[24, 24], x_padded=[24, 3]),\n",
       " Data(x=[24, 3], edge_index=[2, 74], edge_attr=[74, 4], y=[1, 1], edge_mask=[74], idx=824, y_cf=[1], adj_padded=[24, 24], x_padded=[24, 3]),\n",
       " Data(x=[24, 3], edge_index=[2, 74], edge_attr=[74, 4], y=[1, 1], edge_mask=[74], idx=825, y_cf=[1], adj_padded=[24, 24], x_padded=[24, 3]),\n",
       " Data(x=[24, 3], edge_index=[2, 74], edge_attr=[74, 4], y=[1, 1], edge_mask=[74], idx=826, y_cf=[1], adj_padded=[24, 24], x_padded=[24, 3]),\n",
       " Data(x=[24, 3], edge_index=[2, 74], edge_attr=[74, 4], y=[1, 1], edge_mask=[74], idx=827, y_cf=[1], adj_padded=[24, 24], x_padded=[24, 3]),\n",
       " Data(x=[24, 3], edge_index=[2, 74], edge_attr=[74, 4], y=[1, 1], edge_mask=[74], idx=828, y_cf=[1], adj_padded=[24, 24], x_padded=[24, 3]),\n",
       " Data(x=[24, 3], edge_index=[2, 74], edge_attr=[74, 4], y=[1, 1], edge_mask=[74], idx=829, y_cf=[1], adj_padded=[24, 24], x_padded=[24, 3]),\n",
       " Data(x=[24, 3], edge_index=[2, 74], edge_attr=[74, 4], y=[1, 1], edge_mask=[74], idx=830, y_cf=[1], adj_padded=[24, 24], x_padded=[24, 3]),\n",
       " Data(x=[24, 3], edge_index=[2, 74], edge_attr=[74, 4], y=[1, 1], edge_mask=[74], idx=831, y_cf=[1], adj_padded=[24, 24], x_padded=[24, 3]),\n",
       " Data(x=[24, 3], edge_index=[2, 74], edge_attr=[74, 4], y=[1, 1], edge_mask=[74], idx=832, y_cf=[1], adj_padded=[24, 24], x_padded=[24, 3]),\n",
       " Data(x=[24, 3], edge_index=[2, 74], edge_attr=[74, 4], y=[1, 1], edge_mask=[74], idx=833, y_cf=[1], adj_padded=[24, 24], x_padded=[24, 3]),\n",
       " Data(x=[24, 3], edge_index=[2, 74], edge_attr=[74, 4], y=[1, 1], edge_mask=[74], idx=834, y_cf=[1], adj_padded=[24, 24], x_padded=[24, 3]),\n",
       " Data(x=[24, 3], edge_index=[2, 74], edge_attr=[74, 4], y=[1, 1], edge_mask=[74], idx=835, y_cf=[1], adj_padded=[24, 24], x_padded=[24, 3]),\n",
       " Data(x=[24, 3], edge_index=[2, 74], edge_attr=[74, 4], y=[1, 1], edge_mask=[74], idx=836, y_cf=[1], adj_padded=[24, 24], x_padded=[24, 3]),\n",
       " Data(x=[24, 3], edge_index=[2, 74], edge_attr=[74, 4], y=[1, 1], edge_mask=[74], idx=837, y_cf=[1], adj_padded=[24, 24], x_padded=[24, 3]),\n",
       " Data(x=[24, 3], edge_index=[2, 74], edge_attr=[74, 4], y=[1, 1], edge_mask=[74], idx=838, y_cf=[1], adj_padded=[24, 24], x_padded=[24, 3]),\n",
       " Data(x=[24, 3], edge_index=[2, 74], edge_attr=[74, 4], y=[1, 1], edge_mask=[74], idx=839, y_cf=[1], adj_padded=[24, 24], x_padded=[24, 3]),\n",
       " Data(x=[24, 3], edge_index=[2, 74], edge_attr=[74, 4], y=[1, 1], edge_mask=[74], idx=840, y_cf=[1], adj_padded=[24, 24], x_padded=[24, 3]),\n",
       " Data(x=[24, 3], edge_index=[2, 74], edge_attr=[74, 4], y=[1, 1], edge_mask=[74], idx=841, y_cf=[1], adj_padded=[24, 24], x_padded=[24, 3]),\n",
       " Data(x=[24, 3], edge_index=[2, 74], edge_attr=[74, 4], y=[1, 1], edge_mask=[74], idx=842, y_cf=[1], adj_padded=[24, 24], x_padded=[24, 3]),\n",
       " Data(x=[24, 3], edge_index=[2, 74], edge_attr=[74, 4], y=[1, 1], edge_mask=[74], idx=843, y_cf=[1], adj_padded=[24, 24], x_padded=[24, 3]),\n",
       " Data(x=[24, 3], edge_index=[2, 74], edge_attr=[74, 4], y=[1, 1], edge_mask=[74], idx=844, y_cf=[1], adj_padded=[24, 24], x_padded=[24, 3]),\n",
       " Data(x=[24, 3], edge_index=[2, 74], edge_attr=[74, 4], y=[1, 1], edge_mask=[74], idx=845, y_cf=[1], adj_padded=[24, 24], x_padded=[24, 3]),\n",
       " Data(x=[24, 3], edge_index=[2, 74], edge_attr=[74, 4], y=[1, 1], edge_mask=[74], idx=846, y_cf=[1], adj_padded=[24, 24], x_padded=[24, 3]),\n",
       " Data(x=[24, 3], edge_index=[2, 72], edge_attr=[72, 4], y=[1, 1], edge_mask=[72], idx=847, y_cf=[1], adj_padded=[24, 24], x_padded=[24, 3]),\n",
       " Data(x=[24, 3], edge_index=[2, 74], edge_attr=[74, 4], y=[1, 1], edge_mask=[74], idx=848, y_cf=[1], adj_padded=[24, 24], x_padded=[24, 3]),\n",
       " Data(x=[24, 3], edge_index=[2, 74], edge_attr=[74, 4], y=[1, 1], edge_mask=[74], idx=849, y_cf=[1], adj_padded=[24, 24], x_padded=[24, 3]),\n",
       " Data(x=[24, 3], edge_index=[2, 74], edge_attr=[74, 4], y=[1, 1], edge_mask=[74], idx=850, y_cf=[1], adj_padded=[24, 24], x_padded=[24, 3]),\n",
       " Data(x=[24, 3], edge_index=[2, 74], edge_attr=[74, 4], y=[1, 1], edge_mask=[74], idx=851, y_cf=[1], adj_padded=[24, 24], x_padded=[24, 3]),\n",
       " Data(x=[24, 3], edge_index=[2, 74], edge_attr=[74, 4], y=[1, 1], edge_mask=[74], idx=852, y_cf=[1], adj_padded=[24, 24], x_padded=[24, 3]),\n",
       " Data(x=[24, 3], edge_index=[2, 74], edge_attr=[74, 4], y=[1, 1], edge_mask=[74], idx=853, y_cf=[1], adj_padded=[24, 24], x_padded=[24, 3]),\n",
       " Data(x=[24, 3], edge_index=[2, 74], edge_attr=[74, 4], y=[1, 1], edge_mask=[74], idx=854, y_cf=[1], adj_padded=[24, 24], x_padded=[24, 3]),\n",
       " Data(x=[24, 3], edge_index=[2, 74], edge_attr=[74, 4], y=[1, 1], edge_mask=[74], idx=855, y_cf=[1], adj_padded=[24, 24], x_padded=[24, 3]),\n",
       " Data(x=[24, 3], edge_index=[2, 72], edge_attr=[72, 4], y=[1, 1], edge_mask=[72], idx=856, y_cf=[1], adj_padded=[24, 24], x_padded=[24, 3]),\n",
       " Data(x=[24, 3], edge_index=[2, 72], edge_attr=[72, 4], y=[1, 1], edge_mask=[72], idx=857, y_cf=[1], adj_padded=[24, 24], x_padded=[24, 3]),\n",
       " Data(x=[24, 3], edge_index=[2, 72], edge_attr=[72, 4], y=[1, 1], edge_mask=[72], idx=858, y_cf=[1], adj_padded=[24, 24], x_padded=[24, 3]),\n",
       " Data(x=[24, 3], edge_index=[2, 72], edge_attr=[72, 4], y=[1, 1], edge_mask=[72], idx=859, y_cf=[1], adj_padded=[24, 24], x_padded=[24, 3]),\n",
       " Data(x=[24, 3], edge_index=[2, 74], edge_attr=[74, 4], y=[1, 1], edge_mask=[74], idx=860, y_cf=[1], adj_padded=[24, 24], x_padded=[24, 3]),\n",
       " Data(x=[24, 3], edge_index=[2, 74], edge_attr=[74, 4], y=[1, 1], edge_mask=[74], idx=861, y_cf=[1], adj_padded=[24, 24], x_padded=[24, 3]),\n",
       " Data(x=[24, 3], edge_index=[2, 74], edge_attr=[74, 4], y=[1, 1], edge_mask=[74], idx=862, y_cf=[1], adj_padded=[24, 24], x_padded=[24, 3]),\n",
       " Data(x=[24, 3], edge_index=[2, 74], edge_attr=[74, 4], y=[1, 1], edge_mask=[74], idx=863, y_cf=[1], adj_padded=[24, 24], x_padded=[24, 3]),\n",
       " Data(x=[24, 3], edge_index=[2, 74], edge_attr=[74, 4], y=[1, 1], edge_mask=[74], idx=864, y_cf=[1], adj_padded=[24, 24], x_padded=[24, 3]),\n",
       " Data(x=[24, 3], edge_index=[2, 74], edge_attr=[74, 4], y=[1, 1], edge_mask=[74], idx=865, y_cf=[1], adj_padded=[24, 24], x_padded=[24, 3]),\n",
       " Data(x=[24, 3], edge_index=[2, 74], edge_attr=[74, 4], y=[1, 1], edge_mask=[74], idx=866, y_cf=[1], adj_padded=[24, 24], x_padded=[24, 3]),\n",
       " Data(x=[24, 3], edge_index=[2, 74], edge_attr=[74, 4], y=[1, 1], edge_mask=[74], idx=867, y_cf=[1], adj_padded=[24, 24], x_padded=[24, 3]),\n",
       " Data(x=[24, 3], edge_index=[2, 74], edge_attr=[74, 4], y=[1, 1], edge_mask=[74], idx=868, y_cf=[1], adj_padded=[24, 24], x_padded=[24, 3]),\n",
       " Data(x=[24, 3], edge_index=[2, 74], edge_attr=[74, 4], y=[1, 1], edge_mask=[74], idx=869, y_cf=[1], adj_padded=[24, 24], x_padded=[24, 3]),\n",
       " Data(x=[24, 3], edge_index=[2, 74], edge_attr=[74, 4], y=[1, 1], edge_mask=[74], idx=870, y_cf=[1], adj_padded=[24, 24], x_padded=[24, 3]),\n",
       " Data(x=[24, 3], edge_index=[2, 74], edge_attr=[74, 4], y=[1, 1], edge_mask=[74], idx=871, y_cf=[1], adj_padded=[24, 24], x_padded=[24, 3]),\n",
       " Data(x=[24, 3], edge_index=[2, 74], edge_attr=[74, 4], y=[1, 1], edge_mask=[74], idx=872, y_cf=[1], adj_padded=[24, 24], x_padded=[24, 3]),\n",
       " Data(x=[24, 3], edge_index=[2, 74], edge_attr=[74, 4], y=[1, 1], edge_mask=[74], idx=873, y_cf=[1], adj_padded=[24, 24], x_padded=[24, 3]),\n",
       " Data(x=[24, 3], edge_index=[2, 74], edge_attr=[74, 4], y=[1, 1], edge_mask=[74], idx=874, y_cf=[1], adj_padded=[24, 24], x_padded=[24, 3]),\n",
       " Data(x=[24, 3], edge_index=[2, 74], edge_attr=[74, 4], y=[1, 1], edge_mask=[74], idx=875, y_cf=[1], adj_padded=[24, 24], x_padded=[24, 3]),\n",
       " Data(x=[24, 3], edge_index=[2, 74], edge_attr=[74, 4], y=[1, 1], edge_mask=[74], idx=876, y_cf=[1], adj_padded=[24, 24], x_padded=[24, 3]),\n",
       " Data(x=[24, 3], edge_index=[2, 74], edge_attr=[74, 4], y=[1, 1], edge_mask=[74], idx=877, y_cf=[1], adj_padded=[24, 24], x_padded=[24, 3]),\n",
       " Data(x=[24, 3], edge_index=[2, 74], edge_attr=[74, 4], y=[1, 1], edge_mask=[74], idx=878, y_cf=[1], adj_padded=[24, 24], x_padded=[24, 3]),\n",
       " Data(x=[24, 3], edge_index=[2, 74], edge_attr=[74, 4], y=[1, 1], edge_mask=[74], idx=879, y_cf=[1], adj_padded=[24, 24], x_padded=[24, 3]),\n",
       " Data(x=[24, 3], edge_index=[2, 74], edge_attr=[74, 4], y=[1, 1], edge_mask=[74], idx=880, y_cf=[1], adj_padded=[24, 24], x_padded=[24, 3]),\n",
       " Data(x=[24, 3], edge_index=[2, 74], edge_attr=[74, 4], y=[1, 1], edge_mask=[74], idx=881, y_cf=[1], adj_padded=[24, 24], x_padded=[24, 3]),\n",
       " Data(x=[24, 3], edge_index=[2, 74], edge_attr=[74, 4], y=[1, 1], edge_mask=[74], idx=882, y_cf=[1], adj_padded=[24, 24], x_padded=[24, 3]),\n",
       " Data(x=[24, 3], edge_index=[2, 74], edge_attr=[74, 4], y=[1, 1], edge_mask=[74], idx=883, y_cf=[1], adj_padded=[24, 24], x_padded=[24, 3]),\n",
       " Data(x=[24, 3], edge_index=[2, 74], edge_attr=[74, 4], y=[1, 1], edge_mask=[74], idx=884, y_cf=[1], adj_padded=[24, 24], x_padded=[24, 3]),\n",
       " Data(x=[24, 3], edge_index=[2, 74], edge_attr=[74, 4], y=[1, 1], edge_mask=[74], idx=885, y_cf=[1], adj_padded=[24, 24], x_padded=[24, 3]),\n",
       " Data(x=[24, 3], edge_index=[2, 74], edge_attr=[74, 4], y=[1, 1], edge_mask=[74], idx=886, y_cf=[1], adj_padded=[24, 24], x_padded=[24, 3]),\n",
       " Data(x=[24, 3], edge_index=[2, 74], edge_attr=[74, 4], y=[1, 1], edge_mask=[74], idx=887, y_cf=[1], adj_padded=[24, 24], x_padded=[24, 3]),\n",
       " Data(x=[24, 3], edge_index=[2, 74], edge_attr=[74, 4], y=[1, 1], edge_mask=[74], idx=888, y_cf=[1], adj_padded=[24, 24], x_padded=[24, 3]),\n",
       " Data(x=[24, 3], edge_index=[2, 72], edge_attr=[72, 4], y=[1, 1], edge_mask=[72], idx=889, y_cf=[1], adj_padded=[24, 24], x_padded=[24, 3]),\n",
       " Data(x=[24, 3], edge_index=[2, 74], edge_attr=[74, 4], y=[1, 1], edge_mask=[74], idx=890, y_cf=[1], adj_padded=[24, 24], x_padded=[24, 3]),\n",
       " Data(x=[24, 3], edge_index=[2, 74], edge_attr=[74, 4], y=[1, 1], edge_mask=[74], idx=891, y_cf=[1], adj_padded=[24, 24], x_padded=[24, 3]),\n",
       " Data(x=[24, 3], edge_index=[2, 74], edge_attr=[74, 4], y=[1, 1], edge_mask=[74], idx=892, y_cf=[1], adj_padded=[24, 24], x_padded=[24, 3]),\n",
       " Data(x=[24, 3], edge_index=[2, 72], edge_attr=[72, 4], y=[1, 1], edge_mask=[72], idx=893, y_cf=[1], adj_padded=[24, 24], x_padded=[24, 3]),\n",
       " Data(x=[24, 3], edge_index=[2, 74], edge_attr=[74, 4], y=[1, 1], edge_mask=[74], idx=894, y_cf=[1], adj_padded=[24, 24], x_padded=[24, 3]),\n",
       " Data(x=[24, 3], edge_index=[2, 74], edge_attr=[74, 4], y=[1, 1], edge_mask=[74], idx=895, y_cf=[1], adj_padded=[24, 24], x_padded=[24, 3]),\n",
       " Data(x=[24, 3], edge_index=[2, 74], edge_attr=[74, 4], y=[1, 1], edge_mask=[74], idx=896, y_cf=[1], adj_padded=[24, 24], x_padded=[24, 3]),\n",
       " Data(x=[24, 3], edge_index=[2, 74], edge_attr=[74, 4], y=[1, 1], edge_mask=[74], idx=897, y_cf=[1], adj_padded=[24, 24], x_padded=[24, 3]),\n",
       " Data(x=[24, 3], edge_index=[2, 74], edge_attr=[74, 4], y=[1, 1], edge_mask=[74], idx=898, y_cf=[1], adj_padded=[24, 24], x_padded=[24, 3]),\n",
       " Data(x=[24, 3], edge_index=[2, 72], edge_attr=[72, 4], y=[1, 1], edge_mask=[72], idx=899, y_cf=[1], adj_padded=[24, 24], x_padded=[24, 3]),\n",
       " Data(x=[24, 3], edge_index=[2, 74], edge_attr=[74, 4], y=[1, 1], edge_mask=[74], idx=900, y_cf=[1], adj_padded=[24, 24], x_padded=[24, 3]),\n",
       " Data(x=[24, 3], edge_index=[2, 72], edge_attr=[72, 4], y=[1, 1], edge_mask=[72], idx=901, y_cf=[1], adj_padded=[24, 24], x_padded=[24, 3]),\n",
       " Data(x=[24, 3], edge_index=[2, 72], edge_attr=[72, 4], y=[1, 1], edge_mask=[72], idx=902, y_cf=[1], adj_padded=[24, 24], x_padded=[24, 3]),\n",
       " Data(x=[24, 3], edge_index=[2, 74], edge_attr=[74, 4], y=[1, 1], edge_mask=[74], idx=903, y_cf=[1], adj_padded=[24, 24], x_padded=[24, 3]),\n",
       " Data(x=[24, 3], edge_index=[2, 74], edge_attr=[74, 4], y=[1, 1], edge_mask=[74], idx=904, y_cf=[1], adj_padded=[24, 24], x_padded=[24, 3]),\n",
       " Data(x=[24, 3], edge_index=[2, 74], edge_attr=[74, 4], y=[1, 1], edge_mask=[74], idx=905, y_cf=[1], adj_padded=[24, 24], x_padded=[24, 3]),\n",
       " Data(x=[24, 3], edge_index=[2, 74], edge_attr=[74, 4], y=[1, 1], edge_mask=[74], idx=906, y_cf=[1], adj_padded=[24, 24], x_padded=[24, 3]),\n",
       " Data(x=[24, 3], edge_index=[2, 74], edge_attr=[74, 4], y=[1, 1], edge_mask=[74], idx=907, y_cf=[1], adj_padded=[24, 24], x_padded=[24, 3]),\n",
       " Data(x=[24, 3], edge_index=[2, 74], edge_attr=[74, 4], y=[1, 1], edge_mask=[74], idx=908, y_cf=[1], adj_padded=[24, 24], x_padded=[24, 3]),\n",
       " Data(x=[24, 3], edge_index=[2, 74], edge_attr=[74, 4], y=[1, 1], edge_mask=[74], idx=909, y_cf=[1], adj_padded=[24, 24], x_padded=[24, 3]),\n",
       " Data(x=[24, 3], edge_index=[2, 74], edge_attr=[74, 4], y=[1, 1], edge_mask=[74], idx=910, y_cf=[1], adj_padded=[24, 24], x_padded=[24, 3]),\n",
       " Data(x=[24, 3], edge_index=[2, 74], edge_attr=[74, 4], y=[1, 1], edge_mask=[74], idx=911, y_cf=[1], adj_padded=[24, 24], x_padded=[24, 3]),\n",
       " Data(x=[24, 3], edge_index=[2, 74], edge_attr=[74, 4], y=[1, 1], edge_mask=[74], idx=912, y_cf=[1], adj_padded=[24, 24], x_padded=[24, 3]),\n",
       " Data(x=[24, 3], edge_index=[2, 74], edge_attr=[74, 4], y=[1, 1], edge_mask=[74], idx=913, y_cf=[1], adj_padded=[24, 24], x_padded=[24, 3]),\n",
       " Data(x=[24, 3], edge_index=[2, 74], edge_attr=[74, 4], y=[1, 1], edge_mask=[74], idx=914, y_cf=[1], adj_padded=[24, 24], x_padded=[24, 3]),\n",
       " Data(x=[24, 3], edge_index=[2, 74], edge_attr=[74, 4], y=[1, 1], edge_mask=[74], idx=915, y_cf=[1], adj_padded=[24, 24], x_padded=[24, 3]),\n",
       " Data(x=[24, 3], edge_index=[2, 74], edge_attr=[74, 4], y=[1, 1], edge_mask=[74], idx=916, y_cf=[1], adj_padded=[24, 24], x_padded=[24, 3]),\n",
       " Data(x=[24, 3], edge_index=[2, 74], edge_attr=[74, 4], y=[1, 1], edge_mask=[74], idx=917, y_cf=[1], adj_padded=[24, 24], x_padded=[24, 3]),\n",
       " Data(x=[24, 3], edge_index=[2, 74], edge_attr=[74, 4], y=[1, 1], edge_mask=[74], idx=918, y_cf=[1], adj_padded=[24, 24], x_padded=[24, 3]),\n",
       " Data(x=[24, 3], edge_index=[2, 74], edge_attr=[74, 4], y=[1, 1], edge_mask=[74], idx=919, y_cf=[1], adj_padded=[24, 24], x_padded=[24, 3]),\n",
       " Data(x=[24, 3], edge_index=[2, 74], edge_attr=[74, 4], y=[1, 1], edge_mask=[74], idx=920, y_cf=[1], adj_padded=[24, 24], x_padded=[24, 3]),\n",
       " Data(x=[24, 3], edge_index=[2, 74], edge_attr=[74, 4], y=[1, 1], edge_mask=[74], idx=921, y_cf=[1], adj_padded=[24, 24], x_padded=[24, 3]),\n",
       " Data(x=[24, 3], edge_index=[2, 74], edge_attr=[74, 4], y=[1, 1], edge_mask=[74], idx=922, y_cf=[1], adj_padded=[24, 24], x_padded=[24, 3]),\n",
       " Data(x=[24, 3], edge_index=[2, 74], edge_attr=[74, 4], y=[1, 1], edge_mask=[74], idx=923, y_cf=[1], adj_padded=[24, 24], x_padded=[24, 3]),\n",
       " Data(x=[24, 3], edge_index=[2, 74], edge_attr=[74, 4], y=[1, 1], edge_mask=[74], idx=924, y_cf=[1], adj_padded=[24, 24], x_padded=[24, 3]),\n",
       " Data(x=[24, 3], edge_index=[2, 74], edge_attr=[74, 4], y=[1, 1], edge_mask=[74], idx=925, y_cf=[1], adj_padded=[24, 24], x_padded=[24, 3]),\n",
       " Data(x=[24, 3], edge_index=[2, 74], edge_attr=[74, 4], y=[1, 1], edge_mask=[74], idx=926, y_cf=[1], adj_padded=[24, 24], x_padded=[24, 3]),\n",
       " Data(x=[24, 3], edge_index=[2, 74], edge_attr=[74, 4], y=[1, 1], edge_mask=[74], idx=927, y_cf=[1], adj_padded=[24, 24], x_padded=[24, 3]),\n",
       " Data(x=[24, 3], edge_index=[2, 74], edge_attr=[74, 4], y=[1, 1], edge_mask=[74], idx=928, y_cf=[1], adj_padded=[24, 24], x_padded=[24, 3]),\n",
       " Data(x=[24, 3], edge_index=[2, 74], edge_attr=[74, 4], y=[1, 1], edge_mask=[74], idx=929, y_cf=[1], adj_padded=[24, 24], x_padded=[24, 3]),\n",
       " Data(x=[24, 3], edge_index=[2, 74], edge_attr=[74, 4], y=[1, 1], edge_mask=[74], idx=930, y_cf=[1], adj_padded=[24, 24], x_padded=[24, 3]),\n",
       " Data(x=[24, 3], edge_index=[2, 74], edge_attr=[74, 4], y=[1, 1], edge_mask=[74], idx=931, y_cf=[1], adj_padded=[24, 24], x_padded=[24, 3]),\n",
       " Data(x=[24, 3], edge_index=[2, 74], edge_attr=[74, 4], y=[1, 1], edge_mask=[74], idx=932, y_cf=[1], adj_padded=[24, 24], x_padded=[24, 3]),\n",
       " Data(x=[24, 3], edge_index=[2, 74], edge_attr=[74, 4], y=[1, 1], edge_mask=[74], idx=933, y_cf=[1], adj_padded=[24, 24], x_padded=[24, 3]),\n",
       " Data(x=[24, 3], edge_index=[2, 74], edge_attr=[74, 4], y=[1, 1], edge_mask=[74], idx=934, y_cf=[1], adj_padded=[24, 24], x_padded=[24, 3]),\n",
       " Data(x=[24, 3], edge_index=[2, 72], edge_attr=[72, 4], y=[1, 1], edge_mask=[72], idx=935, y_cf=[1], adj_padded=[24, 24], x_padded=[24, 3]),\n",
       " Data(x=[24, 3], edge_index=[2, 74], edge_attr=[74, 4], y=[1, 1], edge_mask=[74], idx=936, y_cf=[1], adj_padded=[24, 24], x_padded=[24, 3]),\n",
       " Data(x=[24, 3], edge_index=[2, 74], edge_attr=[74, 4], y=[1, 1], edge_mask=[74], idx=937, y_cf=[1], adj_padded=[24, 24], x_padded=[24, 3]),\n",
       " Data(x=[24, 3], edge_index=[2, 74], edge_attr=[74, 4], y=[1, 1], edge_mask=[74], idx=938, y_cf=[1], adj_padded=[24, 24], x_padded=[24, 3]),\n",
       " Data(x=[24, 3], edge_index=[2, 74], edge_attr=[74, 4], y=[1, 1], edge_mask=[74], idx=939, y_cf=[1], adj_padded=[24, 24], x_padded=[24, 3]),\n",
       " Data(x=[24, 3], edge_index=[2, 74], edge_attr=[74, 4], y=[1, 1], edge_mask=[74], idx=940, y_cf=[1], adj_padded=[24, 24], x_padded=[24, 3]),\n",
       " Data(x=[24, 3], edge_index=[2, 74], edge_attr=[74, 4], y=[1, 1], edge_mask=[74], idx=941, y_cf=[1], adj_padded=[24, 24], x_padded=[24, 3]),\n",
       " Data(x=[24, 3], edge_index=[2, 72], edge_attr=[72, 4], y=[1, 1], edge_mask=[72], idx=942, y_cf=[1], adj_padded=[24, 24], x_padded=[24, 3]),\n",
       " Data(x=[24, 3], edge_index=[2, 72], edge_attr=[72, 4], y=[1, 1], edge_mask=[72], idx=943, y_cf=[1], adj_padded=[24, 24], x_padded=[24, 3]),\n",
       " Data(x=[24, 3], edge_index=[2, 72], edge_attr=[72, 4], y=[1, 1], edge_mask=[72], idx=944, y_cf=[1], adj_padded=[24, 24], x_padded=[24, 3]),\n",
       " Data(x=[24, 3], edge_index=[2, 72], edge_attr=[72, 4], y=[1, 1], edge_mask=[72], idx=945, y_cf=[1], adj_padded=[24, 24], x_padded=[24, 3]),\n",
       " Data(x=[24, 3], edge_index=[2, 74], edge_attr=[74, 4], y=[1, 1], edge_mask=[74], idx=946, y_cf=[1], adj_padded=[24, 24], x_padded=[24, 3]),\n",
       " Data(x=[24, 3], edge_index=[2, 74], edge_attr=[74, 4], y=[1, 1], edge_mask=[74], idx=947, y_cf=[1], adj_padded=[24, 24], x_padded=[24, 3]),\n",
       " Data(x=[24, 3], edge_index=[2, 74], edge_attr=[74, 4], y=[1, 1], edge_mask=[74], idx=948, y_cf=[1], adj_padded=[24, 24], x_padded=[24, 3]),\n",
       " Data(x=[24, 3], edge_index=[2, 74], edge_attr=[74, 4], y=[1, 1], edge_mask=[74], idx=949, y_cf=[1], adj_padded=[24, 24], x_padded=[24, 3]),\n",
       " Data(x=[24, 3], edge_index=[2, 74], edge_attr=[74, 4], y=[1, 1], edge_mask=[74], idx=950, y_cf=[1], adj_padded=[24, 24], x_padded=[24, 3]),\n",
       " Data(x=[24, 3], edge_index=[2, 74], edge_attr=[74, 4], y=[1, 1], edge_mask=[74], idx=951, y_cf=[1], adj_padded=[24, 24], x_padded=[24, 3]),\n",
       " Data(x=[24, 3], edge_index=[2, 74], edge_attr=[74, 4], y=[1, 1], edge_mask=[74], idx=952, y_cf=[1], adj_padded=[24, 24], x_padded=[24, 3]),\n",
       " Data(x=[24, 3], edge_index=[2, 74], edge_attr=[74, 4], y=[1, 1], edge_mask=[74], idx=953, y_cf=[1], adj_padded=[24, 24], x_padded=[24, 3]),\n",
       " Data(x=[24, 3], edge_index=[2, 74], edge_attr=[74, 4], y=[1, 1], edge_mask=[74], idx=954, y_cf=[1], adj_padded=[24, 24], x_padded=[24, 3]),\n",
       " Data(x=[24, 3], edge_index=[2, 74], edge_attr=[74, 4], y=[1, 1], edge_mask=[74], idx=955, y_cf=[1], adj_padded=[24, 24], x_padded=[24, 3]),\n",
       " Data(x=[24, 3], edge_index=[2, 74], edge_attr=[74, 4], y=[1, 1], edge_mask=[74], idx=956, y_cf=[1], adj_padded=[24, 24], x_padded=[24, 3]),\n",
       " Data(x=[24, 3], edge_index=[2, 74], edge_attr=[74, 4], y=[1, 1], edge_mask=[74], idx=957, y_cf=[1], adj_padded=[24, 24], x_padded=[24, 3]),\n",
       " Data(x=[24, 3], edge_index=[2, 74], edge_attr=[74, 4], y=[1, 1], edge_mask=[74], idx=958, y_cf=[1], adj_padded=[24, 24], x_padded=[24, 3]),\n",
       " Data(x=[24, 3], edge_index=[2, 74], edge_attr=[74, 4], y=[1, 1], edge_mask=[74], idx=959, y_cf=[1], adj_padded=[24, 24], x_padded=[24, 3]),\n",
       " Data(x=[24, 3], edge_index=[2, 74], edge_attr=[74, 4], y=[1, 1], edge_mask=[74], idx=960, y_cf=[1], adj_padded=[24, 24], x_padded=[24, 3]),\n",
       " Data(x=[24, 3], edge_index=[2, 74], edge_attr=[74, 4], y=[1, 1], edge_mask=[74], idx=961, y_cf=[1], adj_padded=[24, 24], x_padded=[24, 3]),\n",
       " Data(x=[24, 3], edge_index=[2, 74], edge_attr=[74, 4], y=[1, 1], edge_mask=[74], idx=962, y_cf=[1], adj_padded=[24, 24], x_padded=[24, 3]),\n",
       " Data(x=[24, 3], edge_index=[2, 74], edge_attr=[74, 4], y=[1, 1], edge_mask=[74], idx=963, y_cf=[1], adj_padded=[24, 24], x_padded=[24, 3]),\n",
       " Data(x=[24, 3], edge_index=[2, 74], edge_attr=[74, 4], y=[1, 1], edge_mask=[74], idx=964, y_cf=[1], adj_padded=[24, 24], x_padded=[24, 3]),\n",
       " Data(x=[24, 3], edge_index=[2, 74], edge_attr=[74, 4], y=[1, 1], edge_mask=[74], idx=965, y_cf=[1], adj_padded=[24, 24], x_padded=[24, 3]),\n",
       " Data(x=[24, 3], edge_index=[2, 74], edge_attr=[74, 4], y=[1, 1], edge_mask=[74], idx=966, y_cf=[1], adj_padded=[24, 24], x_padded=[24, 3]),\n",
       " Data(x=[24, 3], edge_index=[2, 74], edge_attr=[74, 4], y=[1, 1], edge_mask=[74], idx=967, y_cf=[1], adj_padded=[24, 24], x_padded=[24, 3]),\n",
       " Data(x=[24, 3], edge_index=[2, 74], edge_attr=[74, 4], y=[1, 1], edge_mask=[74], idx=968, y_cf=[1], adj_padded=[24, 24], x_padded=[24, 3]),\n",
       " Data(x=[24, 3], edge_index=[2, 74], edge_attr=[74, 4], y=[1, 1], edge_mask=[74], idx=969, y_cf=[1], adj_padded=[24, 24], x_padded=[24, 3]),\n",
       " Data(x=[24, 3], edge_index=[2, 74], edge_attr=[74, 4], y=[1, 1], edge_mask=[74], idx=970, y_cf=[1], adj_padded=[24, 24], x_padded=[24, 3]),\n",
       " Data(x=[24, 3], edge_index=[2, 74], edge_attr=[74, 4], y=[1, 1], edge_mask=[74], idx=971, y_cf=[1], adj_padded=[24, 24], x_padded=[24, 3]),\n",
       " Data(x=[24, 3], edge_index=[2, 74], edge_attr=[74, 4], y=[1, 1], edge_mask=[74], idx=972, y_cf=[1], adj_padded=[24, 24], x_padded=[24, 3]),\n",
       " Data(x=[24, 3], edge_index=[2, 74], edge_attr=[74, 4], y=[1, 1], edge_mask=[74], idx=973, y_cf=[1], adj_padded=[24, 24], x_padded=[24, 3]),\n",
       " Data(x=[24, 3], edge_index=[2, 72], edge_attr=[72, 4], y=[1, 1], edge_mask=[72], idx=974, y_cf=[1], adj_padded=[24, 24], x_padded=[24, 3]),\n",
       " Data(x=[24, 3], edge_index=[2, 74], edge_attr=[74, 4], y=[1, 1], edge_mask=[74], idx=975, y_cf=[1], adj_padded=[24, 24], x_padded=[24, 3]),\n",
       " Data(x=[24, 3], edge_index=[2, 74], edge_attr=[74, 4], y=[1, 1], edge_mask=[74], idx=976, y_cf=[1], adj_padded=[24, 24], x_padded=[24, 3]),\n",
       " Data(x=[24, 3], edge_index=[2, 74], edge_attr=[74, 4], y=[1, 1], edge_mask=[74], idx=977, y_cf=[1], adj_padded=[24, 24], x_padded=[24, 3]),\n",
       " Data(x=[24, 3], edge_index=[2, 74], edge_attr=[74, 4], y=[1, 1], edge_mask=[74], idx=978, y_cf=[1], adj_padded=[24, 24], x_padded=[24, 3]),\n",
       " Data(x=[24, 3], edge_index=[2, 74], edge_attr=[74, 4], y=[1, 1], edge_mask=[74], idx=979, y_cf=[1], adj_padded=[24, 24], x_padded=[24, 3]),\n",
       " Data(x=[24, 3], edge_index=[2, 74], edge_attr=[74, 4], y=[1, 1], edge_mask=[74], idx=980, y_cf=[1], adj_padded=[24, 24], x_padded=[24, 3]),\n",
       " Data(x=[24, 3], edge_index=[2, 74], edge_attr=[74, 4], y=[1, 1], edge_mask=[74], idx=981, y_cf=[1], adj_padded=[24, 24], x_padded=[24, 3]),\n",
       " Data(x=[24, 3], edge_index=[2, 74], edge_attr=[74, 4], y=[1, 1], edge_mask=[74], idx=982, y_cf=[1], adj_padded=[24, 24], x_padded=[24, 3]),\n",
       " Data(x=[24, 3], edge_index=[2, 74], edge_attr=[74, 4], y=[1, 1], edge_mask=[74], idx=983, y_cf=[1], adj_padded=[24, 24], x_padded=[24, 3]),\n",
       " Data(x=[24, 3], edge_index=[2, 72], edge_attr=[72, 4], y=[1, 1], edge_mask=[72], idx=984, y_cf=[1], adj_padded=[24, 24], x_padded=[24, 3]),\n",
       " Data(x=[24, 3], edge_index=[2, 72], edge_attr=[72, 4], y=[1, 1], edge_mask=[72], idx=985, y_cf=[1], adj_padded=[24, 24], x_padded=[24, 3]),\n",
       " Data(x=[24, 3], edge_index=[2, 72], edge_attr=[72, 4], y=[1, 1], edge_mask=[72], idx=986, y_cf=[1], adj_padded=[24, 24], x_padded=[24, 3]),\n",
       " Data(x=[24, 3], edge_index=[2, 74], edge_attr=[74, 4], y=[1, 1], edge_mask=[74], idx=987, y_cf=[1], adj_padded=[24, 24], x_padded=[24, 3]),\n",
       " Data(x=[24, 3], edge_index=[2, 72], edge_attr=[72, 4], y=[1, 1], edge_mask=[72], idx=988, y_cf=[1], adj_padded=[24, 24], x_padded=[24, 3]),\n",
       " Data(x=[24, 3], edge_index=[2, 74], edge_attr=[74, 4], y=[1, 1], edge_mask=[74], idx=989, y_cf=[1], adj_padded=[24, 24], x_padded=[24, 3]),\n",
       " Data(x=[24, 3], edge_index=[2, 74], edge_attr=[74, 4], y=[1, 1], edge_mask=[74], idx=990, y_cf=[1], adj_padded=[24, 24], x_padded=[24, 3]),\n",
       " Data(x=[24, 3], edge_index=[2, 74], edge_attr=[74, 4], y=[1, 1], edge_mask=[74], idx=991, y_cf=[1], adj_padded=[24, 24], x_padded=[24, 3]),\n",
       " Data(x=[24, 3], edge_index=[2, 74], edge_attr=[74, 4], y=[1, 1], edge_mask=[74], idx=992, y_cf=[1], adj_padded=[24, 24], x_padded=[24, 3]),\n",
       " Data(x=[24, 3], edge_index=[2, 74], edge_attr=[74, 4], y=[1, 1], edge_mask=[74], idx=993, y_cf=[1], adj_padded=[24, 24], x_padded=[24, 3]),\n",
       " Data(x=[24, 3], edge_index=[2, 74], edge_attr=[74, 4], y=[1, 1], edge_mask=[74], idx=994, y_cf=[1], adj_padded=[24, 24], x_padded=[24, 3]),\n",
       " Data(x=[24, 3], edge_index=[2, 74], edge_attr=[74, 4], y=[1, 1], edge_mask=[74], idx=995, y_cf=[1], adj_padded=[24, 24], x_padded=[24, 3]),\n",
       " Data(x=[24, 3], edge_index=[2, 74], edge_attr=[74, 4], y=[1, 1], edge_mask=[74], idx=996, y_cf=[1], adj_padded=[24, 24], x_padded=[24, 3]),\n",
       " Data(x=[24, 3], edge_index=[2, 74], edge_attr=[74, 4], y=[1, 1], edge_mask=[74], idx=997, y_cf=[1], adj_padded=[24, 24], x_padded=[24, 3]),\n",
       " Data(x=[24, 3], edge_index=[2, 74], edge_attr=[74, 4], y=[1, 1], edge_mask=[74], idx=998, y_cf=[1], adj_padded=[24, 24], x_padded=[24, 3]),\n",
       " Data(x=[24, 3], edge_index=[2, 74], edge_attr=[74, 4], y=[1, 1], edge_mask=[74], idx=999, y_cf=[1], adj_padded=[24, 24], x_padded=[24, 3]),\n",
       " ...]"
      ]
     },
     "execution_count": 19,
     "metadata": {},
     "output_type": "execute_result"
    }
   ],
   "source": [
    "data_list"
   ]
  },
  {
   "cell_type": "markdown",
   "metadata": {},
   "source": [
    "## Automático \n",
    "\n",
    "Lo hacemos con la librería adecuada - InMemoryDataset es una clase proporcionada por PyTorch Geometric, una biblioteca diseñada para trabajar con datos de grafos en PyTorch. Esta clase es una subclase de torch_geometric.data.Dataset y está diseñada para manejar conjuntos de datos de grafos que se pueden cargar completamente en la memoria RAM.\n",
    "\n",
    "El código correspondiente a la clase InMemoryDataset viene proporcionado:"
   ]
  },
  {
   "cell_type": "code",
   "execution_count": 12,
   "metadata": {
    "metadata": {}
   },
   "outputs": [],
   "source": [
    "from dataset.powergrid import PowerGrid"
   ]
  },
  {
   "cell_type": "code",
   "execution_count": 13,
   "metadata": {
    "metadata": {}
   },
   "outputs": [],
   "source": [
    "def get_dataset(dataset_root, **params):\n",
    "\n",
    "    dataset_name = params[\"dataset_name\"]\n",
    "    datatype = params[\"datatype\"]\n",
    "    print(f\"Loading {dataset_name} dataset...\")\n",
    "\n",
    "    if dataset_name.lower() in list(PowerGrid.names.keys()):\n",
    "        return PowerGrid(root=dataset_root, name=dataset_name, datatype=datatype)\n",
    "    \n",
    "    # NO VAMOS A USAR DATASETS SINTÉTICOS\n",
    "    #elif dataset_name.lower() in list(SynGraphDataset.names.keys()):\n",
    "    #   dataset = SynGraphDataset(root=dataset_root, name=dataset_name, **kwargs)\n",
    "    #   return dataset\n",
    "    else:\n",
    "        raise ValueError(f\"{dataset_name} is not defined.\")"
   ]
  },
  {
   "cell_type": "code",
   "execution_count": 14,
   "metadata": {
    "metadata": {}
   },
   "outputs": [],
   "source": [
    "CKPT_ROOT = \"/home/TFM/code/extras/\"\n",
    "\n",
    "DATA_DIR = \"/home/dataset/\"\n",
    "MODEL_DIR = CKPT_ROOT + \"model/\"\n",
    "LOG_DIR = CKPT_ROOT + \"logs/\"\n",
    "RESULT_DIR = CKPT_ROOT + \"results/\"\n",
    "MASK_DIR = CKPT_ROOT + \"mask/\"\n"
   ]
  },
  {
   "cell_type": "code",
   "execution_count": 15,
   "metadata": {
    "metadata": {}
   },
   "outputs": [],
   "source": [
    "dataset_params = {\n",
    "    \"dataset_name\": \"ieee24\",\n",
    "    \"random_seed\": 0,\n",
    "    \"datatype\": \"classification\",\n",
    "    \"train_ratio\": 0.8,\n",
    "    \"val_ratio\": 0.15,\n",
    "    \"test_ratio\": 0.1\n",
    "}\n",
    "\n",
    "args = {\n",
    "    'data_save_dir': DATA_DIR,\n",
    "    'dest': '/home/TFM/',\n",
    "    'logs_save_dir': LOG_DIR,\n",
    "    'mask_save_dir': MASK_DIR,\n",
    "    'model_save_dir': MODEL_DIR,\n",
    "    'result_save_dir': RESULT_DIR,\n",
    "\n",
    "}"
   ]
  },
  {
   "cell_type": "code",
   "execution_count": 16,
   "metadata": {
    "metadata": {}
   },
   "outputs": [
    {
     "name": "stdout",
     "output_type": "stream",
     "text": [
      "Loading ieee24 dataset...\n"
     ]
    }
   ],
   "source": [
    "\n",
    "\n",
    "dataset = get_dataset(args['data_save_dir'], **dataset_params)\n",
    "\n",
    "\n",
    "\n"
   ]
  },
  {
   "cell_type": "code",
   "execution_count": 17,
   "metadata": {
    "metadata": {}
   },
   "outputs": [
    {
     "data": {
      "text/plain": [
       "PowerGrid(12900)"
      ]
     },
     "execution_count": 17,
     "metadata": {},
     "output_type": "execute_result"
    }
   ],
   "source": [
    "dataset"
   ]
  },
  {
   "cell_type": "code",
   "execution_count": 18,
   "metadata": {
    "metadata": {}
   },
   "outputs": [
    {
     "name": "stderr",
     "output_type": "stream",
     "text": [
      "/usr/local/lib/python3.12/site-packages/torch_geometric/data/in_memory_dataset.py:300: UserWarning: It is not recommended to directly access the internal storage format `data` of an 'InMemoryDataset'. If you are absolutely certain what you are doing, access the internal storage via `InMemoryDataset._data` instead to suppress this warning. Alternatively, you can access stacked individual attributes of every graph via `dataset.{attr_name}`.\n",
      "  warnings.warn(msg)\n"
     ]
    }
   ],
   "source": [
    "dataset.data.x = dataset.data.x.float()\n",
    "dataset.data.y = dataset.data.y.squeeze().long()\n"
   ]
  },
  {
   "cell_type": "markdown",
   "metadata": {},
   "source": [
    "### Visualización\n"
   ]
  },
  {
   "cell_type": "code",
   "execution_count": 22,
   "metadata": {
    "metadata": {}
   },
   "outputs": [
    {
     "name": "stdout",
     "output_type": "stream",
     "text": [
      "Collecting plotly\n",
      "  Downloading plotly-5.21.0-py3-none-any.whl.metadata (7.1 kB)\n",
      "Collecting tenacity>=6.2.0 (from plotly)\n",
      "  Downloading tenacity-8.2.3-py3-none-any.whl.metadata (1.0 kB)\n",
      "Requirement already satisfied: packaging in /usr/local/lib/python3.12/site-packages (from plotly) (24.0)\n",
      "Downloading plotly-5.21.0-py3-none-any.whl (15.7 MB)\n",
      "\u001b[2K   \u001b[90m━━━━━━━━━━━━━━━━━━━━━━━━━━━━━━━━━━━━━━━━\u001b[0m \u001b[32m15.7/15.7 MB\u001b[0m \u001b[31m17.5 MB/s\u001b[0m eta \u001b[36m0:00:00\u001b[0m00:01\u001b[0m00:01\u001b[0m\n",
      "\u001b[?25hDownloading tenacity-8.2.3-py3-none-any.whl (24 kB)\n",
      "Installing collected packages: tenacity, plotly\n",
      "Successfully installed plotly-5.21.0 tenacity-8.2.3\n",
      "\u001b[33mWARNING: Running pip as the 'root' user can result in broken permissions and conflicting behaviour with the system package manager. It is recommended to use a virtual environment instead: https://pip.pypa.io/warnings/venv\u001b[0m\u001b[33m\n",
      "\u001b[0m"
     ]
    }
   ],
   "source": [
    "!pip install plotly"
   ]
  },
  {
   "cell_type": "code",
   "execution_count": 34,
   "metadata": {
    "metadata": {}
   },
   "outputs": [],
   "source": [
    "\n",
    "import networkx as nx\n",
    "import plotly.graph_objects as go\n",
    "import matplotlib.pyplot as plt\n",
    "%matplotlib inline"
   ]
  },
  {
   "cell_type": "code",
   "execution_count": 42,
   "metadata": {
    "metadata": {}
   },
   "outputs": [],
   "source": [
    "def show_graph(data):\n",
    "    G = nx.Graph()\n",
    "    G.add_edges_from(data.edge_index.t().tolist())  # Convertir edge_index a una lista de tuplas\n",
    "\n",
    "    for i, x in enumerate(data.x.tolist()):\n",
    "        G.nodes[i].update({'Net active power': x[0], 'Net apparent power': x[1], 'Voltage magnitude': x[2]})\n",
    "\n",
    "    for i, (u, v) in enumerate(data.edge_index.t().tolist()):\n",
    "        G[u][v].update({'Active power flow': data.edge_attr[i].tolist()[0], \n",
    "                        'Reactive power flow': data.edge_attr[i].tolist()[1], \n",
    "                        'Line reactance': data.edge_attr[i].tolist()[2], \n",
    "                        'Line rating': data.edge_attr[i].tolist()[3]})\n",
    "\n",
    "    pos = nx.spring_layout(G)  # Calcular las posiciones de los nodos\n",
    "\n",
    "    node_x = [pos[node][0] for node in G.nodes()]\n",
    "    node_y = [pos[node][1] for node in G.nodes()]\n",
    "    node_degrees = dict(G.degree())\n",
    "    node_colors = [degree for node, degree in node_degrees.items()]\n",
    "\n",
    "\n",
    "    node_text = []\n",
    "    for node in G.nodes():\n",
    "        attributes = G.nodes[node]\n",
    "        text = f'Node {node}<br>'\n",
    "        for key, value in attributes.items():\n",
    "            text += f'{key}: {value}<br>'\n",
    "        node_text.append(text)\n",
    "\n",
    "\n",
    "    edge_text = []\n",
    "    edge_x = []\n",
    "    edge_y = []\n",
    "    for edge in G.edges():\n",
    "        x0, y0 = pos[edge[0]]\n",
    "        x1, y1 = pos[edge[1]]\n",
    "        edge_x.extend([x0, x1, None])\n",
    "        edge_y.extend([y0, y1, None])\n",
    "        attributes = G[edge[0]][edge[1]]\n",
    "        text = f'Edge {edge}<br>'\n",
    "        for key, value in attributes.items():\n",
    "            text += f'{key}: {value}<br>'\n",
    "        edge_text.append(text)\n",
    "\n",
    "\n",
    "    node_trace = go.Scatter(\n",
    "        x=node_x, y=node_y,\n",
    "        mode='markers',\n",
    "        hoverinfo='text',\n",
    "        text=node_text,  # Mostrar información adicional al pasar el cursor sobre los nodos\n",
    "        marker=dict(\n",
    "            color=node_colors,\n",
    "            showscale=True,\n",
    "            colorscale='YlGnBu',\n",
    "            size=10,\n",
    "            colorbar=dict(\n",
    "                thickness=15,\n",
    "                title='Node Connections',\n",
    "                xanchor='left',\n",
    "                titleside='right'\n",
    "            ),\n",
    "            line_width=2))\n",
    "\n",
    "    edge_trace = go.Scatter(\n",
    "        x=edge_x, y=edge_y,\n",
    "        line=dict(width=0.5, color='#888'),\n",
    "        hoverinfo='text',\n",
    "        text=edge_text,\n",
    "        mode='lines')\n",
    "\n",
    "    fig = go.Figure(data=[edge_trace, node_trace],\n",
    "                layout=go.Layout(\n",
    "                    title='Red eléctrica',\n",
    "                    titlefont_size=16,\n",
    "                    showlegend=False,\n",
    "                    hovermode='closest',\n",
    "                    margin=dict(b=20,l=5,r=5,t=40),\n",
    "                    xaxis=dict(showgrid=False, zeroline=False, showticklabels=False),\n",
    "                    yaxis=dict(showgrid=False, zeroline=False, showticklabels=False))\n",
    "                    )\n",
    "    fig.show()\n"
   ]
  },
  {
   "cell_type": "code",
   "execution_count": 43,
   "metadata": {
    "metadata": {}
   },
   "outputs": [
    {
     "data": {
      "application/vnd.plotly.v1+json": {
       "config": {
        "plotlyServerURL": "https://plot.ly"
       },
       "data": [
        {
         "hoverinfo": "text",
         "line": {
          "color": "#888",
          "width": 0.5
         },
         "mode": "lines",
         "text": [
          "Edge (0, 1)<br>Active power flow: 0.8862383961677551<br>Reactive power flow: -0.7865102291107178<br>Line reactance: -1.1782963275909424<br>Line rating: -1.4157013893127441<br>",
          "Edge (0, 2)<br>Active power flow: 0.5257260799407959<br>Reactive power flow: 0.44932159781455994<br>Line reactance: 2.801771640777588<br>Line rating: -1.4157013893127441<br>",
          "Edge (0, 4)<br>Active power flow: 1.0878697633743286<br>Reactive power flow: -0.19678877294063568<br>Line reactance: 0.24589425325393677<br>Line rating: -1.4157013893127441<br>",
          "Edge (1, 3)<br>Active power flow: 0.9327535033226013<br>Reactive power flow: 0.3543716073036194<br>Line reactance: 1.097180962562561<br>Line rating: -1.4157013893127441<br>",
          "Edge (1, 5)<br>Active power flow: 1.0306692123413086<br>Reactive power flow: -0.31089600920677185<br>Line reactance: 2.414456367492676<br>Line rating: -1.4157013893127441<br>",
          "Edge (2, 8)<br>Active power flow: 1.052753210067749<br>Reactive power flow: -0.42532646656036377<br>Line reactance: 0.9418514370918274<br>Line rating: -1.4157013893127441<br>",
          "Edge (2, 23)<br>Active power flow: -1.0682950019836426<br>Reactive power flow: 0.07660738378763199<br>Line reactance: 0.23379065096378326<br>Line rating: 0.10684538632631302<br>",
          "Edge (4, 9)<br>Active power flow: 0.5757808089256287<br>Reactive power flow: -0.5420581698417664<br>Line reactance: 0.3225504159927368<br>Line rating: -1.4157013893127441<br>",
          "Edge (3, 8)<br>Active power flow: 0.4003405272960663<br>Reactive power flow: 0.04787605628371239<br>Line reactance: 0.6332095265388489<br>Line rating: -1.4157013893127441<br>",
          "Edge (5, 9)<br>Active power flow: 0.05053666606545448<br>Reactive power flow: -4.434550762176514<br>Line reactance: -0.23824986815452576<br>Line rating: -1.4157013893127441<br>",
          "Edge (8, 7)<br>Active power flow: -0.07148812711238861<br>Reactive power flow: 0.37410905957221985<br>Line reactance: 1.8718116283416748<br>Line rating: -1.4157013893127441<br>",
          "Edge (8, 10)<br>Active power flow: -0.30400410294532776<br>Reactive power flow: -0.7482005953788757<br>Line reactance: 0.23379065096378326<br>Line rating: 0.10684538632631302<br>",
          "Edge (8, 11)<br>Active power flow: -0.3661049008369446<br>Reactive power flow: -0.5023078322410583<br>Line reactance: 0.23379065096378326<br>Line rating: 0.10684538632631302<br>",
          "Edge (23, 14)<br>Active power flow: 2.61179256439209<br>Reactive power flow: 1.6046239137649536<br>Line reactance: -0.41173484921455383<br>Line rating: 0.7835327982902527<br>",
          "Edge (9, 7)<br>Active power flow: 0.05172931030392647<br>Reactive power flow: -0.36839550733566284<br>Line reactance: 1.8718116283416748<br>Line rating: -1.4157013893127441<br>",
          "Edge (9, 10)<br>Active power flow: -0.7236367464065552<br>Reactive power flow: 0.880131185054779<br>Line reactance: 0.23379065096378326<br>Line rating: 0.10684538632631302<br>",
          "Edge (9, 11)<br>Active power flow: -0.7854837775230408<br>Reactive power flow: 1.1434530019760132<br>Line reactance: 0.23379065096378326<br>Line rating: 0.10684538632631302<br>",
          "Edge (6, 7)<br>Active power flow: 0.45539623498916626<br>Reactive power flow: 0.8754680156707764<br>Line reactance: -0.2200944721698761<br>Line rating: -1.4157013893127441<br>",
          "Edge (10, 12)<br>Active power flow: -0.08320122957229614<br>Reactive power flow: -0.4302765130996704<br>Line reactance: -0.49847733974456787<br>Line rating: 0.7835327982902527<br>",
          "Edge (10, 13)<br>Active power flow: -0.9530861377716064<br>Reactive power flow: -0.6162881255149841<br>Line reactance: -0.6154788136482239<br>Line rating: 0.7835327982902527<br>",
          "Edge (11, 12)<br>Active power flow: 0.03371685743331909<br>Reactive power flow: -0.8848294019699097<br>Line reactance: -0.49847733974456787<br>Line rating: 0.7835327982902527<br>",
          "Edge (11, 22)<br>Active power flow: -1.1948031187057495<br>Reactive power flow: 0.23148205876350403<br>Line reactance: 0.48998358845710754<br>Line rating: 0.7835327982902527<br>",
          "Edge (12, 22)<br>Active power flow: -1.0634808540344238<br>Reactive power flow: 0.5095046758651733<br>Line reactance: 0.2862395942211151<br>Line rating: 0.7835327982902527<br>",
          "Edge (13, 15)<br>Active power flow: -2.36238694190979<br>Reactive power flow: 1.7790950536727905<br>Line reactance: -0.6739795804023743<br>Line rating: 0.7835327982902527<br>",
          "Edge (22, 19)<br>Active power flow: 0.05458645895123482<br>Reactive power flow: -0.37317782640457153<br>Line reactance: -1.022966742515564<br>Line rating: 0.7835327982902527<br>",
          "Edge (15, 14)<br>Active power flow: 1.5513126850128174<br>Reactive power flow: -0.9747900366783142<br>Line reactance: -1.1097092628479004<br>Line rating: 0.7835327982902527<br>",
          "Edge (15, 16)<br>Active power flow: -1.9216874837875366<br>Reactive power flow: 1.2848243713378906<br>Line reactance: -0.9362242817878723<br>Line rating: 0.7835327982902527<br>",
          "Edge (15, 18)<br>Active power flow: 1.5746773481369019<br>Reactive power flow: 0.20511119067668915<br>Line reactance: -0.9927077889442444<br>Line rating: 0.7835327982902527<br>",
          "Edge (14, 20)<br>Active power flow: -1.0443999767303467<br>Reactive power flow: 0.5497635006904602<br>Line reactance: -0.47023558616638184<br>Line rating: 0.7835327982902527<br>",
          "Edge (20, 17)<br>Active power flow: 0.3568946421146393<br>Reactive power flow: 0.14380908012390137<br>Line reactance: -0.9362242817878723<br>Line rating: 0.7835327982902527<br>",
          "Edge (20, 21)<br>Active power flow: -0.49356457591056824<br>Reactive power flow: 0.600479781627655<br>Line reactance: -0.0909893661737442<br>Line rating: 0.7835327982902527<br>",
          "Edge (16, 17)<br>Active power flow: -0.8354297280311584<br>Reactive power flow: 0.39866945147514343<br>Line reactance: -1.1682100296020508<br>Line rating: 0.7835327982902527<br>",
          "Edge (16, 21)<br>Active power flow: -0.3570324778556824<br>Reactive power flow: 0.3891850411891937<br>Line reactance: 0.6654857993125916<br>Line rating: 0.7835327982902527<br>",
          "Edge (18, 19)<br>Active power flow: 0.514115035533905<br>Reactive power flow: -0.3119421899318695<br>Line reactance: -0.6598587036132812<br>Line rating: 0.7835327982902527<br>"
         ],
         "type": "scatter",
         "x": [
          0.06983309742056838,
          -0.016659671746917692,
          null,
          0.06983309742056838,
          0.16403821006271796,
          null,
          0.06983309742056838,
          -0.26624236779785154,
          null,
          -0.016659671746917692,
          -0.09187649260206238,
          null,
          -0.016659671746917692,
          -0.23326963263815081,
          null,
          0.16403821006271796,
          -0.24366690849882153,
          null,
          0.16403821006271796,
          0.4511785084399561,
          null,
          -0.26624236779785154,
          -0.3833579225312514,
          null,
          -0.09187649260206238,
          -0.24366690849882153,
          null,
          -0.23326963263815081,
          -0.3833579225312514,
          null,
          -0.24366690849882153,
          -0.613988077148781,
          null,
          -0.24366690849882153,
          -0.24067381309200553,
          null,
          -0.24366690849882153,
          -0.47114111802885306,
          null,
          0.4511785084399561,
          0.5904572302364766,
          null,
          -0.3833579225312514,
          -0.613988077148781,
          null,
          -0.3833579225312514,
          -0.24067381309200553,
          null,
          -0.3833579225312514,
          -0.47114111802885306,
          null,
          -0.9161991709718,
          -0.613988077148781,
          null,
          -0.24067381309200553,
          -0.49892932155793074,
          null,
          -0.24067381309200553,
          0.03453738211027597,
          null,
          -0.47114111802885306,
          -0.49892932155793074,
          null,
          -0.47114111802885306,
          -0.5154417142380282,
          null,
          -0.49892932155793074,
          -0.5154417142380282,
          null,
          0.03453738211027597,
          0.30999468353150816,
          null,
          -0.5154417142380282,
          -0.3670076705268758,
          null,
          0.30999468353150816,
          0.5904572302364766,
          null,
          0.30999468353150816,
          0.6470119868182843,
          null,
          0.30999468353150816,
          -0.04144392892577681,
          null,
          0.5904572302364766,
          0.8422570327263226,
          null,
          0.8422570327263226,
          0.8389794551610826,
          null,
          0.8422570327263226,
          0.9516102237979143,
          null,
          0.6470119868182843,
          0.8389794551610826,
          null,
          0.6470119868182843,
          0.9516102237979143,
          null,
          -0.04144392892577681,
          -0.3670076705268758,
          null
         ],
         "y": [
          -0.7155753218187798,
          -0.9467776391394284,
          null,
          -0.7155753218187798,
          -0.35680392896033725,
          null,
          -0.7155753218187798,
          -0.7238610569325862,
          null,
          -0.9467776391394284,
          -0.6945582902517871,
          null,
          -0.9467776391394284,
          -0.8505323982792279,
          null,
          -0.35680392896033725,
          -0.3764001627415971,
          null,
          -0.35680392896033725,
          0.000023060512042608478,
          null,
          -0.7238610569325862,
          -0.4650706768917979,
          null,
          -0.6945582902517871,
          -0.3764001627415971,
          null,
          -0.8505323982792279,
          -0.4650706768917979,
          null,
          -0.3764001627415971,
          -0.5605405263198747,
          null,
          -0.3764001627415971,
          -0.07362406010794231,
          null,
          -0.3764001627415971,
          -0.11544930114621767,
          null,
          0.000023060512042608478,
          0.4171732062042864,
          null,
          -0.4650706768917979,
          -0.5605405263198747,
          null,
          -0.4650706768917979,
          -0.07362406010794231,
          null,
          -0.4650706768917979,
          -0.11544930114621767,
          null,
          -0.7168571715566957,
          -0.5605405263198747,
          null,
          -0.07362406010794231,
          0.08395955042404869,
          null,
          -0.07362406010794231,
          0.2998285933532117,
          null,
          -0.11544930114621767,
          0.08395955042404869,
          null,
          -0.11544930114621767,
          0.29080547227902653,
          null,
          0.08395955042404869,
          0.29080547227902653,
          null,
          0.2998285933532117,
          0.6243827862412061,
          null,
          0.29080547227902653,
          0.6353084070150358,
          null,
          0.6243827862412061,
          0.4171732062042864,
          null,
          0.6243827862412061,
          0.872987289048557,
          null,
          0.6243827862412061,
          0.7570661313424026,
          null,
          0.4171732062042864,
          0.714484416671822,
          null,
          0.714484416671822,
          1,
          null,
          0.714484416671822,
          0.9000316210546312,
          null,
          0.872987289048557,
          1,
          null,
          0.872987289048557,
          0.9000316210546312,
          null,
          0.7570661313424026,
          0.6353084070150358,
          null
         ]
        },
        {
         "hoverinfo": "text",
         "marker": {
          "color": [
           3,
           3,
           3,
           2,
           2,
           2,
           5,
           2,
           5,
           1,
           3,
           4,
           4,
           3,
           2,
           3,
           4,
           3,
           3,
           3,
           2,
           2,
           2,
           2
          ],
          "colorbar": {
           "thickness": 15,
           "title": {
            "side": "right",
            "text": "Node Connections"
           },
           "xanchor": "left"
          },
          "colorscale": [
           [
            0,
            "rgb(255,255,217)"
           ],
           [
            0.125,
            "rgb(237,248,177)"
           ],
           [
            0.25,
            "rgb(199,233,180)"
           ],
           [
            0.375,
            "rgb(127,205,187)"
           ],
           [
            0.5,
            "rgb(65,182,196)"
           ],
           [
            0.625,
            "rgb(29,145,192)"
           ],
           [
            0.75,
            "rgb(34,94,168)"
           ],
           [
            0.875,
            "rgb(37,52,148)"
           ],
           [
            1,
            "rgb(8,29,88)"
           ]
          ],
          "line": {
           "width": 2
          },
          "showscale": true,
          "size": 10
         },
         "mode": "markers",
         "text": [
          "Node 0<br>Net active power: 0.13745589554309845<br>Net apparent power: -0.5845006704330444<br>Voltage magnitude: 0.08293002843856812<br>",
          "Node 1<br>Net active power: 0.191520556807518<br>Net apparent power: -0.4024789333343506<br>Voltage magnitude: 0.06734635680913925<br>",
          "Node 2<br>Net active power: -0.8220770955085754<br>Net apparent power: 0.12002188712358475<br>Voltage magnitude: -0.8312826156616211<br>",
          "Node 4<br>Net active power: -0.33104559779167175<br>Net apparent power: -0.7503288984298706<br>Voltage magnitude: -0.06057252362370491<br>",
          "Node 3<br>Net active power: -0.3445602357387543<br>Net apparent power: -0.726411759853363<br>Voltage magnitude: -1.0908724069595337<br>",
          "Node 5<br>Net active power: -0.6238625645637512<br>Net apparent power: -0.23149217665195465<br>Voltage magnitude: 0.16824819147586823<br>",
          "Node 8<br>Net active power: -0.7995527386665344<br>Net apparent power: 0.08007226139307022<br>Voltage magnitude: -0.5161010026931763<br>",
          "Node 23<br>Net active power: -0.011199389584362507<br>Net apparent power: -1.2460687160491943<br>Voltage magnitude: -1.4059052467346191<br>",
          "Node 9<br>Net active power: -0.889650285243988<br>Net apparent power: 0.239875927567482<br>Voltage magnitude: 1.027101755142212<br>",
          "Node 6<br>Net active power: -0.19890254735946655<br>Net apparent power: -0.304017573595047<br>Voltage magnitude: -1.835814118385315<br>",
          "Node 7<br>Net active power: -0.7815332412719727<br>Net apparent power: 0.04811326786875725<br>Voltage magnitude: -2.432483434677124<br>",
          "Node 10<br>Net active power: -0.011199389584362507<br>Net apparent power: -1.2460687160491943<br>Voltage magnitude: -0.5999570488929749<br>",
          "Node 11<br>Net active power: -0.011199389584362507<br>Net apparent power: -1.2460687160491943<br>Voltage magnitude: -0.9179992079734802<br>",
          "Node 12<br>Net active power: -0.16887004673480988<br>Net apparent power: 0.34082499146461487<br>Voltage magnitude: 0.03320065885782242<br>",
          "Node 13<br>Net active power: -0.885145366191864<br>Net apparent power: 1.7888153791427612<br>Voltage magnitude: 0.5352240204811096<br>",
          "Node 22<br>Net active power: 3.2923762798309326<br>Net apparent power: 2.827791452407837<br>Voltage magnitude: 1.0270986557006836<br>",
          "Node 15<br>Net active power: 0.31415268778800964<br>Net apparent power: 0.8116995692253113<br>Voltage magnitude: 0.7934322357177734<br>",
          "Node 14<br>Net active power: -0.6033404469490051<br>Net apparent power: 0.5990182757377625<br>Voltage magnitude: 0.618269145488739<br>",
          "Node 20<br>Net active power: 1.990967869758606<br>Net apparent power: 1.0918887853622437<br>Voltage magnitude: 1.0271000862121582<br>",
          "Node 16<br>Net active power: -0.011199389584362507<br>Net apparent power: -1.2460687160491943<br>Voltage magnitude: 0.9288658499717712<br>",
          "Node 18<br>Net active power: -0.8265820145606995<br>Net apparent power: 0.12801192700862885<br>Voltage magnitude: 0.5539512634277344<br>",
          "Node 17<br>Net active power: 0.4908440411090851<br>Net apparent power: -0.7115588784217834<br>Voltage magnitude: 1.027094841003418<br>",
          "Node 21<br>Net active power: 1.490425944328308<br>Net apparent power: 0.9143198728561401<br>Voltage magnitude: 1.0270973443984985<br>",
          "Node 19<br>Net active power: -0.5878235697746277<br>Net apparent power: -0.2953895926475525<br>Voltage magnitude: 0.7740272879600525<br>"
         ],
         "type": "scatter",
         "x": [
          0.06983309742056838,
          -0.016659671746917692,
          0.16403821006271796,
          -0.26624236779785154,
          -0.09187649260206238,
          -0.23326963263815081,
          -0.24366690849882153,
          0.4511785084399561,
          -0.3833579225312514,
          -0.9161991709718,
          -0.613988077148781,
          -0.24067381309200553,
          -0.47114111802885306,
          -0.49892932155793074,
          0.03453738211027597,
          -0.5154417142380282,
          0.30999468353150816,
          0.5904572302364766,
          0.8422570327263226,
          0.6470119868182843,
          -0.04144392892577681,
          0.8389794551610826,
          0.9516102237979143,
          -0.3670076705268758
         ],
         "y": [
          -0.7155753218187798,
          -0.9467776391394284,
          -0.35680392896033725,
          -0.7238610569325862,
          -0.6945582902517871,
          -0.8505323982792279,
          -0.3764001627415971,
          0.000023060512042608478,
          -0.4650706768917979,
          -0.7168571715566957,
          -0.5605405263198747,
          -0.07362406010794231,
          -0.11544930114621767,
          0.08395955042404869,
          0.2998285933532117,
          0.29080547227902653,
          0.6243827862412061,
          0.4171732062042864,
          0.714484416671822,
          0.872987289048557,
          0.7570661313424026,
          1,
          0.9000316210546312,
          0.6353084070150358
         ]
        }
       ],
       "layout": {
        "hovermode": "closest",
        "margin": {
         "b": 20,
         "l": 5,
         "r": 5,
         "t": 40
        },
        "showlegend": false,
        "template": {
         "data": {
          "bar": [
           {
            "error_x": {
             "color": "#2a3f5f"
            },
            "error_y": {
             "color": "#2a3f5f"
            },
            "marker": {
             "line": {
              "color": "#E5ECF6",
              "width": 0.5
             },
             "pattern": {
              "fillmode": "overlay",
              "size": 10,
              "solidity": 0.2
             }
            },
            "type": "bar"
           }
          ],
          "barpolar": [
           {
            "marker": {
             "line": {
              "color": "#E5ECF6",
              "width": 0.5
             },
             "pattern": {
              "fillmode": "overlay",
              "size": 10,
              "solidity": 0.2
             }
            },
            "type": "barpolar"
           }
          ],
          "carpet": [
           {
            "aaxis": {
             "endlinecolor": "#2a3f5f",
             "gridcolor": "white",
             "linecolor": "white",
             "minorgridcolor": "white",
             "startlinecolor": "#2a3f5f"
            },
            "baxis": {
             "endlinecolor": "#2a3f5f",
             "gridcolor": "white",
             "linecolor": "white",
             "minorgridcolor": "white",
             "startlinecolor": "#2a3f5f"
            },
            "type": "carpet"
           }
          ],
          "choropleth": [
           {
            "colorbar": {
             "outlinewidth": 0,
             "ticks": ""
            },
            "type": "choropleth"
           }
          ],
          "contour": [
           {
            "colorbar": {
             "outlinewidth": 0,
             "ticks": ""
            },
            "colorscale": [
             [
              0,
              "#0d0887"
             ],
             [
              0.1111111111111111,
              "#46039f"
             ],
             [
              0.2222222222222222,
              "#7201a8"
             ],
             [
              0.3333333333333333,
              "#9c179e"
             ],
             [
              0.4444444444444444,
              "#bd3786"
             ],
             [
              0.5555555555555556,
              "#d8576b"
             ],
             [
              0.6666666666666666,
              "#ed7953"
             ],
             [
              0.7777777777777778,
              "#fb9f3a"
             ],
             [
              0.8888888888888888,
              "#fdca26"
             ],
             [
              1,
              "#f0f921"
             ]
            ],
            "type": "contour"
           }
          ],
          "contourcarpet": [
           {
            "colorbar": {
             "outlinewidth": 0,
             "ticks": ""
            },
            "type": "contourcarpet"
           }
          ],
          "heatmap": [
           {
            "colorbar": {
             "outlinewidth": 0,
             "ticks": ""
            },
            "colorscale": [
             [
              0,
              "#0d0887"
             ],
             [
              0.1111111111111111,
              "#46039f"
             ],
             [
              0.2222222222222222,
              "#7201a8"
             ],
             [
              0.3333333333333333,
              "#9c179e"
             ],
             [
              0.4444444444444444,
              "#bd3786"
             ],
             [
              0.5555555555555556,
              "#d8576b"
             ],
             [
              0.6666666666666666,
              "#ed7953"
             ],
             [
              0.7777777777777778,
              "#fb9f3a"
             ],
             [
              0.8888888888888888,
              "#fdca26"
             ],
             [
              1,
              "#f0f921"
             ]
            ],
            "type": "heatmap"
           }
          ],
          "heatmapgl": [
           {
            "colorbar": {
             "outlinewidth": 0,
             "ticks": ""
            },
            "colorscale": [
             [
              0,
              "#0d0887"
             ],
             [
              0.1111111111111111,
              "#46039f"
             ],
             [
              0.2222222222222222,
              "#7201a8"
             ],
             [
              0.3333333333333333,
              "#9c179e"
             ],
             [
              0.4444444444444444,
              "#bd3786"
             ],
             [
              0.5555555555555556,
              "#d8576b"
             ],
             [
              0.6666666666666666,
              "#ed7953"
             ],
             [
              0.7777777777777778,
              "#fb9f3a"
             ],
             [
              0.8888888888888888,
              "#fdca26"
             ],
             [
              1,
              "#f0f921"
             ]
            ],
            "type": "heatmapgl"
           }
          ],
          "histogram": [
           {
            "marker": {
             "pattern": {
              "fillmode": "overlay",
              "size": 10,
              "solidity": 0.2
             }
            },
            "type": "histogram"
           }
          ],
          "histogram2d": [
           {
            "colorbar": {
             "outlinewidth": 0,
             "ticks": ""
            },
            "colorscale": [
             [
              0,
              "#0d0887"
             ],
             [
              0.1111111111111111,
              "#46039f"
             ],
             [
              0.2222222222222222,
              "#7201a8"
             ],
             [
              0.3333333333333333,
              "#9c179e"
             ],
             [
              0.4444444444444444,
              "#bd3786"
             ],
             [
              0.5555555555555556,
              "#d8576b"
             ],
             [
              0.6666666666666666,
              "#ed7953"
             ],
             [
              0.7777777777777778,
              "#fb9f3a"
             ],
             [
              0.8888888888888888,
              "#fdca26"
             ],
             [
              1,
              "#f0f921"
             ]
            ],
            "type": "histogram2d"
           }
          ],
          "histogram2dcontour": [
           {
            "colorbar": {
             "outlinewidth": 0,
             "ticks": ""
            },
            "colorscale": [
             [
              0,
              "#0d0887"
             ],
             [
              0.1111111111111111,
              "#46039f"
             ],
             [
              0.2222222222222222,
              "#7201a8"
             ],
             [
              0.3333333333333333,
              "#9c179e"
             ],
             [
              0.4444444444444444,
              "#bd3786"
             ],
             [
              0.5555555555555556,
              "#d8576b"
             ],
             [
              0.6666666666666666,
              "#ed7953"
             ],
             [
              0.7777777777777778,
              "#fb9f3a"
             ],
             [
              0.8888888888888888,
              "#fdca26"
             ],
             [
              1,
              "#f0f921"
             ]
            ],
            "type": "histogram2dcontour"
           }
          ],
          "mesh3d": [
           {
            "colorbar": {
             "outlinewidth": 0,
             "ticks": ""
            },
            "type": "mesh3d"
           }
          ],
          "parcoords": [
           {
            "line": {
             "colorbar": {
              "outlinewidth": 0,
              "ticks": ""
             }
            },
            "type": "parcoords"
           }
          ],
          "pie": [
           {
            "automargin": true,
            "type": "pie"
           }
          ],
          "scatter": [
           {
            "fillpattern": {
             "fillmode": "overlay",
             "size": 10,
             "solidity": 0.2
            },
            "type": "scatter"
           }
          ],
          "scatter3d": [
           {
            "line": {
             "colorbar": {
              "outlinewidth": 0,
              "ticks": ""
             }
            },
            "marker": {
             "colorbar": {
              "outlinewidth": 0,
              "ticks": ""
             }
            },
            "type": "scatter3d"
           }
          ],
          "scattercarpet": [
           {
            "marker": {
             "colorbar": {
              "outlinewidth": 0,
              "ticks": ""
             }
            },
            "type": "scattercarpet"
           }
          ],
          "scattergeo": [
           {
            "marker": {
             "colorbar": {
              "outlinewidth": 0,
              "ticks": ""
             }
            },
            "type": "scattergeo"
           }
          ],
          "scattergl": [
           {
            "marker": {
             "colorbar": {
              "outlinewidth": 0,
              "ticks": ""
             }
            },
            "type": "scattergl"
           }
          ],
          "scattermapbox": [
           {
            "marker": {
             "colorbar": {
              "outlinewidth": 0,
              "ticks": ""
             }
            },
            "type": "scattermapbox"
           }
          ],
          "scatterpolar": [
           {
            "marker": {
             "colorbar": {
              "outlinewidth": 0,
              "ticks": ""
             }
            },
            "type": "scatterpolar"
           }
          ],
          "scatterpolargl": [
           {
            "marker": {
             "colorbar": {
              "outlinewidth": 0,
              "ticks": ""
             }
            },
            "type": "scatterpolargl"
           }
          ],
          "scatterternary": [
           {
            "marker": {
             "colorbar": {
              "outlinewidth": 0,
              "ticks": ""
             }
            },
            "type": "scatterternary"
           }
          ],
          "surface": [
           {
            "colorbar": {
             "outlinewidth": 0,
             "ticks": ""
            },
            "colorscale": [
             [
              0,
              "#0d0887"
             ],
             [
              0.1111111111111111,
              "#46039f"
             ],
             [
              0.2222222222222222,
              "#7201a8"
             ],
             [
              0.3333333333333333,
              "#9c179e"
             ],
             [
              0.4444444444444444,
              "#bd3786"
             ],
             [
              0.5555555555555556,
              "#d8576b"
             ],
             [
              0.6666666666666666,
              "#ed7953"
             ],
             [
              0.7777777777777778,
              "#fb9f3a"
             ],
             [
              0.8888888888888888,
              "#fdca26"
             ],
             [
              1,
              "#f0f921"
             ]
            ],
            "type": "surface"
           }
          ],
          "table": [
           {
            "cells": {
             "fill": {
              "color": "#EBF0F8"
             },
             "line": {
              "color": "white"
             }
            },
            "header": {
             "fill": {
              "color": "#C8D4E3"
             },
             "line": {
              "color": "white"
             }
            },
            "type": "table"
           }
          ]
         },
         "layout": {
          "annotationdefaults": {
           "arrowcolor": "#2a3f5f",
           "arrowhead": 0,
           "arrowwidth": 1
          },
          "autotypenumbers": "strict",
          "coloraxis": {
           "colorbar": {
            "outlinewidth": 0,
            "ticks": ""
           }
          },
          "colorscale": {
           "diverging": [
            [
             0,
             "#8e0152"
            ],
            [
             0.1,
             "#c51b7d"
            ],
            [
             0.2,
             "#de77ae"
            ],
            [
             0.3,
             "#f1b6da"
            ],
            [
             0.4,
             "#fde0ef"
            ],
            [
             0.5,
             "#f7f7f7"
            ],
            [
             0.6,
             "#e6f5d0"
            ],
            [
             0.7,
             "#b8e186"
            ],
            [
             0.8,
             "#7fbc41"
            ],
            [
             0.9,
             "#4d9221"
            ],
            [
             1,
             "#276419"
            ]
           ],
           "sequential": [
            [
             0,
             "#0d0887"
            ],
            [
             0.1111111111111111,
             "#46039f"
            ],
            [
             0.2222222222222222,
             "#7201a8"
            ],
            [
             0.3333333333333333,
             "#9c179e"
            ],
            [
             0.4444444444444444,
             "#bd3786"
            ],
            [
             0.5555555555555556,
             "#d8576b"
            ],
            [
             0.6666666666666666,
             "#ed7953"
            ],
            [
             0.7777777777777778,
             "#fb9f3a"
            ],
            [
             0.8888888888888888,
             "#fdca26"
            ],
            [
             1,
             "#f0f921"
            ]
           ],
           "sequentialminus": [
            [
             0,
             "#0d0887"
            ],
            [
             0.1111111111111111,
             "#46039f"
            ],
            [
             0.2222222222222222,
             "#7201a8"
            ],
            [
             0.3333333333333333,
             "#9c179e"
            ],
            [
             0.4444444444444444,
             "#bd3786"
            ],
            [
             0.5555555555555556,
             "#d8576b"
            ],
            [
             0.6666666666666666,
             "#ed7953"
            ],
            [
             0.7777777777777778,
             "#fb9f3a"
            ],
            [
             0.8888888888888888,
             "#fdca26"
            ],
            [
             1,
             "#f0f921"
            ]
           ]
          },
          "colorway": [
           "#636efa",
           "#EF553B",
           "#00cc96",
           "#ab63fa",
           "#FFA15A",
           "#19d3f3",
           "#FF6692",
           "#B6E880",
           "#FF97FF",
           "#FECB52"
          ],
          "font": {
           "color": "#2a3f5f"
          },
          "geo": {
           "bgcolor": "white",
           "lakecolor": "white",
           "landcolor": "#E5ECF6",
           "showlakes": true,
           "showland": true,
           "subunitcolor": "white"
          },
          "hoverlabel": {
           "align": "left"
          },
          "hovermode": "closest",
          "mapbox": {
           "style": "light"
          },
          "paper_bgcolor": "white",
          "plot_bgcolor": "#E5ECF6",
          "polar": {
           "angularaxis": {
            "gridcolor": "white",
            "linecolor": "white",
            "ticks": ""
           },
           "bgcolor": "#E5ECF6",
           "radialaxis": {
            "gridcolor": "white",
            "linecolor": "white",
            "ticks": ""
           }
          },
          "scene": {
           "xaxis": {
            "backgroundcolor": "#E5ECF6",
            "gridcolor": "white",
            "gridwidth": 2,
            "linecolor": "white",
            "showbackground": true,
            "ticks": "",
            "zerolinecolor": "white"
           },
           "yaxis": {
            "backgroundcolor": "#E5ECF6",
            "gridcolor": "white",
            "gridwidth": 2,
            "linecolor": "white",
            "showbackground": true,
            "ticks": "",
            "zerolinecolor": "white"
           },
           "zaxis": {
            "backgroundcolor": "#E5ECF6",
            "gridcolor": "white",
            "gridwidth": 2,
            "linecolor": "white",
            "showbackground": true,
            "ticks": "",
            "zerolinecolor": "white"
           }
          },
          "shapedefaults": {
           "line": {
            "color": "#2a3f5f"
           }
          },
          "ternary": {
           "aaxis": {
            "gridcolor": "white",
            "linecolor": "white",
            "ticks": ""
           },
           "baxis": {
            "gridcolor": "white",
            "linecolor": "white",
            "ticks": ""
           },
           "bgcolor": "#E5ECF6",
           "caxis": {
            "gridcolor": "white",
            "linecolor": "white",
            "ticks": ""
           }
          },
          "title": {
           "x": 0.05
          },
          "xaxis": {
           "automargin": true,
           "gridcolor": "white",
           "linecolor": "white",
           "ticks": "",
           "title": {
            "standoff": 15
           },
           "zerolinecolor": "white",
           "zerolinewidth": 2
          },
          "yaxis": {
           "automargin": true,
           "gridcolor": "white",
           "linecolor": "white",
           "ticks": "",
           "title": {
            "standoff": 15
           },
           "zerolinecolor": "white",
           "zerolinewidth": 2
          }
         }
        },
        "title": {
         "font": {
          "size": 16
         },
         "text": "Red eléctrica"
        },
        "xaxis": {
         "showgrid": false,
         "showticklabels": false,
         "zeroline": false
        },
        "yaxis": {
         "showgrid": false,
         "showticklabels": false,
         "zeroline": false
        }
       }
      },
      "text/html": [
       "<div>                            <div id=\"87464e30-11c9-4e16-b843-777f45c4a609\" class=\"plotly-graph-div\" style=\"height:525px; width:100%;\"></div>            <script type=\"text/javascript\">                require([\"plotly\"], function(Plotly) {                    window.PLOTLYENV=window.PLOTLYENV || {};                                    if (document.getElementById(\"87464e30-11c9-4e16-b843-777f45c4a609\")) {                    Plotly.newPlot(                        \"87464e30-11c9-4e16-b843-777f45c4a609\",                        [{\"hoverinfo\":\"text\",\"line\":{\"color\":\"#888\",\"width\":0.5},\"mode\":\"lines\",\"text\":[\"Edge (0, 1)\\u003cbr\\u003eActive power flow: 0.8862383961677551\\u003cbr\\u003eReactive power flow: -0.7865102291107178\\u003cbr\\u003eLine reactance: -1.1782963275909424\\u003cbr\\u003eLine rating: -1.4157013893127441\\u003cbr\\u003e\",\"Edge (0, 2)\\u003cbr\\u003eActive power flow: 0.5257260799407959\\u003cbr\\u003eReactive power flow: 0.44932159781455994\\u003cbr\\u003eLine reactance: 2.801771640777588\\u003cbr\\u003eLine rating: -1.4157013893127441\\u003cbr\\u003e\",\"Edge (0, 4)\\u003cbr\\u003eActive power flow: 1.0878697633743286\\u003cbr\\u003eReactive power flow: -0.19678877294063568\\u003cbr\\u003eLine reactance: 0.24589425325393677\\u003cbr\\u003eLine rating: -1.4157013893127441\\u003cbr\\u003e\",\"Edge (1, 3)\\u003cbr\\u003eActive power flow: 0.9327535033226013\\u003cbr\\u003eReactive power flow: 0.3543716073036194\\u003cbr\\u003eLine reactance: 1.097180962562561\\u003cbr\\u003eLine rating: -1.4157013893127441\\u003cbr\\u003e\",\"Edge (1, 5)\\u003cbr\\u003eActive power flow: 1.0306692123413086\\u003cbr\\u003eReactive power flow: -0.31089600920677185\\u003cbr\\u003eLine reactance: 2.414456367492676\\u003cbr\\u003eLine rating: -1.4157013893127441\\u003cbr\\u003e\",\"Edge (2, 8)\\u003cbr\\u003eActive power flow: 1.052753210067749\\u003cbr\\u003eReactive power flow: -0.42532646656036377\\u003cbr\\u003eLine reactance: 0.9418514370918274\\u003cbr\\u003eLine rating: -1.4157013893127441\\u003cbr\\u003e\",\"Edge (2, 23)\\u003cbr\\u003eActive power flow: -1.0682950019836426\\u003cbr\\u003eReactive power flow: 0.07660738378763199\\u003cbr\\u003eLine reactance: 0.23379065096378326\\u003cbr\\u003eLine rating: 0.10684538632631302\\u003cbr\\u003e\",\"Edge (4, 9)\\u003cbr\\u003eActive power flow: 0.5757808089256287\\u003cbr\\u003eReactive power flow: -0.5420581698417664\\u003cbr\\u003eLine reactance: 0.3225504159927368\\u003cbr\\u003eLine rating: -1.4157013893127441\\u003cbr\\u003e\",\"Edge (3, 8)\\u003cbr\\u003eActive power flow: 0.4003405272960663\\u003cbr\\u003eReactive power flow: 0.04787605628371239\\u003cbr\\u003eLine reactance: 0.6332095265388489\\u003cbr\\u003eLine rating: -1.4157013893127441\\u003cbr\\u003e\",\"Edge (5, 9)\\u003cbr\\u003eActive power flow: 0.05053666606545448\\u003cbr\\u003eReactive power flow: -4.434550762176514\\u003cbr\\u003eLine reactance: -0.23824986815452576\\u003cbr\\u003eLine rating: -1.4157013893127441\\u003cbr\\u003e\",\"Edge (8, 7)\\u003cbr\\u003eActive power flow: -0.07148812711238861\\u003cbr\\u003eReactive power flow: 0.37410905957221985\\u003cbr\\u003eLine reactance: 1.8718116283416748\\u003cbr\\u003eLine rating: -1.4157013893127441\\u003cbr\\u003e\",\"Edge (8, 10)\\u003cbr\\u003eActive power flow: -0.30400410294532776\\u003cbr\\u003eReactive power flow: -0.7482005953788757\\u003cbr\\u003eLine reactance: 0.23379065096378326\\u003cbr\\u003eLine rating: 0.10684538632631302\\u003cbr\\u003e\",\"Edge (8, 11)\\u003cbr\\u003eActive power flow: -0.3661049008369446\\u003cbr\\u003eReactive power flow: -0.5023078322410583\\u003cbr\\u003eLine reactance: 0.23379065096378326\\u003cbr\\u003eLine rating: 0.10684538632631302\\u003cbr\\u003e\",\"Edge (23, 14)\\u003cbr\\u003eActive power flow: 2.61179256439209\\u003cbr\\u003eReactive power flow: 1.6046239137649536\\u003cbr\\u003eLine reactance: -0.41173484921455383\\u003cbr\\u003eLine rating: 0.7835327982902527\\u003cbr\\u003e\",\"Edge (9, 7)\\u003cbr\\u003eActive power flow: 0.05172931030392647\\u003cbr\\u003eReactive power flow: -0.36839550733566284\\u003cbr\\u003eLine reactance: 1.8718116283416748\\u003cbr\\u003eLine rating: -1.4157013893127441\\u003cbr\\u003e\",\"Edge (9, 10)\\u003cbr\\u003eActive power flow: -0.7236367464065552\\u003cbr\\u003eReactive power flow: 0.880131185054779\\u003cbr\\u003eLine reactance: 0.23379065096378326\\u003cbr\\u003eLine rating: 0.10684538632631302\\u003cbr\\u003e\",\"Edge (9, 11)\\u003cbr\\u003eActive power flow: -0.7854837775230408\\u003cbr\\u003eReactive power flow: 1.1434530019760132\\u003cbr\\u003eLine reactance: 0.23379065096378326\\u003cbr\\u003eLine rating: 0.10684538632631302\\u003cbr\\u003e\",\"Edge (6, 7)\\u003cbr\\u003eActive power flow: 0.45539623498916626\\u003cbr\\u003eReactive power flow: 0.8754680156707764\\u003cbr\\u003eLine reactance: -0.2200944721698761\\u003cbr\\u003eLine rating: -1.4157013893127441\\u003cbr\\u003e\",\"Edge (10, 12)\\u003cbr\\u003eActive power flow: -0.08320122957229614\\u003cbr\\u003eReactive power flow: -0.4302765130996704\\u003cbr\\u003eLine reactance: -0.49847733974456787\\u003cbr\\u003eLine rating: 0.7835327982902527\\u003cbr\\u003e\",\"Edge (10, 13)\\u003cbr\\u003eActive power flow: -0.9530861377716064\\u003cbr\\u003eReactive power flow: -0.6162881255149841\\u003cbr\\u003eLine reactance: -0.6154788136482239\\u003cbr\\u003eLine rating: 0.7835327982902527\\u003cbr\\u003e\",\"Edge (11, 12)\\u003cbr\\u003eActive power flow: 0.03371685743331909\\u003cbr\\u003eReactive power flow: -0.8848294019699097\\u003cbr\\u003eLine reactance: -0.49847733974456787\\u003cbr\\u003eLine rating: 0.7835327982902527\\u003cbr\\u003e\",\"Edge (11, 22)\\u003cbr\\u003eActive power flow: -1.1948031187057495\\u003cbr\\u003eReactive power flow: 0.23148205876350403\\u003cbr\\u003eLine reactance: 0.48998358845710754\\u003cbr\\u003eLine rating: 0.7835327982902527\\u003cbr\\u003e\",\"Edge (12, 22)\\u003cbr\\u003eActive power flow: -1.0634808540344238\\u003cbr\\u003eReactive power flow: 0.5095046758651733\\u003cbr\\u003eLine reactance: 0.2862395942211151\\u003cbr\\u003eLine rating: 0.7835327982902527\\u003cbr\\u003e\",\"Edge (13, 15)\\u003cbr\\u003eActive power flow: -2.36238694190979\\u003cbr\\u003eReactive power flow: 1.7790950536727905\\u003cbr\\u003eLine reactance: -0.6739795804023743\\u003cbr\\u003eLine rating: 0.7835327982902527\\u003cbr\\u003e\",\"Edge (22, 19)\\u003cbr\\u003eActive power flow: 0.05458645895123482\\u003cbr\\u003eReactive power flow: -0.37317782640457153\\u003cbr\\u003eLine reactance: -1.022966742515564\\u003cbr\\u003eLine rating: 0.7835327982902527\\u003cbr\\u003e\",\"Edge (15, 14)\\u003cbr\\u003eActive power flow: 1.5513126850128174\\u003cbr\\u003eReactive power flow: -0.9747900366783142\\u003cbr\\u003eLine reactance: -1.1097092628479004\\u003cbr\\u003eLine rating: 0.7835327982902527\\u003cbr\\u003e\",\"Edge (15, 16)\\u003cbr\\u003eActive power flow: -1.9216874837875366\\u003cbr\\u003eReactive power flow: 1.2848243713378906\\u003cbr\\u003eLine reactance: -0.9362242817878723\\u003cbr\\u003eLine rating: 0.7835327982902527\\u003cbr\\u003e\",\"Edge (15, 18)\\u003cbr\\u003eActive power flow: 1.5746773481369019\\u003cbr\\u003eReactive power flow: 0.20511119067668915\\u003cbr\\u003eLine reactance: -0.9927077889442444\\u003cbr\\u003eLine rating: 0.7835327982902527\\u003cbr\\u003e\",\"Edge (14, 20)\\u003cbr\\u003eActive power flow: -1.0443999767303467\\u003cbr\\u003eReactive power flow: 0.5497635006904602\\u003cbr\\u003eLine reactance: -0.47023558616638184\\u003cbr\\u003eLine rating: 0.7835327982902527\\u003cbr\\u003e\",\"Edge (20, 17)\\u003cbr\\u003eActive power flow: 0.3568946421146393\\u003cbr\\u003eReactive power flow: 0.14380908012390137\\u003cbr\\u003eLine reactance: -0.9362242817878723\\u003cbr\\u003eLine rating: 0.7835327982902527\\u003cbr\\u003e\",\"Edge (20, 21)\\u003cbr\\u003eActive power flow: -0.49356457591056824\\u003cbr\\u003eReactive power flow: 0.600479781627655\\u003cbr\\u003eLine reactance: -0.0909893661737442\\u003cbr\\u003eLine rating: 0.7835327982902527\\u003cbr\\u003e\",\"Edge (16, 17)\\u003cbr\\u003eActive power flow: -0.8354297280311584\\u003cbr\\u003eReactive power flow: 0.39866945147514343\\u003cbr\\u003eLine reactance: -1.1682100296020508\\u003cbr\\u003eLine rating: 0.7835327982902527\\u003cbr\\u003e\",\"Edge (16, 21)\\u003cbr\\u003eActive power flow: -0.3570324778556824\\u003cbr\\u003eReactive power flow: 0.3891850411891937\\u003cbr\\u003eLine reactance: 0.6654857993125916\\u003cbr\\u003eLine rating: 0.7835327982902527\\u003cbr\\u003e\",\"Edge (18, 19)\\u003cbr\\u003eActive power flow: 0.514115035533905\\u003cbr\\u003eReactive power flow: -0.3119421899318695\\u003cbr\\u003eLine reactance: -0.6598587036132812\\u003cbr\\u003eLine rating: 0.7835327982902527\\u003cbr\\u003e\"],\"x\":[0.06983309742056838,-0.016659671746917692,null,0.06983309742056838,0.16403821006271796,null,0.06983309742056838,-0.26624236779785154,null,-0.016659671746917692,-0.09187649260206238,null,-0.016659671746917692,-0.23326963263815081,null,0.16403821006271796,-0.24366690849882153,null,0.16403821006271796,0.4511785084399561,null,-0.26624236779785154,-0.3833579225312514,null,-0.09187649260206238,-0.24366690849882153,null,-0.23326963263815081,-0.3833579225312514,null,-0.24366690849882153,-0.613988077148781,null,-0.24366690849882153,-0.24067381309200553,null,-0.24366690849882153,-0.47114111802885306,null,0.4511785084399561,0.5904572302364766,null,-0.3833579225312514,-0.613988077148781,null,-0.3833579225312514,-0.24067381309200553,null,-0.3833579225312514,-0.47114111802885306,null,-0.9161991709718,-0.613988077148781,null,-0.24067381309200553,-0.49892932155793074,null,-0.24067381309200553,0.03453738211027597,null,-0.47114111802885306,-0.49892932155793074,null,-0.47114111802885306,-0.5154417142380282,null,-0.49892932155793074,-0.5154417142380282,null,0.03453738211027597,0.30999468353150816,null,-0.5154417142380282,-0.3670076705268758,null,0.30999468353150816,0.5904572302364766,null,0.30999468353150816,0.6470119868182843,null,0.30999468353150816,-0.04144392892577681,null,0.5904572302364766,0.8422570327263226,null,0.8422570327263226,0.8389794551610826,null,0.8422570327263226,0.9516102237979143,null,0.6470119868182843,0.8389794551610826,null,0.6470119868182843,0.9516102237979143,null,-0.04144392892577681,-0.3670076705268758,null],\"y\":[-0.7155753218187798,-0.9467776391394284,null,-0.7155753218187798,-0.35680392896033725,null,-0.7155753218187798,-0.7238610569325862,null,-0.9467776391394284,-0.6945582902517871,null,-0.9467776391394284,-0.8505323982792279,null,-0.35680392896033725,-0.3764001627415971,null,-0.35680392896033725,2.3060512042608478e-05,null,-0.7238610569325862,-0.4650706768917979,null,-0.6945582902517871,-0.3764001627415971,null,-0.8505323982792279,-0.4650706768917979,null,-0.3764001627415971,-0.5605405263198747,null,-0.3764001627415971,-0.07362406010794231,null,-0.3764001627415971,-0.11544930114621767,null,2.3060512042608478e-05,0.4171732062042864,null,-0.4650706768917979,-0.5605405263198747,null,-0.4650706768917979,-0.07362406010794231,null,-0.4650706768917979,-0.11544930114621767,null,-0.7168571715566957,-0.5605405263198747,null,-0.07362406010794231,0.08395955042404869,null,-0.07362406010794231,0.2998285933532117,null,-0.11544930114621767,0.08395955042404869,null,-0.11544930114621767,0.29080547227902653,null,0.08395955042404869,0.29080547227902653,null,0.2998285933532117,0.6243827862412061,null,0.29080547227902653,0.6353084070150358,null,0.6243827862412061,0.4171732062042864,null,0.6243827862412061,0.872987289048557,null,0.6243827862412061,0.7570661313424026,null,0.4171732062042864,0.714484416671822,null,0.714484416671822,1.0,null,0.714484416671822,0.9000316210546312,null,0.872987289048557,1.0,null,0.872987289048557,0.9000316210546312,null,0.7570661313424026,0.6353084070150358,null],\"type\":\"scatter\"},{\"hoverinfo\":\"text\",\"marker\":{\"color\":[3,3,3,2,2,2,5,2,5,1,3,4,4,3,2,3,4,3,3,3,2,2,2,2],\"colorbar\":{\"thickness\":15,\"title\":{\"side\":\"right\",\"text\":\"Node Connections\"},\"xanchor\":\"left\"},\"colorscale\":[[0.0,\"rgb(255,255,217)\"],[0.125,\"rgb(237,248,177)\"],[0.25,\"rgb(199,233,180)\"],[0.375,\"rgb(127,205,187)\"],[0.5,\"rgb(65,182,196)\"],[0.625,\"rgb(29,145,192)\"],[0.75,\"rgb(34,94,168)\"],[0.875,\"rgb(37,52,148)\"],[1.0,\"rgb(8,29,88)\"]],\"line\":{\"width\":2},\"showscale\":true,\"size\":10},\"mode\":\"markers\",\"text\":[\"Node 0\\u003cbr\\u003eNet active power: 0.13745589554309845\\u003cbr\\u003eNet apparent power: -0.5845006704330444\\u003cbr\\u003eVoltage magnitude: 0.08293002843856812\\u003cbr\\u003e\",\"Node 1\\u003cbr\\u003eNet active power: 0.191520556807518\\u003cbr\\u003eNet apparent power: -0.4024789333343506\\u003cbr\\u003eVoltage magnitude: 0.06734635680913925\\u003cbr\\u003e\",\"Node 2\\u003cbr\\u003eNet active power: -0.8220770955085754\\u003cbr\\u003eNet apparent power: 0.12002188712358475\\u003cbr\\u003eVoltage magnitude: -0.8312826156616211\\u003cbr\\u003e\",\"Node 4\\u003cbr\\u003eNet active power: -0.33104559779167175\\u003cbr\\u003eNet apparent power: -0.7503288984298706\\u003cbr\\u003eVoltage magnitude: -0.06057252362370491\\u003cbr\\u003e\",\"Node 3\\u003cbr\\u003eNet active power: -0.3445602357387543\\u003cbr\\u003eNet apparent power: -0.726411759853363\\u003cbr\\u003eVoltage magnitude: -1.0908724069595337\\u003cbr\\u003e\",\"Node 5\\u003cbr\\u003eNet active power: -0.6238625645637512\\u003cbr\\u003eNet apparent power: -0.23149217665195465\\u003cbr\\u003eVoltage magnitude: 0.16824819147586823\\u003cbr\\u003e\",\"Node 8\\u003cbr\\u003eNet active power: -0.7995527386665344\\u003cbr\\u003eNet apparent power: 0.08007226139307022\\u003cbr\\u003eVoltage magnitude: -0.5161010026931763\\u003cbr\\u003e\",\"Node 23\\u003cbr\\u003eNet active power: -0.011199389584362507\\u003cbr\\u003eNet apparent power: -1.2460687160491943\\u003cbr\\u003eVoltage magnitude: -1.4059052467346191\\u003cbr\\u003e\",\"Node 9\\u003cbr\\u003eNet active power: -0.889650285243988\\u003cbr\\u003eNet apparent power: 0.239875927567482\\u003cbr\\u003eVoltage magnitude: 1.027101755142212\\u003cbr\\u003e\",\"Node 6\\u003cbr\\u003eNet active power: -0.19890254735946655\\u003cbr\\u003eNet apparent power: -0.304017573595047\\u003cbr\\u003eVoltage magnitude: -1.835814118385315\\u003cbr\\u003e\",\"Node 7\\u003cbr\\u003eNet active power: -0.7815332412719727\\u003cbr\\u003eNet apparent power: 0.04811326786875725\\u003cbr\\u003eVoltage magnitude: -2.432483434677124\\u003cbr\\u003e\",\"Node 10\\u003cbr\\u003eNet active power: -0.011199389584362507\\u003cbr\\u003eNet apparent power: -1.2460687160491943\\u003cbr\\u003eVoltage magnitude: -0.5999570488929749\\u003cbr\\u003e\",\"Node 11\\u003cbr\\u003eNet active power: -0.011199389584362507\\u003cbr\\u003eNet apparent power: -1.2460687160491943\\u003cbr\\u003eVoltage magnitude: -0.9179992079734802\\u003cbr\\u003e\",\"Node 12\\u003cbr\\u003eNet active power: -0.16887004673480988\\u003cbr\\u003eNet apparent power: 0.34082499146461487\\u003cbr\\u003eVoltage magnitude: 0.03320065885782242\\u003cbr\\u003e\",\"Node 13\\u003cbr\\u003eNet active power: -0.885145366191864\\u003cbr\\u003eNet apparent power: 1.7888153791427612\\u003cbr\\u003eVoltage magnitude: 0.5352240204811096\\u003cbr\\u003e\",\"Node 22\\u003cbr\\u003eNet active power: 3.2923762798309326\\u003cbr\\u003eNet apparent power: 2.827791452407837\\u003cbr\\u003eVoltage magnitude: 1.0270986557006836\\u003cbr\\u003e\",\"Node 15\\u003cbr\\u003eNet active power: 0.31415268778800964\\u003cbr\\u003eNet apparent power: 0.8116995692253113\\u003cbr\\u003eVoltage magnitude: 0.7934322357177734\\u003cbr\\u003e\",\"Node 14\\u003cbr\\u003eNet active power: -0.6033404469490051\\u003cbr\\u003eNet apparent power: 0.5990182757377625\\u003cbr\\u003eVoltage magnitude: 0.618269145488739\\u003cbr\\u003e\",\"Node 20\\u003cbr\\u003eNet active power: 1.990967869758606\\u003cbr\\u003eNet apparent power: 1.0918887853622437\\u003cbr\\u003eVoltage magnitude: 1.0271000862121582\\u003cbr\\u003e\",\"Node 16\\u003cbr\\u003eNet active power: -0.011199389584362507\\u003cbr\\u003eNet apparent power: -1.2460687160491943\\u003cbr\\u003eVoltage magnitude: 0.9288658499717712\\u003cbr\\u003e\",\"Node 18\\u003cbr\\u003eNet active power: -0.8265820145606995\\u003cbr\\u003eNet apparent power: 0.12801192700862885\\u003cbr\\u003eVoltage magnitude: 0.5539512634277344\\u003cbr\\u003e\",\"Node 17\\u003cbr\\u003eNet active power: 0.4908440411090851\\u003cbr\\u003eNet apparent power: -0.7115588784217834\\u003cbr\\u003eVoltage magnitude: 1.027094841003418\\u003cbr\\u003e\",\"Node 21\\u003cbr\\u003eNet active power: 1.490425944328308\\u003cbr\\u003eNet apparent power: 0.9143198728561401\\u003cbr\\u003eVoltage magnitude: 1.0270973443984985\\u003cbr\\u003e\",\"Node 19\\u003cbr\\u003eNet active power: -0.5878235697746277\\u003cbr\\u003eNet apparent power: -0.2953895926475525\\u003cbr\\u003eVoltage magnitude: 0.7740272879600525\\u003cbr\\u003e\"],\"x\":[0.06983309742056838,-0.016659671746917692,0.16403821006271796,-0.26624236779785154,-0.09187649260206238,-0.23326963263815081,-0.24366690849882153,0.4511785084399561,-0.3833579225312514,-0.9161991709718,-0.613988077148781,-0.24067381309200553,-0.47114111802885306,-0.49892932155793074,0.03453738211027597,-0.5154417142380282,0.30999468353150816,0.5904572302364766,0.8422570327263226,0.6470119868182843,-0.04144392892577681,0.8389794551610826,0.9516102237979143,-0.3670076705268758],\"y\":[-0.7155753218187798,-0.9467776391394284,-0.35680392896033725,-0.7238610569325862,-0.6945582902517871,-0.8505323982792279,-0.3764001627415971,2.3060512042608478e-05,-0.4650706768917979,-0.7168571715566957,-0.5605405263198747,-0.07362406010794231,-0.11544930114621767,0.08395955042404869,0.2998285933532117,0.29080547227902653,0.6243827862412061,0.4171732062042864,0.714484416671822,0.872987289048557,0.7570661313424026,1.0,0.9000316210546312,0.6353084070150358],\"type\":\"scatter\"}],                        {\"hovermode\":\"closest\",\"margin\":{\"b\":20,\"l\":5,\"r\":5,\"t\":40},\"showlegend\":false,\"title\":{\"font\":{\"size\":16},\"text\":\"Red el\\u00e9ctrica\"},\"xaxis\":{\"showgrid\":false,\"showticklabels\":false,\"zeroline\":false},\"yaxis\":{\"showgrid\":false,\"showticklabels\":false,\"zeroline\":false},\"template\":{\"data\":{\"histogram2dcontour\":[{\"type\":\"histogram2dcontour\",\"colorbar\":{\"outlinewidth\":0,\"ticks\":\"\"},\"colorscale\":[[0.0,\"#0d0887\"],[0.1111111111111111,\"#46039f\"],[0.2222222222222222,\"#7201a8\"],[0.3333333333333333,\"#9c179e\"],[0.4444444444444444,\"#bd3786\"],[0.5555555555555556,\"#d8576b\"],[0.6666666666666666,\"#ed7953\"],[0.7777777777777778,\"#fb9f3a\"],[0.8888888888888888,\"#fdca26\"],[1.0,\"#f0f921\"]]}],\"choropleth\":[{\"type\":\"choropleth\",\"colorbar\":{\"outlinewidth\":0,\"ticks\":\"\"}}],\"histogram2d\":[{\"type\":\"histogram2d\",\"colorbar\":{\"outlinewidth\":0,\"ticks\":\"\"},\"colorscale\":[[0.0,\"#0d0887\"],[0.1111111111111111,\"#46039f\"],[0.2222222222222222,\"#7201a8\"],[0.3333333333333333,\"#9c179e\"],[0.4444444444444444,\"#bd3786\"],[0.5555555555555556,\"#d8576b\"],[0.6666666666666666,\"#ed7953\"],[0.7777777777777778,\"#fb9f3a\"],[0.8888888888888888,\"#fdca26\"],[1.0,\"#f0f921\"]]}],\"heatmap\":[{\"type\":\"heatmap\",\"colorbar\":{\"outlinewidth\":0,\"ticks\":\"\"},\"colorscale\":[[0.0,\"#0d0887\"],[0.1111111111111111,\"#46039f\"],[0.2222222222222222,\"#7201a8\"],[0.3333333333333333,\"#9c179e\"],[0.4444444444444444,\"#bd3786\"],[0.5555555555555556,\"#d8576b\"],[0.6666666666666666,\"#ed7953\"],[0.7777777777777778,\"#fb9f3a\"],[0.8888888888888888,\"#fdca26\"],[1.0,\"#f0f921\"]]}],\"heatmapgl\":[{\"type\":\"heatmapgl\",\"colorbar\":{\"outlinewidth\":0,\"ticks\":\"\"},\"colorscale\":[[0.0,\"#0d0887\"],[0.1111111111111111,\"#46039f\"],[0.2222222222222222,\"#7201a8\"],[0.3333333333333333,\"#9c179e\"],[0.4444444444444444,\"#bd3786\"],[0.5555555555555556,\"#d8576b\"],[0.6666666666666666,\"#ed7953\"],[0.7777777777777778,\"#fb9f3a\"],[0.8888888888888888,\"#fdca26\"],[1.0,\"#f0f921\"]]}],\"contourcarpet\":[{\"type\":\"contourcarpet\",\"colorbar\":{\"outlinewidth\":0,\"ticks\":\"\"}}],\"contour\":[{\"type\":\"contour\",\"colorbar\":{\"outlinewidth\":0,\"ticks\":\"\"},\"colorscale\":[[0.0,\"#0d0887\"],[0.1111111111111111,\"#46039f\"],[0.2222222222222222,\"#7201a8\"],[0.3333333333333333,\"#9c179e\"],[0.4444444444444444,\"#bd3786\"],[0.5555555555555556,\"#d8576b\"],[0.6666666666666666,\"#ed7953\"],[0.7777777777777778,\"#fb9f3a\"],[0.8888888888888888,\"#fdca26\"],[1.0,\"#f0f921\"]]}],\"surface\":[{\"type\":\"surface\",\"colorbar\":{\"outlinewidth\":0,\"ticks\":\"\"},\"colorscale\":[[0.0,\"#0d0887\"],[0.1111111111111111,\"#46039f\"],[0.2222222222222222,\"#7201a8\"],[0.3333333333333333,\"#9c179e\"],[0.4444444444444444,\"#bd3786\"],[0.5555555555555556,\"#d8576b\"],[0.6666666666666666,\"#ed7953\"],[0.7777777777777778,\"#fb9f3a\"],[0.8888888888888888,\"#fdca26\"],[1.0,\"#f0f921\"]]}],\"mesh3d\":[{\"type\":\"mesh3d\",\"colorbar\":{\"outlinewidth\":0,\"ticks\":\"\"}}],\"scatter\":[{\"fillpattern\":{\"fillmode\":\"overlay\",\"size\":10,\"solidity\":0.2},\"type\":\"scatter\"}],\"parcoords\":[{\"type\":\"parcoords\",\"line\":{\"colorbar\":{\"outlinewidth\":0,\"ticks\":\"\"}}}],\"scatterpolargl\":[{\"type\":\"scatterpolargl\",\"marker\":{\"colorbar\":{\"outlinewidth\":0,\"ticks\":\"\"}}}],\"bar\":[{\"error_x\":{\"color\":\"#2a3f5f\"},\"error_y\":{\"color\":\"#2a3f5f\"},\"marker\":{\"line\":{\"color\":\"#E5ECF6\",\"width\":0.5},\"pattern\":{\"fillmode\":\"overlay\",\"size\":10,\"solidity\":0.2}},\"type\":\"bar\"}],\"scattergeo\":[{\"type\":\"scattergeo\",\"marker\":{\"colorbar\":{\"outlinewidth\":0,\"ticks\":\"\"}}}],\"scatterpolar\":[{\"type\":\"scatterpolar\",\"marker\":{\"colorbar\":{\"outlinewidth\":0,\"ticks\":\"\"}}}],\"histogram\":[{\"marker\":{\"pattern\":{\"fillmode\":\"overlay\",\"size\":10,\"solidity\":0.2}},\"type\":\"histogram\"}],\"scattergl\":[{\"type\":\"scattergl\",\"marker\":{\"colorbar\":{\"outlinewidth\":0,\"ticks\":\"\"}}}],\"scatter3d\":[{\"type\":\"scatter3d\",\"line\":{\"colorbar\":{\"outlinewidth\":0,\"ticks\":\"\"}},\"marker\":{\"colorbar\":{\"outlinewidth\":0,\"ticks\":\"\"}}}],\"scattermapbox\":[{\"type\":\"scattermapbox\",\"marker\":{\"colorbar\":{\"outlinewidth\":0,\"ticks\":\"\"}}}],\"scatterternary\":[{\"type\":\"scatterternary\",\"marker\":{\"colorbar\":{\"outlinewidth\":0,\"ticks\":\"\"}}}],\"scattercarpet\":[{\"type\":\"scattercarpet\",\"marker\":{\"colorbar\":{\"outlinewidth\":0,\"ticks\":\"\"}}}],\"carpet\":[{\"aaxis\":{\"endlinecolor\":\"#2a3f5f\",\"gridcolor\":\"white\",\"linecolor\":\"white\",\"minorgridcolor\":\"white\",\"startlinecolor\":\"#2a3f5f\"},\"baxis\":{\"endlinecolor\":\"#2a3f5f\",\"gridcolor\":\"white\",\"linecolor\":\"white\",\"minorgridcolor\":\"white\",\"startlinecolor\":\"#2a3f5f\"},\"type\":\"carpet\"}],\"table\":[{\"cells\":{\"fill\":{\"color\":\"#EBF0F8\"},\"line\":{\"color\":\"white\"}},\"header\":{\"fill\":{\"color\":\"#C8D4E3\"},\"line\":{\"color\":\"white\"}},\"type\":\"table\"}],\"barpolar\":[{\"marker\":{\"line\":{\"color\":\"#E5ECF6\",\"width\":0.5},\"pattern\":{\"fillmode\":\"overlay\",\"size\":10,\"solidity\":0.2}},\"type\":\"barpolar\"}],\"pie\":[{\"automargin\":true,\"type\":\"pie\"}]},\"layout\":{\"autotypenumbers\":\"strict\",\"colorway\":[\"#636efa\",\"#EF553B\",\"#00cc96\",\"#ab63fa\",\"#FFA15A\",\"#19d3f3\",\"#FF6692\",\"#B6E880\",\"#FF97FF\",\"#FECB52\"],\"font\":{\"color\":\"#2a3f5f\"},\"hovermode\":\"closest\",\"hoverlabel\":{\"align\":\"left\"},\"paper_bgcolor\":\"white\",\"plot_bgcolor\":\"#E5ECF6\",\"polar\":{\"bgcolor\":\"#E5ECF6\",\"angularaxis\":{\"gridcolor\":\"white\",\"linecolor\":\"white\",\"ticks\":\"\"},\"radialaxis\":{\"gridcolor\":\"white\",\"linecolor\":\"white\",\"ticks\":\"\"}},\"ternary\":{\"bgcolor\":\"#E5ECF6\",\"aaxis\":{\"gridcolor\":\"white\",\"linecolor\":\"white\",\"ticks\":\"\"},\"baxis\":{\"gridcolor\":\"white\",\"linecolor\":\"white\",\"ticks\":\"\"},\"caxis\":{\"gridcolor\":\"white\",\"linecolor\":\"white\",\"ticks\":\"\"}},\"coloraxis\":{\"colorbar\":{\"outlinewidth\":0,\"ticks\":\"\"}},\"colorscale\":{\"sequential\":[[0.0,\"#0d0887\"],[0.1111111111111111,\"#46039f\"],[0.2222222222222222,\"#7201a8\"],[0.3333333333333333,\"#9c179e\"],[0.4444444444444444,\"#bd3786\"],[0.5555555555555556,\"#d8576b\"],[0.6666666666666666,\"#ed7953\"],[0.7777777777777778,\"#fb9f3a\"],[0.8888888888888888,\"#fdca26\"],[1.0,\"#f0f921\"]],\"sequentialminus\":[[0.0,\"#0d0887\"],[0.1111111111111111,\"#46039f\"],[0.2222222222222222,\"#7201a8\"],[0.3333333333333333,\"#9c179e\"],[0.4444444444444444,\"#bd3786\"],[0.5555555555555556,\"#d8576b\"],[0.6666666666666666,\"#ed7953\"],[0.7777777777777778,\"#fb9f3a\"],[0.8888888888888888,\"#fdca26\"],[1.0,\"#f0f921\"]],\"diverging\":[[0,\"#8e0152\"],[0.1,\"#c51b7d\"],[0.2,\"#de77ae\"],[0.3,\"#f1b6da\"],[0.4,\"#fde0ef\"],[0.5,\"#f7f7f7\"],[0.6,\"#e6f5d0\"],[0.7,\"#b8e186\"],[0.8,\"#7fbc41\"],[0.9,\"#4d9221\"],[1,\"#276419\"]]},\"xaxis\":{\"gridcolor\":\"white\",\"linecolor\":\"white\",\"ticks\":\"\",\"title\":{\"standoff\":15},\"zerolinecolor\":\"white\",\"automargin\":true,\"zerolinewidth\":2},\"yaxis\":{\"gridcolor\":\"white\",\"linecolor\":\"white\",\"ticks\":\"\",\"title\":{\"standoff\":15},\"zerolinecolor\":\"white\",\"automargin\":true,\"zerolinewidth\":2},\"scene\":{\"xaxis\":{\"backgroundcolor\":\"#E5ECF6\",\"gridcolor\":\"white\",\"linecolor\":\"white\",\"showbackground\":true,\"ticks\":\"\",\"zerolinecolor\":\"white\",\"gridwidth\":2},\"yaxis\":{\"backgroundcolor\":\"#E5ECF6\",\"gridcolor\":\"white\",\"linecolor\":\"white\",\"showbackground\":true,\"ticks\":\"\",\"zerolinecolor\":\"white\",\"gridwidth\":2},\"zaxis\":{\"backgroundcolor\":\"#E5ECF6\",\"gridcolor\":\"white\",\"linecolor\":\"white\",\"showbackground\":true,\"ticks\":\"\",\"zerolinecolor\":\"white\",\"gridwidth\":2}},\"shapedefaults\":{\"line\":{\"color\":\"#2a3f5f\"}},\"annotationdefaults\":{\"arrowcolor\":\"#2a3f5f\",\"arrowhead\":0,\"arrowwidth\":1},\"geo\":{\"bgcolor\":\"white\",\"landcolor\":\"#E5ECF6\",\"subunitcolor\":\"white\",\"showland\":true,\"showlakes\":true,\"lakecolor\":\"white\"},\"title\":{\"x\":0.05},\"mapbox\":{\"style\":\"light\"}}}},                        {\"responsive\": true}                    ).then(function(){\n",
       "                            \n",
       "var gd = document.getElementById('87464e30-11c9-4e16-b843-777f45c4a609');\n",
       "var x = new MutationObserver(function (mutations, observer) {{\n",
       "        var display = window.getComputedStyle(gd).display;\n",
       "        if (!display || display === 'none') {{\n",
       "            console.log([gd, 'removed!']);\n",
       "            Plotly.purge(gd);\n",
       "            observer.disconnect();\n",
       "        }}\n",
       "}});\n",
       "\n",
       "// Listen for the removal of the full notebook cells\n",
       "var notebookContainer = gd.closest('#notebook-container');\n",
       "if (notebookContainer) {{\n",
       "    x.observe(notebookContainer, {childList: true});\n",
       "}}\n",
       "\n",
       "// Listen for the clearing of the current output cell\n",
       "var outputEl = gd.closest('.output');\n",
       "if (outputEl) {{\n",
       "    x.observe(outputEl, {childList: true});\n",
       "}}\n",
       "\n",
       "                        })                };                });            </script>        </div>"
      ]
     },
     "metadata": {},
     "output_type": "display_data"
    }
   ],
   "source": [
    "show_graph(dataset[1])"
   ]
  },
  {
   "cell_type": "code",
   "execution_count": 44,
   "metadata": {
    "metadata": {}
   },
   "outputs": [
    {
     "data": {
      "application/vnd.plotly.v1+json": {
       "config": {
        "plotlyServerURL": "https://plot.ly"
       },
       "data": [
        {
         "hoverinfo": "text",
         "line": {
          "color": "#888",
          "width": 0.5
         },
         "mode": "lines",
         "text": [
          "Edge (0, 2)<br>Active power flow: 0.5257260799407959<br>Reactive power flow: 0.44932159781455994<br>Line reactance: 2.801771640777588<br>Line rating: -1.4157013893127441<br>",
          "Edge (0, 4)<br>Active power flow: 1.0878697633743286<br>Reactive power flow: -0.19678877294063568<br>Line reactance: 0.24589425325393677<br>Line rating: -1.4157013893127441<br>",
          "Edge (2, 8)<br>Active power flow: 1.052753210067749<br>Reactive power flow: -0.42532646656036377<br>Line reactance: 0.9418514370918274<br>Line rating: -1.4157013893127441<br>",
          "Edge (2, 23)<br>Active power flow: -1.0682950019836426<br>Reactive power flow: 0.07660738378763199<br>Line reactance: 0.23379065096378326<br>Line rating: 0.10684538632631302<br>",
          "Edge (4, 9)<br>Active power flow: 0.5757808089256287<br>Reactive power flow: -0.5420581698417664<br>Line reactance: 0.3225504159927368<br>Line rating: -1.4157013893127441<br>",
          "Edge (1, 3)<br>Active power flow: 0.9327535033226013<br>Reactive power flow: 0.3543716073036194<br>Line reactance: 1.097180962562561<br>Line rating: -1.4157013893127441<br>",
          "Edge (1, 5)<br>Active power flow: 1.0306692123413086<br>Reactive power flow: -0.31089600920677185<br>Line reactance: 2.414456367492676<br>Line rating: -1.4157013893127441<br>",
          "Edge (3, 8)<br>Active power flow: 0.4003405272960663<br>Reactive power flow: 0.04787605628371239<br>Line reactance: 0.6332095265388489<br>Line rating: -1.4157013893127441<br>",
          "Edge (5, 9)<br>Active power flow: 0.05053666606545448<br>Reactive power flow: -4.434550762176514<br>Line reactance: -0.23824986815452576<br>Line rating: -1.4157013893127441<br>",
          "Edge (8, 7)<br>Active power flow: -0.07148812711238861<br>Reactive power flow: 0.37410905957221985<br>Line reactance: 1.8718116283416748<br>Line rating: -1.4157013893127441<br>",
          "Edge (8, 10)<br>Active power flow: -0.30400410294532776<br>Reactive power flow: -0.7482005953788757<br>Line reactance: 0.23379065096378326<br>Line rating: 0.10684538632631302<br>",
          "Edge (8, 11)<br>Active power flow: -0.3661049008369446<br>Reactive power flow: -0.5023078322410583<br>Line reactance: 0.23379065096378326<br>Line rating: 0.10684538632631302<br>",
          "Edge (23, 14)<br>Active power flow: 2.61179256439209<br>Reactive power flow: 1.6046239137649536<br>Line reactance: -0.41173484921455383<br>Line rating: 0.7835327982902527<br>",
          "Edge (9, 7)<br>Active power flow: 0.05172931030392647<br>Reactive power flow: -0.36839550733566284<br>Line reactance: 1.8718116283416748<br>Line rating: -1.4157013893127441<br>",
          "Edge (9, 10)<br>Active power flow: -0.7236367464065552<br>Reactive power flow: 0.880131185054779<br>Line reactance: 0.23379065096378326<br>Line rating: 0.10684538632631302<br>",
          "Edge (9, 11)<br>Active power flow: -0.7854837775230408<br>Reactive power flow: 1.1434530019760132<br>Line reactance: 0.23379065096378326<br>Line rating: 0.10684538632631302<br>",
          "Edge (6, 7)<br>Active power flow: 0.45539623498916626<br>Reactive power flow: 0.8754680156707764<br>Line reactance: -0.2200944721698761<br>Line rating: -1.4157013893127441<br>",
          "Edge (10, 12)<br>Active power flow: -0.08320122957229614<br>Reactive power flow: -0.4302765130996704<br>Line reactance: -0.49847733974456787<br>Line rating: 0.7835327982902527<br>",
          "Edge (10, 13)<br>Active power flow: -0.9530861377716064<br>Reactive power flow: -0.6162881255149841<br>Line reactance: -0.6154788136482239<br>Line rating: 0.7835327982902527<br>",
          "Edge (11, 12)<br>Active power flow: 0.03371685743331909<br>Reactive power flow: -0.8848294019699097<br>Line reactance: -0.49847733974456787<br>Line rating: 0.7835327982902527<br>",
          "Edge (11, 22)<br>Active power flow: -1.1948031187057495<br>Reactive power flow: 0.23148205876350403<br>Line reactance: 0.48998358845710754<br>Line rating: 0.7835327982902527<br>",
          "Edge (12, 22)<br>Active power flow: -1.0634808540344238<br>Reactive power flow: 0.5095046758651733<br>Line reactance: 0.2862395942211151<br>Line rating: 0.7835327982902527<br>",
          "Edge (13, 15)<br>Active power flow: -2.36238694190979<br>Reactive power flow: 1.7790950536727905<br>Line reactance: -0.6739795804023743<br>Line rating: 0.7835327982902527<br>",
          "Edge (22, 19)<br>Active power flow: 0.05458645895123482<br>Reactive power flow: -0.37317782640457153<br>Line reactance: -1.022966742515564<br>Line rating: 0.7835327982902527<br>",
          "Edge (15, 14)<br>Active power flow: 1.5513126850128174<br>Reactive power flow: -0.9747900366783142<br>Line reactance: -1.1097092628479004<br>Line rating: 0.7835327982902527<br>",
          "Edge (15, 16)<br>Active power flow: -1.9216874837875366<br>Reactive power flow: 1.2848243713378906<br>Line reactance: -0.9362242817878723<br>Line rating: 0.7835327982902527<br>",
          "Edge (15, 18)<br>Active power flow: 1.5746773481369019<br>Reactive power flow: 0.20511119067668915<br>Line reactance: -0.9927077889442444<br>Line rating: 0.7835327982902527<br>",
          "Edge (14, 20)<br>Active power flow: -1.0443999767303467<br>Reactive power flow: 0.5497635006904602<br>Line reactance: -0.47023558616638184<br>Line rating: 0.7835327982902527<br>",
          "Edge (20, 17)<br>Active power flow: 0.3568946421146393<br>Reactive power flow: 0.14380908012390137<br>Line reactance: -0.9362242817878723<br>Line rating: 0.7835327982902527<br>",
          "Edge (20, 21)<br>Active power flow: -0.49356457591056824<br>Reactive power flow: 0.600479781627655<br>Line reactance: -0.0909893661737442<br>Line rating: 0.7835327982902527<br>",
          "Edge (16, 17)<br>Active power flow: -0.8354297280311584<br>Reactive power flow: 0.39866945147514343<br>Line reactance: -1.1682100296020508<br>Line rating: 0.7835327982902527<br>",
          "Edge (16, 21)<br>Active power flow: -0.3570324778556824<br>Reactive power flow: 0.3891850411891937<br>Line reactance: 0.6654857993125916<br>Line rating: 0.7835327982902527<br>",
          "Edge (18, 19)<br>Active power flow: 0.514115035533905<br>Reactive power flow: -0.3119421899318695<br>Line reactance: -0.6598587036132812<br>Line rating: 0.7835327982902527<br>"
         ],
         "type": "scatter",
         "x": [
          0.42332022327569113,
          0.2490092422149732,
          null,
          0.42332022327569113,
          0.321894351596839,
          null,
          0.2490092422149732,
          0.04233367638404053,
          null,
          0.2490092422149732,
          0.24551790727829667,
          null,
          0.321894351596839,
          0.050791052993685,
          null,
          -0.0017881044384517844,
          0.06869221742851511,
          null,
          -0.0017881044384517844,
          -0.03044196460425816,
          null,
          0.06869221742851511,
          0.04233367638404053,
          null,
          -0.03044196460425816,
          0.050791052993685,
          null,
          0.04233367638404053,
          -0.19222561711993943,
          null,
          0.04233367638404053,
          0.01411272132342587,
          null,
          0.04233367638404053,
          -0.048266613624157594,
          null,
          0.24551790727829667,
          0.13109518063699235,
          null,
          0.050791052993685,
          -0.19222561711993943,
          null,
          0.050791052993685,
          0.01411272132342587,
          null,
          0.050791052993685,
          -0.048266613624157594,
          null,
          -0.43505196546893077,
          -0.19222561711993943,
          null,
          0.01411272132342587,
          0.03361868925155842,
          null,
          0.01411272132342587,
          -0.039249733749000086,
          null,
          -0.048266613624157594,
          0.03361868925155842,
          null,
          -0.048266613624157594,
          -0.17752773264455213,
          null,
          0.03361868925155842,
          -0.17752773264455213,
          null,
          -0.039249733749000086,
          -0.08543428316553102,
          null,
          -0.17752773264455213,
          -0.3073294828175285,
          null,
          -0.08543428316553102,
          0.13109518063699235,
          null,
          -0.08543428316553102,
          -0.07262816267563671,
          null,
          -0.08543428316553102,
          -0.2773319969197077,
          null,
          0.13109518063699235,
          0.09686444972748613,
          null,
          0.09686444972748613,
          -0.0612059284212291,
          null,
          0.09686444972748613,
          0.05123187353741828,
          null,
          -0.07262816267563671,
          -0.0612059284212291,
          null,
          -0.07262816267563671,
          0.05123187353741828,
          null,
          -0.2773319969197077,
          -0.3073294828175285,
          null
         ],
         "y": [
          0.19495030098866561,
          0.04640791897266676,
          null,
          0.19495030098866561,
          0.3800266319174318,
          null,
          0.04640791897266676,
          0.3381529732721178,
          null,
          0.04640791897266676,
          -0.2910823545289655,
          null,
          0.3800266319174318,
          0.4522351200283451,
          null,
          0.862649384339657,
          0.6491618644701156,
          null,
          0.862649384339657,
          0.7163468053838162,
          null,
          0.6491618644701156,
          0.3381529732721178,
          null,
          0.7163468053838162,
          0.4522351200283451,
          null,
          0.3381529732721178,
          0.4768603526749598,
          null,
          0.3381529732721178,
          0.13831658313870973,
          null,
          0.3381529732721178,
          0.4008482726060411,
          null,
          -0.2910823545289655,
          -0.5794508981763491,
          null,
          0.4522351200283451,
          0.4768603526749598,
          null,
          0.4522351200283451,
          0.13831658313870973,
          null,
          0.4522351200283451,
          0.4008482726060411,
          null,
          0.5580318193110982,
          0.4768603526749598,
          null,
          0.13831658313870973,
          0.25133782187015813,
          null,
          0.13831658313870973,
          -0.19972315799544504,
          null,
          0.4008482726060411,
          0.25133782187015813,
          null,
          0.4008482726060411,
          0.17897813943363736,
          null,
          0.25133782187015813,
          0.17897813943363736,
          null,
          -0.19972315799544504,
          -0.5068591039166181,
          null,
          0.17897813943363736,
          -0.07576793173308342,
          null,
          -0.5068591039166181,
          -0.5794508981763491,
          null,
          -0.5068591039166181,
          -0.8146116452675509,
          null,
          -0.5068591039166181,
          -0.33282363037045576,
          null,
          -0.5794508981763491,
          -0.8555180365402052,
          null,
          -0.8555180365402052,
          -0.9884672298787486,
          null,
          -0.8555180365402052,
          -1,
          null,
          -0.8146116452675509,
          -0.9884672298787486,
          null,
          -0.8146116452675509,
          -1,
          null,
          -0.33282363037045576,
          -0.07576793173308342,
          null
         ]
        },
        {
         "hoverinfo": "text",
         "marker": {
          "color": [
           2,
           3,
           2,
           2,
           2,
           2,
           5,
           2,
           5,
           1,
           3,
           4,
           4,
           3,
           2,
           3,
           4,
           3,
           3,
           3,
           2,
           2,
           2,
           2
          ],
          "colorbar": {
           "thickness": 15,
           "title": {
            "side": "right",
            "text": "Node Connections"
           },
           "xanchor": "left"
          },
          "colorscale": [
           [
            0,
            "rgb(255,255,217)"
           ],
           [
            0.125,
            "rgb(237,248,177)"
           ],
           [
            0.25,
            "rgb(199,233,180)"
           ],
           [
            0.375,
            "rgb(127,205,187)"
           ],
           [
            0.5,
            "rgb(65,182,196)"
           ],
           [
            0.625,
            "rgb(29,145,192)"
           ],
           [
            0.75,
            "rgb(34,94,168)"
           ],
           [
            0.875,
            "rgb(37,52,148)"
           ],
           [
            1,
            "rgb(8,29,88)"
           ]
          ],
          "line": {
           "width": 2
          },
          "showscale": true,
          "size": 10
         },
         "mode": "markers",
         "text": [
          "Node 0<br>Net active power: 0.13745589554309845<br>Net apparent power: -0.5845006704330444<br>Voltage magnitude: 0.08293002843856812<br>",
          "Node 2<br>Net active power: -0.8220770955085754<br>Net apparent power: 0.12002188712358475<br>Voltage magnitude: -0.8312826156616211<br>",
          "Node 4<br>Net active power: -0.33104559779167175<br>Net apparent power: -0.7503288984298706<br>Voltage magnitude: -0.06057252362370491<br>",
          "Node 1<br>Net active power: 0.191520556807518<br>Net apparent power: -0.4024789333343506<br>Voltage magnitude: 0.06734635680913925<br>",
          "Node 3<br>Net active power: -0.3445602357387543<br>Net apparent power: -0.726411759853363<br>Voltage magnitude: -1.0908724069595337<br>",
          "Node 5<br>Net active power: -0.6238625645637512<br>Net apparent power: -0.23149217665195465<br>Voltage magnitude: 0.16824819147586823<br>",
          "Node 8<br>Net active power: -0.7995527386665344<br>Net apparent power: 0.08007226139307022<br>Voltage magnitude: -0.5161010026931763<br>",
          "Node 23<br>Net active power: -0.011199389584362507<br>Net apparent power: -1.2460687160491943<br>Voltage magnitude: -1.4059052467346191<br>",
          "Node 9<br>Net active power: -0.889650285243988<br>Net apparent power: 0.239875927567482<br>Voltage magnitude: 1.027101755142212<br>",
          "Node 6<br>Net active power: -0.19890254735946655<br>Net apparent power: -0.304017573595047<br>Voltage magnitude: -1.835814118385315<br>",
          "Node 7<br>Net active power: -0.7815332412719727<br>Net apparent power: 0.04811326786875725<br>Voltage magnitude: -2.432483434677124<br>",
          "Node 10<br>Net active power: -0.011199389584362507<br>Net apparent power: -1.2460687160491943<br>Voltage magnitude: -0.5999570488929749<br>",
          "Node 11<br>Net active power: -0.011199389584362507<br>Net apparent power: -1.2460687160491943<br>Voltage magnitude: -0.9179992079734802<br>",
          "Node 12<br>Net active power: -0.16887004673480988<br>Net apparent power: 0.34082499146461487<br>Voltage magnitude: 0.03320065885782242<br>",
          "Node 13<br>Net active power: -0.885145366191864<br>Net apparent power: 1.7888153791427612<br>Voltage magnitude: 0.5352240204811096<br>",
          "Node 22<br>Net active power: 3.2923762798309326<br>Net apparent power: 2.827791452407837<br>Voltage magnitude: 1.0270986557006836<br>",
          "Node 15<br>Net active power: 0.31415268778800964<br>Net apparent power: 0.8116995692253113<br>Voltage magnitude: 0.7934322357177734<br>",
          "Node 14<br>Net active power: -0.6033404469490051<br>Net apparent power: 0.5990182757377625<br>Voltage magnitude: 0.618269145488739<br>",
          "Node 20<br>Net active power: 1.990967869758606<br>Net apparent power: 1.0918887853622437<br>Voltage magnitude: 1.0271000862121582<br>",
          "Node 16<br>Net active power: -0.011199389584362507<br>Net apparent power: -1.2460687160491943<br>Voltage magnitude: 0.9288658499717712<br>",
          "Node 18<br>Net active power: -0.8265820145606995<br>Net apparent power: 0.12801192700862885<br>Voltage magnitude: 0.5539512634277344<br>",
          "Node 17<br>Net active power: 0.4908440411090851<br>Net apparent power: -0.7115588784217834<br>Voltage magnitude: 1.027094841003418<br>",
          "Node 21<br>Net active power: 1.490425944328308<br>Net apparent power: 0.9143198728561401<br>Voltage magnitude: 1.0270973443984985<br>",
          "Node 19<br>Net active power: -0.5878235697746277<br>Net apparent power: -0.2953895926475525<br>Voltage magnitude: 0.7740272879600525<br>"
         ],
         "type": "scatter",
         "x": [
          0.42332022327569113,
          0.2490092422149732,
          0.321894351596839,
          -0.0017881044384517844,
          0.06869221742851511,
          -0.03044196460425816,
          0.04233367638404053,
          0.24551790727829667,
          0.050791052993685,
          -0.43505196546893077,
          -0.19222561711993943,
          0.01411272132342587,
          -0.048266613624157594,
          0.03361868925155842,
          -0.039249733749000086,
          -0.17752773264455213,
          -0.08543428316553102,
          0.13109518063699235,
          0.09686444972748613,
          -0.07262816267563671,
          -0.2773319969197077,
          -0.0612059284212291,
          0.05123187353741828,
          -0.3073294828175285
         ],
         "y": [
          0.19495030098866561,
          0.04640791897266676,
          0.3800266319174318,
          0.862649384339657,
          0.6491618644701156,
          0.7163468053838162,
          0.3381529732721178,
          -0.2910823545289655,
          0.4522351200283451,
          0.5580318193110982,
          0.4768603526749598,
          0.13831658313870973,
          0.4008482726060411,
          0.25133782187015813,
          -0.19972315799544504,
          0.17897813943363736,
          -0.5068591039166181,
          -0.5794508981763491,
          -0.8555180365402052,
          -0.8146116452675509,
          -0.33282363037045576,
          -0.9884672298787486,
          -1,
          -0.07576793173308342
         ]
        }
       ],
       "layout": {
        "hovermode": "closest",
        "margin": {
         "b": 20,
         "l": 5,
         "r": 5,
         "t": 40
        },
        "showlegend": false,
        "template": {
         "data": {
          "bar": [
           {
            "error_x": {
             "color": "#2a3f5f"
            },
            "error_y": {
             "color": "#2a3f5f"
            },
            "marker": {
             "line": {
              "color": "#E5ECF6",
              "width": 0.5
             },
             "pattern": {
              "fillmode": "overlay",
              "size": 10,
              "solidity": 0.2
             }
            },
            "type": "bar"
           }
          ],
          "barpolar": [
           {
            "marker": {
             "line": {
              "color": "#E5ECF6",
              "width": 0.5
             },
             "pattern": {
              "fillmode": "overlay",
              "size": 10,
              "solidity": 0.2
             }
            },
            "type": "barpolar"
           }
          ],
          "carpet": [
           {
            "aaxis": {
             "endlinecolor": "#2a3f5f",
             "gridcolor": "white",
             "linecolor": "white",
             "minorgridcolor": "white",
             "startlinecolor": "#2a3f5f"
            },
            "baxis": {
             "endlinecolor": "#2a3f5f",
             "gridcolor": "white",
             "linecolor": "white",
             "minorgridcolor": "white",
             "startlinecolor": "#2a3f5f"
            },
            "type": "carpet"
           }
          ],
          "choropleth": [
           {
            "colorbar": {
             "outlinewidth": 0,
             "ticks": ""
            },
            "type": "choropleth"
           }
          ],
          "contour": [
           {
            "colorbar": {
             "outlinewidth": 0,
             "ticks": ""
            },
            "colorscale": [
             [
              0,
              "#0d0887"
             ],
             [
              0.1111111111111111,
              "#46039f"
             ],
             [
              0.2222222222222222,
              "#7201a8"
             ],
             [
              0.3333333333333333,
              "#9c179e"
             ],
             [
              0.4444444444444444,
              "#bd3786"
             ],
             [
              0.5555555555555556,
              "#d8576b"
             ],
             [
              0.6666666666666666,
              "#ed7953"
             ],
             [
              0.7777777777777778,
              "#fb9f3a"
             ],
             [
              0.8888888888888888,
              "#fdca26"
             ],
             [
              1,
              "#f0f921"
             ]
            ],
            "type": "contour"
           }
          ],
          "contourcarpet": [
           {
            "colorbar": {
             "outlinewidth": 0,
             "ticks": ""
            },
            "type": "contourcarpet"
           }
          ],
          "heatmap": [
           {
            "colorbar": {
             "outlinewidth": 0,
             "ticks": ""
            },
            "colorscale": [
             [
              0,
              "#0d0887"
             ],
             [
              0.1111111111111111,
              "#46039f"
             ],
             [
              0.2222222222222222,
              "#7201a8"
             ],
             [
              0.3333333333333333,
              "#9c179e"
             ],
             [
              0.4444444444444444,
              "#bd3786"
             ],
             [
              0.5555555555555556,
              "#d8576b"
             ],
             [
              0.6666666666666666,
              "#ed7953"
             ],
             [
              0.7777777777777778,
              "#fb9f3a"
             ],
             [
              0.8888888888888888,
              "#fdca26"
             ],
             [
              1,
              "#f0f921"
             ]
            ],
            "type": "heatmap"
           }
          ],
          "heatmapgl": [
           {
            "colorbar": {
             "outlinewidth": 0,
             "ticks": ""
            },
            "colorscale": [
             [
              0,
              "#0d0887"
             ],
             [
              0.1111111111111111,
              "#46039f"
             ],
             [
              0.2222222222222222,
              "#7201a8"
             ],
             [
              0.3333333333333333,
              "#9c179e"
             ],
             [
              0.4444444444444444,
              "#bd3786"
             ],
             [
              0.5555555555555556,
              "#d8576b"
             ],
             [
              0.6666666666666666,
              "#ed7953"
             ],
             [
              0.7777777777777778,
              "#fb9f3a"
             ],
             [
              0.8888888888888888,
              "#fdca26"
             ],
             [
              1,
              "#f0f921"
             ]
            ],
            "type": "heatmapgl"
           }
          ],
          "histogram": [
           {
            "marker": {
             "pattern": {
              "fillmode": "overlay",
              "size": 10,
              "solidity": 0.2
             }
            },
            "type": "histogram"
           }
          ],
          "histogram2d": [
           {
            "colorbar": {
             "outlinewidth": 0,
             "ticks": ""
            },
            "colorscale": [
             [
              0,
              "#0d0887"
             ],
             [
              0.1111111111111111,
              "#46039f"
             ],
             [
              0.2222222222222222,
              "#7201a8"
             ],
             [
              0.3333333333333333,
              "#9c179e"
             ],
             [
              0.4444444444444444,
              "#bd3786"
             ],
             [
              0.5555555555555556,
              "#d8576b"
             ],
             [
              0.6666666666666666,
              "#ed7953"
             ],
             [
              0.7777777777777778,
              "#fb9f3a"
             ],
             [
              0.8888888888888888,
              "#fdca26"
             ],
             [
              1,
              "#f0f921"
             ]
            ],
            "type": "histogram2d"
           }
          ],
          "histogram2dcontour": [
           {
            "colorbar": {
             "outlinewidth": 0,
             "ticks": ""
            },
            "colorscale": [
             [
              0,
              "#0d0887"
             ],
             [
              0.1111111111111111,
              "#46039f"
             ],
             [
              0.2222222222222222,
              "#7201a8"
             ],
             [
              0.3333333333333333,
              "#9c179e"
             ],
             [
              0.4444444444444444,
              "#bd3786"
             ],
             [
              0.5555555555555556,
              "#d8576b"
             ],
             [
              0.6666666666666666,
              "#ed7953"
             ],
             [
              0.7777777777777778,
              "#fb9f3a"
             ],
             [
              0.8888888888888888,
              "#fdca26"
             ],
             [
              1,
              "#f0f921"
             ]
            ],
            "type": "histogram2dcontour"
           }
          ],
          "mesh3d": [
           {
            "colorbar": {
             "outlinewidth": 0,
             "ticks": ""
            },
            "type": "mesh3d"
           }
          ],
          "parcoords": [
           {
            "line": {
             "colorbar": {
              "outlinewidth": 0,
              "ticks": ""
             }
            },
            "type": "parcoords"
           }
          ],
          "pie": [
           {
            "automargin": true,
            "type": "pie"
           }
          ],
          "scatter": [
           {
            "fillpattern": {
             "fillmode": "overlay",
             "size": 10,
             "solidity": 0.2
            },
            "type": "scatter"
           }
          ],
          "scatter3d": [
           {
            "line": {
             "colorbar": {
              "outlinewidth": 0,
              "ticks": ""
             }
            },
            "marker": {
             "colorbar": {
              "outlinewidth": 0,
              "ticks": ""
             }
            },
            "type": "scatter3d"
           }
          ],
          "scattercarpet": [
           {
            "marker": {
             "colorbar": {
              "outlinewidth": 0,
              "ticks": ""
             }
            },
            "type": "scattercarpet"
           }
          ],
          "scattergeo": [
           {
            "marker": {
             "colorbar": {
              "outlinewidth": 0,
              "ticks": ""
             }
            },
            "type": "scattergeo"
           }
          ],
          "scattergl": [
           {
            "marker": {
             "colorbar": {
              "outlinewidth": 0,
              "ticks": ""
             }
            },
            "type": "scattergl"
           }
          ],
          "scattermapbox": [
           {
            "marker": {
             "colorbar": {
              "outlinewidth": 0,
              "ticks": ""
             }
            },
            "type": "scattermapbox"
           }
          ],
          "scatterpolar": [
           {
            "marker": {
             "colorbar": {
              "outlinewidth": 0,
              "ticks": ""
             }
            },
            "type": "scatterpolar"
           }
          ],
          "scatterpolargl": [
           {
            "marker": {
             "colorbar": {
              "outlinewidth": 0,
              "ticks": ""
             }
            },
            "type": "scatterpolargl"
           }
          ],
          "scatterternary": [
           {
            "marker": {
             "colorbar": {
              "outlinewidth": 0,
              "ticks": ""
             }
            },
            "type": "scatterternary"
           }
          ],
          "surface": [
           {
            "colorbar": {
             "outlinewidth": 0,
             "ticks": ""
            },
            "colorscale": [
             [
              0,
              "#0d0887"
             ],
             [
              0.1111111111111111,
              "#46039f"
             ],
             [
              0.2222222222222222,
              "#7201a8"
             ],
             [
              0.3333333333333333,
              "#9c179e"
             ],
             [
              0.4444444444444444,
              "#bd3786"
             ],
             [
              0.5555555555555556,
              "#d8576b"
             ],
             [
              0.6666666666666666,
              "#ed7953"
             ],
             [
              0.7777777777777778,
              "#fb9f3a"
             ],
             [
              0.8888888888888888,
              "#fdca26"
             ],
             [
              1,
              "#f0f921"
             ]
            ],
            "type": "surface"
           }
          ],
          "table": [
           {
            "cells": {
             "fill": {
              "color": "#EBF0F8"
             },
             "line": {
              "color": "white"
             }
            },
            "header": {
             "fill": {
              "color": "#C8D4E3"
             },
             "line": {
              "color": "white"
             }
            },
            "type": "table"
           }
          ]
         },
         "layout": {
          "annotationdefaults": {
           "arrowcolor": "#2a3f5f",
           "arrowhead": 0,
           "arrowwidth": 1
          },
          "autotypenumbers": "strict",
          "coloraxis": {
           "colorbar": {
            "outlinewidth": 0,
            "ticks": ""
           }
          },
          "colorscale": {
           "diverging": [
            [
             0,
             "#8e0152"
            ],
            [
             0.1,
             "#c51b7d"
            ],
            [
             0.2,
             "#de77ae"
            ],
            [
             0.3,
             "#f1b6da"
            ],
            [
             0.4,
             "#fde0ef"
            ],
            [
             0.5,
             "#f7f7f7"
            ],
            [
             0.6,
             "#e6f5d0"
            ],
            [
             0.7,
             "#b8e186"
            ],
            [
             0.8,
             "#7fbc41"
            ],
            [
             0.9,
             "#4d9221"
            ],
            [
             1,
             "#276419"
            ]
           ],
           "sequential": [
            [
             0,
             "#0d0887"
            ],
            [
             0.1111111111111111,
             "#46039f"
            ],
            [
             0.2222222222222222,
             "#7201a8"
            ],
            [
             0.3333333333333333,
             "#9c179e"
            ],
            [
             0.4444444444444444,
             "#bd3786"
            ],
            [
             0.5555555555555556,
             "#d8576b"
            ],
            [
             0.6666666666666666,
             "#ed7953"
            ],
            [
             0.7777777777777778,
             "#fb9f3a"
            ],
            [
             0.8888888888888888,
             "#fdca26"
            ],
            [
             1,
             "#f0f921"
            ]
           ],
           "sequentialminus": [
            [
             0,
             "#0d0887"
            ],
            [
             0.1111111111111111,
             "#46039f"
            ],
            [
             0.2222222222222222,
             "#7201a8"
            ],
            [
             0.3333333333333333,
             "#9c179e"
            ],
            [
             0.4444444444444444,
             "#bd3786"
            ],
            [
             0.5555555555555556,
             "#d8576b"
            ],
            [
             0.6666666666666666,
             "#ed7953"
            ],
            [
             0.7777777777777778,
             "#fb9f3a"
            ],
            [
             0.8888888888888888,
             "#fdca26"
            ],
            [
             1,
             "#f0f921"
            ]
           ]
          },
          "colorway": [
           "#636efa",
           "#EF553B",
           "#00cc96",
           "#ab63fa",
           "#FFA15A",
           "#19d3f3",
           "#FF6692",
           "#B6E880",
           "#FF97FF",
           "#FECB52"
          ],
          "font": {
           "color": "#2a3f5f"
          },
          "geo": {
           "bgcolor": "white",
           "lakecolor": "white",
           "landcolor": "#E5ECF6",
           "showlakes": true,
           "showland": true,
           "subunitcolor": "white"
          },
          "hoverlabel": {
           "align": "left"
          },
          "hovermode": "closest",
          "mapbox": {
           "style": "light"
          },
          "paper_bgcolor": "white",
          "plot_bgcolor": "#E5ECF6",
          "polar": {
           "angularaxis": {
            "gridcolor": "white",
            "linecolor": "white",
            "ticks": ""
           },
           "bgcolor": "#E5ECF6",
           "radialaxis": {
            "gridcolor": "white",
            "linecolor": "white",
            "ticks": ""
           }
          },
          "scene": {
           "xaxis": {
            "backgroundcolor": "#E5ECF6",
            "gridcolor": "white",
            "gridwidth": 2,
            "linecolor": "white",
            "showbackground": true,
            "ticks": "",
            "zerolinecolor": "white"
           },
           "yaxis": {
            "backgroundcolor": "#E5ECF6",
            "gridcolor": "white",
            "gridwidth": 2,
            "linecolor": "white",
            "showbackground": true,
            "ticks": "",
            "zerolinecolor": "white"
           },
           "zaxis": {
            "backgroundcolor": "#E5ECF6",
            "gridcolor": "white",
            "gridwidth": 2,
            "linecolor": "white",
            "showbackground": true,
            "ticks": "",
            "zerolinecolor": "white"
           }
          },
          "shapedefaults": {
           "line": {
            "color": "#2a3f5f"
           }
          },
          "ternary": {
           "aaxis": {
            "gridcolor": "white",
            "linecolor": "white",
            "ticks": ""
           },
           "baxis": {
            "gridcolor": "white",
            "linecolor": "white",
            "ticks": ""
           },
           "bgcolor": "#E5ECF6",
           "caxis": {
            "gridcolor": "white",
            "linecolor": "white",
            "ticks": ""
           }
          },
          "title": {
           "x": 0.05
          },
          "xaxis": {
           "automargin": true,
           "gridcolor": "white",
           "linecolor": "white",
           "ticks": "",
           "title": {
            "standoff": 15
           },
           "zerolinecolor": "white",
           "zerolinewidth": 2
          },
          "yaxis": {
           "automargin": true,
           "gridcolor": "white",
           "linecolor": "white",
           "ticks": "",
           "title": {
            "standoff": 15
           },
           "zerolinecolor": "white",
           "zerolinewidth": 2
          }
         }
        },
        "title": {
         "font": {
          "size": 16
         },
         "text": "Red eléctrica"
        },
        "xaxis": {
         "showgrid": false,
         "showticklabels": false,
         "zeroline": false
        },
        "yaxis": {
         "showgrid": false,
         "showticklabels": false,
         "zeroline": false
        }
       }
      },
      "text/html": [
       "<div>                            <div id=\"ac4a106a-725c-4a5f-8d65-59314e6ec27d\" class=\"plotly-graph-div\" style=\"height:525px; width:100%;\"></div>            <script type=\"text/javascript\">                require([\"plotly\"], function(Plotly) {                    window.PLOTLYENV=window.PLOTLYENV || {};                                    if (document.getElementById(\"ac4a106a-725c-4a5f-8d65-59314e6ec27d\")) {                    Plotly.newPlot(                        \"ac4a106a-725c-4a5f-8d65-59314e6ec27d\",                        [{\"hoverinfo\":\"text\",\"line\":{\"color\":\"#888\",\"width\":0.5},\"mode\":\"lines\",\"text\":[\"Edge (0, 2)\\u003cbr\\u003eActive power flow: 0.5257260799407959\\u003cbr\\u003eReactive power flow: 0.44932159781455994\\u003cbr\\u003eLine reactance: 2.801771640777588\\u003cbr\\u003eLine rating: -1.4157013893127441\\u003cbr\\u003e\",\"Edge (0, 4)\\u003cbr\\u003eActive power flow: 1.0878697633743286\\u003cbr\\u003eReactive power flow: -0.19678877294063568\\u003cbr\\u003eLine reactance: 0.24589425325393677\\u003cbr\\u003eLine rating: -1.4157013893127441\\u003cbr\\u003e\",\"Edge (2, 8)\\u003cbr\\u003eActive power flow: 1.052753210067749\\u003cbr\\u003eReactive power flow: -0.42532646656036377\\u003cbr\\u003eLine reactance: 0.9418514370918274\\u003cbr\\u003eLine rating: -1.4157013893127441\\u003cbr\\u003e\",\"Edge (2, 23)\\u003cbr\\u003eActive power flow: -1.0682950019836426\\u003cbr\\u003eReactive power flow: 0.07660738378763199\\u003cbr\\u003eLine reactance: 0.23379065096378326\\u003cbr\\u003eLine rating: 0.10684538632631302\\u003cbr\\u003e\",\"Edge (4, 9)\\u003cbr\\u003eActive power flow: 0.5757808089256287\\u003cbr\\u003eReactive power flow: -0.5420581698417664\\u003cbr\\u003eLine reactance: 0.3225504159927368\\u003cbr\\u003eLine rating: -1.4157013893127441\\u003cbr\\u003e\",\"Edge (1, 3)\\u003cbr\\u003eActive power flow: 0.9327535033226013\\u003cbr\\u003eReactive power flow: 0.3543716073036194\\u003cbr\\u003eLine reactance: 1.097180962562561\\u003cbr\\u003eLine rating: -1.4157013893127441\\u003cbr\\u003e\",\"Edge (1, 5)\\u003cbr\\u003eActive power flow: 1.0306692123413086\\u003cbr\\u003eReactive power flow: -0.31089600920677185\\u003cbr\\u003eLine reactance: 2.414456367492676\\u003cbr\\u003eLine rating: -1.4157013893127441\\u003cbr\\u003e\",\"Edge (3, 8)\\u003cbr\\u003eActive power flow: 0.4003405272960663\\u003cbr\\u003eReactive power flow: 0.04787605628371239\\u003cbr\\u003eLine reactance: 0.6332095265388489\\u003cbr\\u003eLine rating: -1.4157013893127441\\u003cbr\\u003e\",\"Edge (5, 9)\\u003cbr\\u003eActive power flow: 0.05053666606545448\\u003cbr\\u003eReactive power flow: -4.434550762176514\\u003cbr\\u003eLine reactance: -0.23824986815452576\\u003cbr\\u003eLine rating: -1.4157013893127441\\u003cbr\\u003e\",\"Edge (8, 7)\\u003cbr\\u003eActive power flow: -0.07148812711238861\\u003cbr\\u003eReactive power flow: 0.37410905957221985\\u003cbr\\u003eLine reactance: 1.8718116283416748\\u003cbr\\u003eLine rating: -1.4157013893127441\\u003cbr\\u003e\",\"Edge (8, 10)\\u003cbr\\u003eActive power flow: -0.30400410294532776\\u003cbr\\u003eReactive power flow: -0.7482005953788757\\u003cbr\\u003eLine reactance: 0.23379065096378326\\u003cbr\\u003eLine rating: 0.10684538632631302\\u003cbr\\u003e\",\"Edge (8, 11)\\u003cbr\\u003eActive power flow: -0.3661049008369446\\u003cbr\\u003eReactive power flow: -0.5023078322410583\\u003cbr\\u003eLine reactance: 0.23379065096378326\\u003cbr\\u003eLine rating: 0.10684538632631302\\u003cbr\\u003e\",\"Edge (23, 14)\\u003cbr\\u003eActive power flow: 2.61179256439209\\u003cbr\\u003eReactive power flow: 1.6046239137649536\\u003cbr\\u003eLine reactance: -0.41173484921455383\\u003cbr\\u003eLine rating: 0.7835327982902527\\u003cbr\\u003e\",\"Edge (9, 7)\\u003cbr\\u003eActive power flow: 0.05172931030392647\\u003cbr\\u003eReactive power flow: -0.36839550733566284\\u003cbr\\u003eLine reactance: 1.8718116283416748\\u003cbr\\u003eLine rating: -1.4157013893127441\\u003cbr\\u003e\",\"Edge (9, 10)\\u003cbr\\u003eActive power flow: -0.7236367464065552\\u003cbr\\u003eReactive power flow: 0.880131185054779\\u003cbr\\u003eLine reactance: 0.23379065096378326\\u003cbr\\u003eLine rating: 0.10684538632631302\\u003cbr\\u003e\",\"Edge (9, 11)\\u003cbr\\u003eActive power flow: -0.7854837775230408\\u003cbr\\u003eReactive power flow: 1.1434530019760132\\u003cbr\\u003eLine reactance: 0.23379065096378326\\u003cbr\\u003eLine rating: 0.10684538632631302\\u003cbr\\u003e\",\"Edge (6, 7)\\u003cbr\\u003eActive power flow: 0.45539623498916626\\u003cbr\\u003eReactive power flow: 0.8754680156707764\\u003cbr\\u003eLine reactance: -0.2200944721698761\\u003cbr\\u003eLine rating: -1.4157013893127441\\u003cbr\\u003e\",\"Edge (10, 12)\\u003cbr\\u003eActive power flow: -0.08320122957229614\\u003cbr\\u003eReactive power flow: -0.4302765130996704\\u003cbr\\u003eLine reactance: -0.49847733974456787\\u003cbr\\u003eLine rating: 0.7835327982902527\\u003cbr\\u003e\",\"Edge (10, 13)\\u003cbr\\u003eActive power flow: -0.9530861377716064\\u003cbr\\u003eReactive power flow: -0.6162881255149841\\u003cbr\\u003eLine reactance: -0.6154788136482239\\u003cbr\\u003eLine rating: 0.7835327982902527\\u003cbr\\u003e\",\"Edge (11, 12)\\u003cbr\\u003eActive power flow: 0.03371685743331909\\u003cbr\\u003eReactive power flow: -0.8848294019699097\\u003cbr\\u003eLine reactance: -0.49847733974456787\\u003cbr\\u003eLine rating: 0.7835327982902527\\u003cbr\\u003e\",\"Edge (11, 22)\\u003cbr\\u003eActive power flow: -1.1948031187057495\\u003cbr\\u003eReactive power flow: 0.23148205876350403\\u003cbr\\u003eLine reactance: 0.48998358845710754\\u003cbr\\u003eLine rating: 0.7835327982902527\\u003cbr\\u003e\",\"Edge (12, 22)\\u003cbr\\u003eActive power flow: -1.0634808540344238\\u003cbr\\u003eReactive power flow: 0.5095046758651733\\u003cbr\\u003eLine reactance: 0.2862395942211151\\u003cbr\\u003eLine rating: 0.7835327982902527\\u003cbr\\u003e\",\"Edge (13, 15)\\u003cbr\\u003eActive power flow: -2.36238694190979\\u003cbr\\u003eReactive power flow: 1.7790950536727905\\u003cbr\\u003eLine reactance: -0.6739795804023743\\u003cbr\\u003eLine rating: 0.7835327982902527\\u003cbr\\u003e\",\"Edge (22, 19)\\u003cbr\\u003eActive power flow: 0.05458645895123482\\u003cbr\\u003eReactive power flow: -0.37317782640457153\\u003cbr\\u003eLine reactance: -1.022966742515564\\u003cbr\\u003eLine rating: 0.7835327982902527\\u003cbr\\u003e\",\"Edge (15, 14)\\u003cbr\\u003eActive power flow: 1.5513126850128174\\u003cbr\\u003eReactive power flow: -0.9747900366783142\\u003cbr\\u003eLine reactance: -1.1097092628479004\\u003cbr\\u003eLine rating: 0.7835327982902527\\u003cbr\\u003e\",\"Edge (15, 16)\\u003cbr\\u003eActive power flow: -1.9216874837875366\\u003cbr\\u003eReactive power flow: 1.2848243713378906\\u003cbr\\u003eLine reactance: -0.9362242817878723\\u003cbr\\u003eLine rating: 0.7835327982902527\\u003cbr\\u003e\",\"Edge (15, 18)\\u003cbr\\u003eActive power flow: 1.5746773481369019\\u003cbr\\u003eReactive power flow: 0.20511119067668915\\u003cbr\\u003eLine reactance: -0.9927077889442444\\u003cbr\\u003eLine rating: 0.7835327982902527\\u003cbr\\u003e\",\"Edge (14, 20)\\u003cbr\\u003eActive power flow: -1.0443999767303467\\u003cbr\\u003eReactive power flow: 0.5497635006904602\\u003cbr\\u003eLine reactance: -0.47023558616638184\\u003cbr\\u003eLine rating: 0.7835327982902527\\u003cbr\\u003e\",\"Edge (20, 17)\\u003cbr\\u003eActive power flow: 0.3568946421146393\\u003cbr\\u003eReactive power flow: 0.14380908012390137\\u003cbr\\u003eLine reactance: -0.9362242817878723\\u003cbr\\u003eLine rating: 0.7835327982902527\\u003cbr\\u003e\",\"Edge (20, 21)\\u003cbr\\u003eActive power flow: -0.49356457591056824\\u003cbr\\u003eReactive power flow: 0.600479781627655\\u003cbr\\u003eLine reactance: -0.0909893661737442\\u003cbr\\u003eLine rating: 0.7835327982902527\\u003cbr\\u003e\",\"Edge (16, 17)\\u003cbr\\u003eActive power flow: -0.8354297280311584\\u003cbr\\u003eReactive power flow: 0.39866945147514343\\u003cbr\\u003eLine reactance: -1.1682100296020508\\u003cbr\\u003eLine rating: 0.7835327982902527\\u003cbr\\u003e\",\"Edge (16, 21)\\u003cbr\\u003eActive power flow: -0.3570324778556824\\u003cbr\\u003eReactive power flow: 0.3891850411891937\\u003cbr\\u003eLine reactance: 0.6654857993125916\\u003cbr\\u003eLine rating: 0.7835327982902527\\u003cbr\\u003e\",\"Edge (18, 19)\\u003cbr\\u003eActive power flow: 0.514115035533905\\u003cbr\\u003eReactive power flow: -0.3119421899318695\\u003cbr\\u003eLine reactance: -0.6598587036132812\\u003cbr\\u003eLine rating: 0.7835327982902527\\u003cbr\\u003e\"],\"x\":[0.42332022327569113,0.2490092422149732,null,0.42332022327569113,0.321894351596839,null,0.2490092422149732,0.04233367638404053,null,0.2490092422149732,0.24551790727829667,null,0.321894351596839,0.050791052993685,null,-0.0017881044384517844,0.06869221742851511,null,-0.0017881044384517844,-0.03044196460425816,null,0.06869221742851511,0.04233367638404053,null,-0.03044196460425816,0.050791052993685,null,0.04233367638404053,-0.19222561711993943,null,0.04233367638404053,0.01411272132342587,null,0.04233367638404053,-0.048266613624157594,null,0.24551790727829667,0.13109518063699235,null,0.050791052993685,-0.19222561711993943,null,0.050791052993685,0.01411272132342587,null,0.050791052993685,-0.048266613624157594,null,-0.43505196546893077,-0.19222561711993943,null,0.01411272132342587,0.03361868925155842,null,0.01411272132342587,-0.039249733749000086,null,-0.048266613624157594,0.03361868925155842,null,-0.048266613624157594,-0.17752773264455213,null,0.03361868925155842,-0.17752773264455213,null,-0.039249733749000086,-0.08543428316553102,null,-0.17752773264455213,-0.3073294828175285,null,-0.08543428316553102,0.13109518063699235,null,-0.08543428316553102,-0.07262816267563671,null,-0.08543428316553102,-0.2773319969197077,null,0.13109518063699235,0.09686444972748613,null,0.09686444972748613,-0.0612059284212291,null,0.09686444972748613,0.05123187353741828,null,-0.07262816267563671,-0.0612059284212291,null,-0.07262816267563671,0.05123187353741828,null,-0.2773319969197077,-0.3073294828175285,null],\"y\":[0.19495030098866561,0.04640791897266676,null,0.19495030098866561,0.3800266319174318,null,0.04640791897266676,0.3381529732721178,null,0.04640791897266676,-0.2910823545289655,null,0.3800266319174318,0.4522351200283451,null,0.862649384339657,0.6491618644701156,null,0.862649384339657,0.7163468053838162,null,0.6491618644701156,0.3381529732721178,null,0.7163468053838162,0.4522351200283451,null,0.3381529732721178,0.4768603526749598,null,0.3381529732721178,0.13831658313870973,null,0.3381529732721178,0.4008482726060411,null,-0.2910823545289655,-0.5794508981763491,null,0.4522351200283451,0.4768603526749598,null,0.4522351200283451,0.13831658313870973,null,0.4522351200283451,0.4008482726060411,null,0.5580318193110982,0.4768603526749598,null,0.13831658313870973,0.25133782187015813,null,0.13831658313870973,-0.19972315799544504,null,0.4008482726060411,0.25133782187015813,null,0.4008482726060411,0.17897813943363736,null,0.25133782187015813,0.17897813943363736,null,-0.19972315799544504,-0.5068591039166181,null,0.17897813943363736,-0.07576793173308342,null,-0.5068591039166181,-0.5794508981763491,null,-0.5068591039166181,-0.8146116452675509,null,-0.5068591039166181,-0.33282363037045576,null,-0.5794508981763491,-0.8555180365402052,null,-0.8555180365402052,-0.9884672298787486,null,-0.8555180365402052,-1.0,null,-0.8146116452675509,-0.9884672298787486,null,-0.8146116452675509,-1.0,null,-0.33282363037045576,-0.07576793173308342,null],\"type\":\"scatter\"},{\"hoverinfo\":\"text\",\"marker\":{\"color\":[2,3,2,2,2,2,5,2,5,1,3,4,4,3,2,3,4,3,3,3,2,2,2,2],\"colorbar\":{\"thickness\":15,\"title\":{\"side\":\"right\",\"text\":\"Node Connections\"},\"xanchor\":\"left\"},\"colorscale\":[[0.0,\"rgb(255,255,217)\"],[0.125,\"rgb(237,248,177)\"],[0.25,\"rgb(199,233,180)\"],[0.375,\"rgb(127,205,187)\"],[0.5,\"rgb(65,182,196)\"],[0.625,\"rgb(29,145,192)\"],[0.75,\"rgb(34,94,168)\"],[0.875,\"rgb(37,52,148)\"],[1.0,\"rgb(8,29,88)\"]],\"line\":{\"width\":2},\"showscale\":true,\"size\":10},\"mode\":\"markers\",\"text\":[\"Node 0\\u003cbr\\u003eNet active power: 0.13745589554309845\\u003cbr\\u003eNet apparent power: -0.5845006704330444\\u003cbr\\u003eVoltage magnitude: 0.08293002843856812\\u003cbr\\u003e\",\"Node 2\\u003cbr\\u003eNet active power: -0.8220770955085754\\u003cbr\\u003eNet apparent power: 0.12002188712358475\\u003cbr\\u003eVoltage magnitude: -0.8312826156616211\\u003cbr\\u003e\",\"Node 4\\u003cbr\\u003eNet active power: -0.33104559779167175\\u003cbr\\u003eNet apparent power: -0.7503288984298706\\u003cbr\\u003eVoltage magnitude: -0.06057252362370491\\u003cbr\\u003e\",\"Node 1\\u003cbr\\u003eNet active power: 0.191520556807518\\u003cbr\\u003eNet apparent power: -0.4024789333343506\\u003cbr\\u003eVoltage magnitude: 0.06734635680913925\\u003cbr\\u003e\",\"Node 3\\u003cbr\\u003eNet active power: -0.3445602357387543\\u003cbr\\u003eNet apparent power: -0.726411759853363\\u003cbr\\u003eVoltage magnitude: -1.0908724069595337\\u003cbr\\u003e\",\"Node 5\\u003cbr\\u003eNet active power: -0.6238625645637512\\u003cbr\\u003eNet apparent power: -0.23149217665195465\\u003cbr\\u003eVoltage magnitude: 0.16824819147586823\\u003cbr\\u003e\",\"Node 8\\u003cbr\\u003eNet active power: -0.7995527386665344\\u003cbr\\u003eNet apparent power: 0.08007226139307022\\u003cbr\\u003eVoltage magnitude: -0.5161010026931763\\u003cbr\\u003e\",\"Node 23\\u003cbr\\u003eNet active power: -0.011199389584362507\\u003cbr\\u003eNet apparent power: -1.2460687160491943\\u003cbr\\u003eVoltage magnitude: -1.4059052467346191\\u003cbr\\u003e\",\"Node 9\\u003cbr\\u003eNet active power: -0.889650285243988\\u003cbr\\u003eNet apparent power: 0.239875927567482\\u003cbr\\u003eVoltage magnitude: 1.027101755142212\\u003cbr\\u003e\",\"Node 6\\u003cbr\\u003eNet active power: -0.19890254735946655\\u003cbr\\u003eNet apparent power: -0.304017573595047\\u003cbr\\u003eVoltage magnitude: -1.835814118385315\\u003cbr\\u003e\",\"Node 7\\u003cbr\\u003eNet active power: -0.7815332412719727\\u003cbr\\u003eNet apparent power: 0.04811326786875725\\u003cbr\\u003eVoltage magnitude: -2.432483434677124\\u003cbr\\u003e\",\"Node 10\\u003cbr\\u003eNet active power: -0.011199389584362507\\u003cbr\\u003eNet apparent power: -1.2460687160491943\\u003cbr\\u003eVoltage magnitude: -0.5999570488929749\\u003cbr\\u003e\",\"Node 11\\u003cbr\\u003eNet active power: -0.011199389584362507\\u003cbr\\u003eNet apparent power: -1.2460687160491943\\u003cbr\\u003eVoltage magnitude: -0.9179992079734802\\u003cbr\\u003e\",\"Node 12\\u003cbr\\u003eNet active power: -0.16887004673480988\\u003cbr\\u003eNet apparent power: 0.34082499146461487\\u003cbr\\u003eVoltage magnitude: 0.03320065885782242\\u003cbr\\u003e\",\"Node 13\\u003cbr\\u003eNet active power: -0.885145366191864\\u003cbr\\u003eNet apparent power: 1.7888153791427612\\u003cbr\\u003eVoltage magnitude: 0.5352240204811096\\u003cbr\\u003e\",\"Node 22\\u003cbr\\u003eNet active power: 3.2923762798309326\\u003cbr\\u003eNet apparent power: 2.827791452407837\\u003cbr\\u003eVoltage magnitude: 1.0270986557006836\\u003cbr\\u003e\",\"Node 15\\u003cbr\\u003eNet active power: 0.31415268778800964\\u003cbr\\u003eNet apparent power: 0.8116995692253113\\u003cbr\\u003eVoltage magnitude: 0.7934322357177734\\u003cbr\\u003e\",\"Node 14\\u003cbr\\u003eNet active power: -0.6033404469490051\\u003cbr\\u003eNet apparent power: 0.5990182757377625\\u003cbr\\u003eVoltage magnitude: 0.618269145488739\\u003cbr\\u003e\",\"Node 20\\u003cbr\\u003eNet active power: 1.990967869758606\\u003cbr\\u003eNet apparent power: 1.0918887853622437\\u003cbr\\u003eVoltage magnitude: 1.0271000862121582\\u003cbr\\u003e\",\"Node 16\\u003cbr\\u003eNet active power: -0.011199389584362507\\u003cbr\\u003eNet apparent power: -1.2460687160491943\\u003cbr\\u003eVoltage magnitude: 0.9288658499717712\\u003cbr\\u003e\",\"Node 18\\u003cbr\\u003eNet active power: -0.8265820145606995\\u003cbr\\u003eNet apparent power: 0.12801192700862885\\u003cbr\\u003eVoltage magnitude: 0.5539512634277344\\u003cbr\\u003e\",\"Node 17\\u003cbr\\u003eNet active power: 0.4908440411090851\\u003cbr\\u003eNet apparent power: -0.7115588784217834\\u003cbr\\u003eVoltage magnitude: 1.027094841003418\\u003cbr\\u003e\",\"Node 21\\u003cbr\\u003eNet active power: 1.490425944328308\\u003cbr\\u003eNet apparent power: 0.9143198728561401\\u003cbr\\u003eVoltage magnitude: 1.0270973443984985\\u003cbr\\u003e\",\"Node 19\\u003cbr\\u003eNet active power: -0.5878235697746277\\u003cbr\\u003eNet apparent power: -0.2953895926475525\\u003cbr\\u003eVoltage magnitude: 0.7740272879600525\\u003cbr\\u003e\"],\"x\":[0.42332022327569113,0.2490092422149732,0.321894351596839,-0.0017881044384517844,0.06869221742851511,-0.03044196460425816,0.04233367638404053,0.24551790727829667,0.050791052993685,-0.43505196546893077,-0.19222561711993943,0.01411272132342587,-0.048266613624157594,0.03361868925155842,-0.039249733749000086,-0.17752773264455213,-0.08543428316553102,0.13109518063699235,0.09686444972748613,-0.07262816267563671,-0.2773319969197077,-0.0612059284212291,0.05123187353741828,-0.3073294828175285],\"y\":[0.19495030098866561,0.04640791897266676,0.3800266319174318,0.862649384339657,0.6491618644701156,0.7163468053838162,0.3381529732721178,-0.2910823545289655,0.4522351200283451,0.5580318193110982,0.4768603526749598,0.13831658313870973,0.4008482726060411,0.25133782187015813,-0.19972315799544504,0.17897813943363736,-0.5068591039166181,-0.5794508981763491,-0.8555180365402052,-0.8146116452675509,-0.33282363037045576,-0.9884672298787486,-1.0,-0.07576793173308342],\"type\":\"scatter\"}],                        {\"hovermode\":\"closest\",\"margin\":{\"b\":20,\"l\":5,\"r\":5,\"t\":40},\"showlegend\":false,\"title\":{\"font\":{\"size\":16},\"text\":\"Red el\\u00e9ctrica\"},\"xaxis\":{\"showgrid\":false,\"showticklabels\":false,\"zeroline\":false},\"yaxis\":{\"showgrid\":false,\"showticklabels\":false,\"zeroline\":false},\"template\":{\"data\":{\"histogram2dcontour\":[{\"type\":\"histogram2dcontour\",\"colorbar\":{\"outlinewidth\":0,\"ticks\":\"\"},\"colorscale\":[[0.0,\"#0d0887\"],[0.1111111111111111,\"#46039f\"],[0.2222222222222222,\"#7201a8\"],[0.3333333333333333,\"#9c179e\"],[0.4444444444444444,\"#bd3786\"],[0.5555555555555556,\"#d8576b\"],[0.6666666666666666,\"#ed7953\"],[0.7777777777777778,\"#fb9f3a\"],[0.8888888888888888,\"#fdca26\"],[1.0,\"#f0f921\"]]}],\"choropleth\":[{\"type\":\"choropleth\",\"colorbar\":{\"outlinewidth\":0,\"ticks\":\"\"}}],\"histogram2d\":[{\"type\":\"histogram2d\",\"colorbar\":{\"outlinewidth\":0,\"ticks\":\"\"},\"colorscale\":[[0.0,\"#0d0887\"],[0.1111111111111111,\"#46039f\"],[0.2222222222222222,\"#7201a8\"],[0.3333333333333333,\"#9c179e\"],[0.4444444444444444,\"#bd3786\"],[0.5555555555555556,\"#d8576b\"],[0.6666666666666666,\"#ed7953\"],[0.7777777777777778,\"#fb9f3a\"],[0.8888888888888888,\"#fdca26\"],[1.0,\"#f0f921\"]]}],\"heatmap\":[{\"type\":\"heatmap\",\"colorbar\":{\"outlinewidth\":0,\"ticks\":\"\"},\"colorscale\":[[0.0,\"#0d0887\"],[0.1111111111111111,\"#46039f\"],[0.2222222222222222,\"#7201a8\"],[0.3333333333333333,\"#9c179e\"],[0.4444444444444444,\"#bd3786\"],[0.5555555555555556,\"#d8576b\"],[0.6666666666666666,\"#ed7953\"],[0.7777777777777778,\"#fb9f3a\"],[0.8888888888888888,\"#fdca26\"],[1.0,\"#f0f921\"]]}],\"heatmapgl\":[{\"type\":\"heatmapgl\",\"colorbar\":{\"outlinewidth\":0,\"ticks\":\"\"},\"colorscale\":[[0.0,\"#0d0887\"],[0.1111111111111111,\"#46039f\"],[0.2222222222222222,\"#7201a8\"],[0.3333333333333333,\"#9c179e\"],[0.4444444444444444,\"#bd3786\"],[0.5555555555555556,\"#d8576b\"],[0.6666666666666666,\"#ed7953\"],[0.7777777777777778,\"#fb9f3a\"],[0.8888888888888888,\"#fdca26\"],[1.0,\"#f0f921\"]]}],\"contourcarpet\":[{\"type\":\"contourcarpet\",\"colorbar\":{\"outlinewidth\":0,\"ticks\":\"\"}}],\"contour\":[{\"type\":\"contour\",\"colorbar\":{\"outlinewidth\":0,\"ticks\":\"\"},\"colorscale\":[[0.0,\"#0d0887\"],[0.1111111111111111,\"#46039f\"],[0.2222222222222222,\"#7201a8\"],[0.3333333333333333,\"#9c179e\"],[0.4444444444444444,\"#bd3786\"],[0.5555555555555556,\"#d8576b\"],[0.6666666666666666,\"#ed7953\"],[0.7777777777777778,\"#fb9f3a\"],[0.8888888888888888,\"#fdca26\"],[1.0,\"#f0f921\"]]}],\"surface\":[{\"type\":\"surface\",\"colorbar\":{\"outlinewidth\":0,\"ticks\":\"\"},\"colorscale\":[[0.0,\"#0d0887\"],[0.1111111111111111,\"#46039f\"],[0.2222222222222222,\"#7201a8\"],[0.3333333333333333,\"#9c179e\"],[0.4444444444444444,\"#bd3786\"],[0.5555555555555556,\"#d8576b\"],[0.6666666666666666,\"#ed7953\"],[0.7777777777777778,\"#fb9f3a\"],[0.8888888888888888,\"#fdca26\"],[1.0,\"#f0f921\"]]}],\"mesh3d\":[{\"type\":\"mesh3d\",\"colorbar\":{\"outlinewidth\":0,\"ticks\":\"\"}}],\"scatter\":[{\"fillpattern\":{\"fillmode\":\"overlay\",\"size\":10,\"solidity\":0.2},\"type\":\"scatter\"}],\"parcoords\":[{\"type\":\"parcoords\",\"line\":{\"colorbar\":{\"outlinewidth\":0,\"ticks\":\"\"}}}],\"scatterpolargl\":[{\"type\":\"scatterpolargl\",\"marker\":{\"colorbar\":{\"outlinewidth\":0,\"ticks\":\"\"}}}],\"bar\":[{\"error_x\":{\"color\":\"#2a3f5f\"},\"error_y\":{\"color\":\"#2a3f5f\"},\"marker\":{\"line\":{\"color\":\"#E5ECF6\",\"width\":0.5},\"pattern\":{\"fillmode\":\"overlay\",\"size\":10,\"solidity\":0.2}},\"type\":\"bar\"}],\"scattergeo\":[{\"type\":\"scattergeo\",\"marker\":{\"colorbar\":{\"outlinewidth\":0,\"ticks\":\"\"}}}],\"scatterpolar\":[{\"type\":\"scatterpolar\",\"marker\":{\"colorbar\":{\"outlinewidth\":0,\"ticks\":\"\"}}}],\"histogram\":[{\"marker\":{\"pattern\":{\"fillmode\":\"overlay\",\"size\":10,\"solidity\":0.2}},\"type\":\"histogram\"}],\"scattergl\":[{\"type\":\"scattergl\",\"marker\":{\"colorbar\":{\"outlinewidth\":0,\"ticks\":\"\"}}}],\"scatter3d\":[{\"type\":\"scatter3d\",\"line\":{\"colorbar\":{\"outlinewidth\":0,\"ticks\":\"\"}},\"marker\":{\"colorbar\":{\"outlinewidth\":0,\"ticks\":\"\"}}}],\"scattermapbox\":[{\"type\":\"scattermapbox\",\"marker\":{\"colorbar\":{\"outlinewidth\":0,\"ticks\":\"\"}}}],\"scatterternary\":[{\"type\":\"scatterternary\",\"marker\":{\"colorbar\":{\"outlinewidth\":0,\"ticks\":\"\"}}}],\"scattercarpet\":[{\"type\":\"scattercarpet\",\"marker\":{\"colorbar\":{\"outlinewidth\":0,\"ticks\":\"\"}}}],\"carpet\":[{\"aaxis\":{\"endlinecolor\":\"#2a3f5f\",\"gridcolor\":\"white\",\"linecolor\":\"white\",\"minorgridcolor\":\"white\",\"startlinecolor\":\"#2a3f5f\"},\"baxis\":{\"endlinecolor\":\"#2a3f5f\",\"gridcolor\":\"white\",\"linecolor\":\"white\",\"minorgridcolor\":\"white\",\"startlinecolor\":\"#2a3f5f\"},\"type\":\"carpet\"}],\"table\":[{\"cells\":{\"fill\":{\"color\":\"#EBF0F8\"},\"line\":{\"color\":\"white\"}},\"header\":{\"fill\":{\"color\":\"#C8D4E3\"},\"line\":{\"color\":\"white\"}},\"type\":\"table\"}],\"barpolar\":[{\"marker\":{\"line\":{\"color\":\"#E5ECF6\",\"width\":0.5},\"pattern\":{\"fillmode\":\"overlay\",\"size\":10,\"solidity\":0.2}},\"type\":\"barpolar\"}],\"pie\":[{\"automargin\":true,\"type\":\"pie\"}]},\"layout\":{\"autotypenumbers\":\"strict\",\"colorway\":[\"#636efa\",\"#EF553B\",\"#00cc96\",\"#ab63fa\",\"#FFA15A\",\"#19d3f3\",\"#FF6692\",\"#B6E880\",\"#FF97FF\",\"#FECB52\"],\"font\":{\"color\":\"#2a3f5f\"},\"hovermode\":\"closest\",\"hoverlabel\":{\"align\":\"left\"},\"paper_bgcolor\":\"white\",\"plot_bgcolor\":\"#E5ECF6\",\"polar\":{\"bgcolor\":\"#E5ECF6\",\"angularaxis\":{\"gridcolor\":\"white\",\"linecolor\":\"white\",\"ticks\":\"\"},\"radialaxis\":{\"gridcolor\":\"white\",\"linecolor\":\"white\",\"ticks\":\"\"}},\"ternary\":{\"bgcolor\":\"#E5ECF6\",\"aaxis\":{\"gridcolor\":\"white\",\"linecolor\":\"white\",\"ticks\":\"\"},\"baxis\":{\"gridcolor\":\"white\",\"linecolor\":\"white\",\"ticks\":\"\"},\"caxis\":{\"gridcolor\":\"white\",\"linecolor\":\"white\",\"ticks\":\"\"}},\"coloraxis\":{\"colorbar\":{\"outlinewidth\":0,\"ticks\":\"\"}},\"colorscale\":{\"sequential\":[[0.0,\"#0d0887\"],[0.1111111111111111,\"#46039f\"],[0.2222222222222222,\"#7201a8\"],[0.3333333333333333,\"#9c179e\"],[0.4444444444444444,\"#bd3786\"],[0.5555555555555556,\"#d8576b\"],[0.6666666666666666,\"#ed7953\"],[0.7777777777777778,\"#fb9f3a\"],[0.8888888888888888,\"#fdca26\"],[1.0,\"#f0f921\"]],\"sequentialminus\":[[0.0,\"#0d0887\"],[0.1111111111111111,\"#46039f\"],[0.2222222222222222,\"#7201a8\"],[0.3333333333333333,\"#9c179e\"],[0.4444444444444444,\"#bd3786\"],[0.5555555555555556,\"#d8576b\"],[0.6666666666666666,\"#ed7953\"],[0.7777777777777778,\"#fb9f3a\"],[0.8888888888888888,\"#fdca26\"],[1.0,\"#f0f921\"]],\"diverging\":[[0,\"#8e0152\"],[0.1,\"#c51b7d\"],[0.2,\"#de77ae\"],[0.3,\"#f1b6da\"],[0.4,\"#fde0ef\"],[0.5,\"#f7f7f7\"],[0.6,\"#e6f5d0\"],[0.7,\"#b8e186\"],[0.8,\"#7fbc41\"],[0.9,\"#4d9221\"],[1,\"#276419\"]]},\"xaxis\":{\"gridcolor\":\"white\",\"linecolor\":\"white\",\"ticks\":\"\",\"title\":{\"standoff\":15},\"zerolinecolor\":\"white\",\"automargin\":true,\"zerolinewidth\":2},\"yaxis\":{\"gridcolor\":\"white\",\"linecolor\":\"white\",\"ticks\":\"\",\"title\":{\"standoff\":15},\"zerolinecolor\":\"white\",\"automargin\":true,\"zerolinewidth\":2},\"scene\":{\"xaxis\":{\"backgroundcolor\":\"#E5ECF6\",\"gridcolor\":\"white\",\"linecolor\":\"white\",\"showbackground\":true,\"ticks\":\"\",\"zerolinecolor\":\"white\",\"gridwidth\":2},\"yaxis\":{\"backgroundcolor\":\"#E5ECF6\",\"gridcolor\":\"white\",\"linecolor\":\"white\",\"showbackground\":true,\"ticks\":\"\",\"zerolinecolor\":\"white\",\"gridwidth\":2},\"zaxis\":{\"backgroundcolor\":\"#E5ECF6\",\"gridcolor\":\"white\",\"linecolor\":\"white\",\"showbackground\":true,\"ticks\":\"\",\"zerolinecolor\":\"white\",\"gridwidth\":2}},\"shapedefaults\":{\"line\":{\"color\":\"#2a3f5f\"}},\"annotationdefaults\":{\"arrowcolor\":\"#2a3f5f\",\"arrowhead\":0,\"arrowwidth\":1},\"geo\":{\"bgcolor\":\"white\",\"landcolor\":\"#E5ECF6\",\"subunitcolor\":\"white\",\"showland\":true,\"showlakes\":true,\"lakecolor\":\"white\"},\"title\":{\"x\":0.05},\"mapbox\":{\"style\":\"light\"}}}},                        {\"responsive\": true}                    ).then(function(){\n",
       "                            \n",
       "var gd = document.getElementById('ac4a106a-725c-4a5f-8d65-59314e6ec27d');\n",
       "var x = new MutationObserver(function (mutations, observer) {{\n",
       "        var display = window.getComputedStyle(gd).display;\n",
       "        if (!display || display === 'none') {{\n",
       "            console.log([gd, 'removed!']);\n",
       "            Plotly.purge(gd);\n",
       "            observer.disconnect();\n",
       "        }}\n",
       "}});\n",
       "\n",
       "// Listen for the removal of the full notebook cells\n",
       "var notebookContainer = gd.closest('#notebook-container');\n",
       "if (notebookContainer) {{\n",
       "    x.observe(notebookContainer, {childList: true});\n",
       "}}\n",
       "\n",
       "// Listen for the clearing of the current output cell\n",
       "var outputEl = gd.closest('.output');\n",
       "if (outputEl) {{\n",
       "    x.observe(outputEl, {childList: true});\n",
       "}}\n",
       "\n",
       "                        })                };                });            </script>        </div>"
      ]
     },
     "metadata": {},
     "output_type": "display_data"
    }
   ],
   "source": [
    "show_graph(dataset[0])"
   ]
  }
 ],
 "metadata": {
  "kernelspec": {
   "display_name": "Python 3 (ipykernel)",
   "language": "python",
   "name": "python3"
  },
  "language_info": {
   "codemirror_mode": {
    "name": "ipython",
    "version": 3
   },
   "file_extension": ".py",
   "mimetype": "text/x-python",
   "name": "python",
   "nbconvert_exporter": "python",
   "pygments_lexer": "ipython3",
   "version": "3.12.3"
  }
 },
 "nbformat": 4,
 "nbformat_minor": 2
}
